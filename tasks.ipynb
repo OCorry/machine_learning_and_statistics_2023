{
 "cells": [
  {
   "cell_type": "markdown",
   "metadata": {},
   "source": [
    "# **<span style=\"color:blue\"> Weekly Tasks </span>**\n",
    "\n",
    "\n",
    "#### This notebook contains the required weekly tasks for the completion of module Machine Learning and Statistics 23/24. \n",
    "\n",
    "***"
   ]
  },
  {
   "cell_type": "markdown",
   "metadata": {},
   "source": [
    "## <span style=\"color:blue\"> Task 1 </span>\n",
    "> *Square roots are difficult to calculate. In Python, you typically use the power operator (a double asterisk) or a package such as `math`. In this task, you should write a function `sqrt(x)` to approximate the square root of a floating point number x without using the power operator or a package.*\n",
    "\n",
    ">*Rather, you should use the Newton’s method. Start with an initial guess for the square root called $z_{0}$. You then repeatedly improve it using the following formula, until the difference between some previous guess $z_{i}$ and the next $z_{i+1}$ is less than somen threshold, say 0.01.*"
   ]
  },
  {
   "cell_type": "markdown",
   "metadata": {},
   "source": [
    "$$ z_{i+1} = z{_i} - \\frac {z_i × z_i - x} {2z_i} $$"
   ]
  },
  {
   "cell_type": "code",
   "execution_count": 1,
   "metadata": {},
   "outputs": [],
   "source": [
    "# The number that we want to get the square root of\n",
    "\n",
    "x = 16"
   ]
  },
  {
   "cell_type": "code",
   "execution_count": 2,
   "metadata": {},
   "outputs": [],
   "source": [
    "# Our initial guess for the square root\n",
    "# Setting as floating point number as square root will be floating point unless x has a perfect square root \n",
    "z = 5 "
   ]
  },
  {
   "cell_type": "markdown",
   "metadata": {},
   "source": [
    "Now, we use Newton's method. Below, using ``z=5`` as the inital guess, the next approximation of the square root of 16 to be 4.1. This is a much more accureate approximation, as 4.1 is closer much to the true square root of 16 than the initial guess of 5. "
   ]
  },
  {
   "cell_type": "code",
   "execution_count": 3,
   "metadata": {},
   "outputs": [
    {
     "data": {
      "text/plain": [
       "4.1"
      ]
     },
     "execution_count": 3,
     "metadata": {},
     "output_type": "execute_result"
    }
   ],
   "source": [
    "# Calculate the first approximation for the square root of 16\n",
    "\n",
    "zfirst = z - (((z*z)-x) /(2*z))\n",
    "zfirst"
   ]
  },
  {
   "cell_type": "markdown",
   "metadata": {},
   "source": [
    "The next six cells of code show how using the previous approximate value of the square root of 16 ($z_0$), brings the next approximate value ($z_0$) closer and closer to the correct value each time the code is run (using the most recent approximate value for $z_0$)"
   ]
  },
  {
   "cell_type": "code",
   "execution_count": 4,
   "metadata": {},
   "outputs": [
    {
     "data": {
      "text/plain": [
       "4.001219512195122"
      ]
     },
     "execution_count": 4,
     "metadata": {},
     "output_type": "execute_result"
    }
   ],
   "source": [
    "zsecond = zfirst - (((zfirst*zfirst)-x)/(2*zfirst))\n",
    "zsecond"
   ]
  },
  {
   "cell_type": "code",
   "execution_count": 5,
   "metadata": {},
   "outputs": [
    {
     "data": {
      "text/plain": [
       "4.0000001858445895"
      ]
     },
     "execution_count": 5,
     "metadata": {},
     "output_type": "execute_result"
    }
   ],
   "source": [
    "zthird = zsecond - (((zsecond*zsecond) -x)/(2*zsecond))\n",
    "zthird"
   ]
  },
  {
   "cell_type": "code",
   "execution_count": 6,
   "metadata": {},
   "outputs": [
    {
     "data": {
      "text/plain": [
       "4.000000000000004"
      ]
     },
     "execution_count": 6,
     "metadata": {},
     "output_type": "execute_result"
    }
   ],
   "source": [
    "zfourth = zthird - (((zthird*zthird) - x)/(2*zthird))\n",
    "zfourth"
   ]
  },
  {
   "cell_type": "code",
   "execution_count": 7,
   "metadata": {},
   "outputs": [
    {
     "data": {
      "text/plain": [
       "4.0"
      ]
     },
     "execution_count": 7,
     "metadata": {},
     "output_type": "execute_result"
    }
   ],
   "source": [
    "zfifth = zfourth - (((zfourth*zfourth) - x)/(2*zfourth))\n",
    "zfifth"
   ]
  },
  {
   "cell_type": "code",
   "execution_count": 8,
   "metadata": {},
   "outputs": [
    {
     "data": {
      "text/plain": [
       "4.0"
      ]
     },
     "execution_count": 8,
     "metadata": {},
     "output_type": "execute_result"
    }
   ],
   "source": [
    "zsixth = zfifth - (((zfifth*zfifth) - x)/(2*zfifth))\n",
    "zsixth"
   ]
  },
  {
   "cell_type": "code",
   "execution_count": 9,
   "metadata": {},
   "outputs": [
    {
     "data": {
      "text/plain": [
       "4.0"
      ]
     },
     "execution_count": 9,
     "metadata": {},
     "output_type": "execute_result"
    }
   ],
   "source": [
    "zseventh = zsixth - (((zsixth*zsixth) - x)/(2*zsixth))\n",
    "zseventh"
   ]
  },
  {
   "cell_type": "markdown",
   "metadata": {},
   "source": [
    "To carry the above out using less lines of code, the following code could be used so that the value of $z_0$ is overwritten every time the code  is run:\n",
    "\n",
    "$$z = z - (((z*z)-x)/(2*z)) $$"
   ]
  },
  {
   "cell_type": "markdown",
   "metadata": {},
   "source": [
    "### <span style=\"color:blue\"> Creating a function to define the square roof of ``n`` Using a ``For Loop`` </span>"
   ]
  },
  {
   "cell_type": "code",
   "execution_count": 10,
   "metadata": {},
   "outputs": [],
   "source": [
    "def sqrt(n): # Defining the Function\n",
    "    z = n/4.0 # Setting a value for the approx value and storing it as a variable z   \n",
    "\n",
    "# Loop until we are accurate enough\n",
    "    for i in range(100):\n",
    "        # Newton's method for a better approximation.\n",
    "        z = z - (((z*z)-x) /(2*z))\n",
    "\n",
    "    return z"
   ]
  },
  {
   "cell_type": "code",
   "execution_count": 11,
   "metadata": {},
   "outputs": [
    {
     "data": {
      "text/plain": [
       "4.0"
      ]
     },
     "execution_count": 11,
     "metadata": {},
     "output_type": "execute_result"
    }
   ],
   "source": [
    "sqrt(16)"
   ]
  },
  {
   "cell_type": "markdown",
   "metadata": {},
   "source": [
    "### <span style=\"color:blue\"> Creating a function to define the square roof of ``n`` using a ``While Loop`` </span>"
   ]
  },
  {
   "cell_type": "markdown",
   "metadata": {},
   "source": [
    "The following code creates a function to define the square root of of a number. For this the number we will be looking to get the square root of will be given the value of <span style=\"color:red\"> \"n\" </span>. Firstly, we  use the ``def`` keyword followed by the name of the function we want to create ``sqrt``. In the brackets we pass the parameter <span style=\"color:red\">  \"n\" </span> into the function.\n",
    "\n",
    "I have sourced code from [How to Think Like a Computer Scientist: Learning with Python 3](https://openbookproject.net/thinkcs/python/english3e/iteration.html) and lecture videos from  [McLoughlin. I, 2023](https://atlantictu-my.sharepoint.com/personal/ian_mcloughlin_atu_ie/_layouts/15/stream.aspx?id=%2Fpersonal%2Fian%5Fmcloughlin%5Fatu%5Fie%2FDocuments%2Fstudent%5Fshares%2Fmachine%5Flearnning%5Fand%5Fstatistics%2F1%5Fgeneral%2Ft01v11%5Ftask%5Fone%5Fand%5Frepo%2Emkv&referrer=OneDriveForBusiness&referrerScenario=OpenFile) for the purpose of this task.\n",
    "\n",
    "The first guess <span style=\"color:red\"> n/2.0</span> is stored as variable <span style=\"color:red\"> \"approx\" </span>. \n",
    "\n",
    "Using a ``while True loop`` the function will continue to loop until the square root is found, using the code inside of it. \n",
    "\n",
    "In the loop the code works as follows: Firstly, Newton's method is used. The formula is saying that if the current approx figure $z{_i}$ MINUS the approx figure squared $(z_i)$ x $(z_i)$ - $n$, all divided by the approx figure multiplied by two (${2z_i} $) is all equal to the new approx figure $z_{i+1}$, then the square root is found.\n",
    "\n",
    "$$ z_{i+1} = z{_i} - \\frac {z_i × z_i - n} {2z_i} $$\n",
    "\n",
    " Take for example, approx <span style=\"color:red\"> \"z\"</span> to be equal to 2 and <span style=\"color:red\"> \"n\"</span> to be 4 to demonstrate Newton's Method:\n",
    "\n",
    "$$ 2_{i+1} = 2{_i} - \\frac {2_i × 2_i - 4} {2(2)_i}$$\n",
    "\n",
    "$$ 2= 2- \\frac {2 × 2 - 4} {4} $$ \n",
    "\n",
    "$$2 = 2- \\frac {4 - 4} {4}$$\n",
    "\n",
    "$$2 = 2- \\frac {0} {4}$$\n",
    "\n",
    "$$2 = 2-0$$\n",
    "\n",
    "$$2 = 2$$\n",
    "\n",
    "\n",
    "The next line of code is stating that if the value of the first approx figure is equal to the new approx figure, then return the new approx figure.\n",
    "\n",
    "Finally to test the function, the ``print`` command is used and a figure (for example 27) is passed in to get the square root of it. \n",
    "\n",
    "The whole function is demonstrated below:"
   ]
  },
  {
   "cell_type": "code",
   "execution_count": 12,
   "metadata": {},
   "outputs": [
    {
     "name": "stdout",
     "output_type": "stream",
     "text": [
      "5.196152422706632\n"
     ]
    }
   ],
   "source": [
    "def sqrt(n): # Defining the Function\n",
    "    approx = n/2.0 # Setting a value for the approx value and storing it as a variable approx    \n",
    "    while True: # While the following is true:\n",
    "        newApprox = approx - (((approx*approx)-n)/(2*approx)) # Using Newton's method\n",
    "        if abs(approx - newApprox) ==0: # If the difference between approx and newApprox figure is equal to 0\n",
    "            return newApprox # Return the new newApprox \n",
    "        approx = newApprox # Approx figure = newApprox figure \n",
    "\n",
    "# Testing the function        \n",
    "print(sqrt(27.0))"
   ]
  },
  {
   "cell_type": "markdown",
   "metadata": {},
   "source": [
    "Lastly, just to check the output from the function above is correct, use python to check the square root of 27. This gives the same figure as generated by the function above:"
   ]
  },
  {
   "cell_type": "code",
   "execution_count": 13,
   "metadata": {},
   "outputs": [
    {
     "data": {
      "text/plain": [
       "5.196152422706632"
      ]
     },
     "execution_count": 13,
     "metadata": {},
     "output_type": "execute_result"
    }
   ],
   "source": [
    "# Check pythons value for the square root of 27:\n",
    "27**0.5"
   ]
  },
  {
   "cell_type": "markdown",
   "metadata": {},
   "source": [
    "# **<span style=\"color:blue\"> References </span>**\n",
    "***"
   ]
  },
  {
   "cell_type": "markdown",
   "metadata": {},
   "source": [
    "Document 360. How to change the color of the text in Markdown? 30 March 2023. <https://docs.document360.com/docs/how-to-change-the-color-of-the-text-in-markdown>.\n",
    "\n",
    "\n",
    "Markdown Basics. 04 October 2023. <https://docs.document360.com/docs/how-to-change-the-color-of-the-text-in-markdown>\n",
    "\n",
    "\n",
    "Overleaf. How do I use Subscripts? 2023. <https://www.overleaf.com/learn/latex/Questions/How_do_I_use_subscripts%3F>\n",
    "\n",
    "\n",
    "Soualem, Nadir. Math-Linux.com. 02 April 2023. <https://www.math-linux.com/latex-26/faq/latex-faq/article/latex-derivatives-limits-sums-products-and-integrals>\n",
    "\n",
    "\n",
    "Peter Wentworth, Jeffrey Elkner, Allen B. Downey, and Chris Meyers. How to Think Like a Computer Scientist: Learning with Python 3. October 2012. https://openbookproject.net/thinkcs/python/english3e/iteration.html\n",
    "\n",
    "Dionysia Lemonaki While Loops in Python - While True Loop Statement Example. 19 July 2022. https://www.freecodecamp.org/news/while-loops-in-python-while-true-loop-statement-example/#while-true\n",
    "\n",
    "Ian McLoughlin. t01v11_task_one_and_repo. 13 September 2023. \n",
    "https://atlantictu-my.sharepoint.com/personal/ian_mcloughlin_atu_ie/_layouts/15/stream.aspx?id=%2Fpersonal%2Fian%5Fmcloughlin%5Fatu%5Fie%2FDocuments%2Fstudent%5Fshares%2Fmachine%5Flearnning%5Fand%5Fstatistics%2F1%5Fgeneral%2Ft01v11%5Ftask%5Fone%5Fand%5Frepo%2Emkv&referrer=OneDriveForBusiness&referrerScenario=OpenFile\n",
    "\n"
   ]
  },
  {
   "cell_type": "markdown",
   "metadata": {},
   "source": [
    "# **<span style=\"color:blue\"> End </span>**\n",
    "***"
   ]
  }
 ],
 "metadata": {
  "kernelspec": {
   "display_name": "base",
   "language": "python",
   "name": "python3"
  },
  "language_info": {
   "codemirror_mode": {
    "name": "ipython",
    "version": 3
   },
   "file_extension": ".py",
   "mimetype": "text/x-python",
   "name": "python",
   "nbconvert_exporter": "python",
   "pygments_lexer": "ipython3",
   "version": "3.11.5"
  }
 },
 "nbformat": 4,
 "nbformat_minor": 2
}
