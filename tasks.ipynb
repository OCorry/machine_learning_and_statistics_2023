{
 "cells": [
  {
   "cell_type": "markdown",
   "metadata": {},
   "source": [
    "# **<span style=\"color:blue\"> Weekly Tasks </span>**\n",
    "***"
   ]
  },
  {
   "cell_type": "markdown",
   "metadata": {},
   "source": [
    "## <span style =\"color:blue\">Introduction</span>\n",
    "This notebook contains the five required tasks as part of the completion of the module Machine Learning and Statistics 2023/2024. \n",
    "\n",
    "For this notebook, I have used and adapted code provided in lecturers from my lecturer, Ian McLoughlin. I have referenced all other sources throughout the notebook and at the references section at the end.\n",
    "\n",
    "I will begin by importing all of the relevant libraries required for the successful completion of the tasks\n",
    "\n",
    "***"
   ]
  },
  {
   "cell_type": "code",
   "execution_count": 1,
   "metadata": {},
   "outputs": [],
   "source": [
    "# Importing Libraries \n",
    "\n",
    "# For Working With Dataframes\n",
    "import pandas as pd\n",
    "\n",
    "# For doing Statistics \n",
    "import scipy.stats as ss\n",
    "\n",
    "# Shuffle the simulated data\n",
    "import random as rd\n",
    "\n",
    "# Plotting data\n",
    "import seaborn as sns\n",
    "import matplotlib.pyplot as plt\n",
    "\n",
    "# For working with Dataframe\n",
    "import numpy as np\n",
    "\n",
    "# Machine Learning\n",
    "import sklearn as sk\n",
    "\n",
    "# Decomposition \n",
    "import sklearn.decomposition as dec\n",
    "\n",
    "# Preprocessing.\n",
    "import sklearn.preprocessing as pre\n",
    "\n",
    "# Nearest neighbors\n",
    "import sklearn.neighbors as nei\n",
    "\n",
    "# Naive Bayes\n",
    "from sklearn.naive_bayes import GaussianNB\n",
    "\n",
    "# Random Forest \n",
    "from sklearn.ensemble import RandomForestClassifier"
   ]
  },
  {
   "cell_type": "markdown",
   "metadata": {},
   "source": [
    "## <ins><span style=\"color:blue\"> Task 1 </span></ins>\n",
    "> *Square roots are difficult to calculate. In Python, you typically use the power operator (a double asterisk) or a package such as `math`. In this task, you should write a function `sqrt(x)` to approximate the square root of a floating point number x without using the power operator or a package.*\n",
    "\n",
    ">*Rather, you should use the Newton’s method. Start with an initial guess for the square root called $z_{0}$. You then repeatedly improve it using the following formula, until the difference between some previous guess $z_{i}$ and the next $z_{i+1}$ is less than some threshold, say 0.01.*\n",
    ">$$ z_{i+1} = z{_i} - \\frac {z_i × z_i - x} {2z_i} $$ "
   ]
  },
  {
   "cell_type": "markdown",
   "metadata": {},
   "source": [
    "### <span style =\"color:blue\">Introduction</span>\n",
    "\n",
    "Using Python there are different ways of caculating the sqaure root of a number. For example, by importing the ``math`` module the **sqrt()** function can be used [Ronquillo. A, 2019](https://realpython.com/python-square-root-function/#:~:text=sqrt()%20has%20a%20straightforward,as%20a%20floating%20point%20number.)<sup>1</sup>. In addition, the square root of a number can be got by importing the ``numpy`` library and again using the **sqrt()** function. The ``Numpy sqrt()`` allows one to calculate the square root of an array of numbers [geeksforgeeks](https://www.geeksforgeeks.org/numpy-sqrt-in-python/)<sup>2</sup>.\n",
    "\n",
    "However for the purpose of this task, I will be using a [While Loop](https://www.w3schools.com/python/python_while_loops.asp)<sup>3</sup> and a [For loop](https://www.w3schools.com/python/python_for_loops.asp)<sup>4</sup> to work with Newton's Method. Newton's Method is also known as the Newton-Raphson Method which is named after [Isaac Newton](https://en.wikipedia.org/wiki/Isaac_Newton)<sup>5</sup> and [Joseph Raphson](https://en.wikipedia.org/wiki/Joseph_Raphson.)<sup>6</sup>, [Wikipedia, 2023](https://en.wikipedia.org/wiki/Newton%27s_method)<sup>7</sup>.\n",
    "\n",
    "\n",
    "<figure>\n",
    "<img src = \"./images/Sir_Isaac_Newton.jpg\"\n",
    "svg.png  height = \"250\" > \n",
    "    <figcaption>Isaac Newton</figcaption></br>\n",
    "    <figcaption>Image Source: https://en.wikipedia.org/wiki/Isaac_Newton</figcaption>\n",
    "</figure>\n",
    "<br/>\n",
    "</br>\n",
    "<figure>\n",
    "<img src = \"./images/joseph_raphson.jpg\"\n",
    "svg.png  height = \"250\" > \n",
    "    <figcaption>Joseph Raphson</figcaption></br>\n",
    "    <figcaption>Image Source: https://www.xwhos.com/person/joseph_raphson-whois.html</figcaption>\n",
    "</figure>\n",
    "</br>\n",
    "\n"
   ]
  },
  {
   "cell_type": "markdown",
   "metadata": {},
   "source": [
    "### <span style =\"color:blue\">Newton's Method</span>\n",
    "Firstly, lets look at how Newton's method works:\n",
    "\n",
    "$$ z_{i+1} = z{_i} - \\frac {z_i × z_i - n} {2z_i} $$\n",
    " Take for example, the first approx guess $z$ to be equal to 2 and $n$ to be equal to 4, where $n$ is the number we are looking to get the square root of. $z_{i+1}$ is the next approx figure that will be generated from the function.\n",
    "\n",
    "$$ z_{i+1} = 2{_i} - \\frac {2_i × 2_i - 4} {2(2)_i}$$\n",
    "\n",
    "$$ z_{i+1}= 2- \\frac {2 × 2 - 4} {4} $$ \n",
    "\n",
    "$$ z_{i+1}= 2- \\frac {4 - 4} {4}$$\n",
    "\n",
    "$$ z_{i+1}= 2- \\frac {0} {4}$$\n",
    "\n",
    "$$ z_{i+1}= 2-0$$\n",
    "\n",
    "$$ z_{i+1}= 2$$\n",
    "\n",
    "\n",
    "In this case, it worked out perfectly, as we knew that 2 is the sqaure root of 4. However, if we had taken 3 as the first guess for example, the function would have to be re-run again using the value found for $z_{i+1}$ as the next input value for $z{_i}$. This would continue until the correct square root is found and the result remains the same, even if the process is repeated over and over."
   ]
  },
  {
   "cell_type": "markdown",
   "metadata": {},
   "source": [
    "### <span style=\"color:blue\"> Creating a function to define the square roof of ``n`` using a ``While Loop`` </span>"
   ]
  },
  {
   "cell_type": "markdown",
   "metadata": {},
   "source": [
    "I have sourced code from [How to Think Like a Computer Scientist: Learning with Python 3](https://openbookproject.net/thinkcs/python/english3e/iteration.html)<sup>8</sup> and lecture videos from  [McLoughlin. I, 2023](https://atlantictu-my.sharepoint.com/personal/ian_mcloughlin_atu_ie/_layouts/15/stream.aspx?id=%2Fpersonal%2Fian%5Fmcloughlin%5Fatu%5Fie%2FDocuments%2Fstudent%5Fshares%2Fmachine%5Flearnning%5Fand%5Fstatistics%2F1%5Fgeneral%2Ft01v11%5Ftask%5Fone%5Fand%5Frepo%2Emkv&referrer=OneDriveForBusiness&referrerScenario=OpenFile)<sup>9</sup>  for the purpose of this task."
   ]
  },
  {
   "cell_type": "code",
   "execution_count": 2,
   "metadata": {},
   "outputs": [
    {
     "name": "stdout",
     "output_type": "stream",
     "text": [
      "500.0\n"
     ]
    }
   ],
   "source": [
    "def sqrt(n): # Defining the Function\n",
    "    approx = n/2.0 # Setting a value for the approx value and storing it as a variable approx    \n",
    "    while True: # While the following is true:\n",
    "        newApprox = approx - (((approx*approx)-n)/(2*approx)) # Using Newton's method\n",
    "        if abs(approx - newApprox) ==0: # If the difference between approx and newApprox figure is equal to 0\n",
    "            return newApprox # Return the new newApprox \n",
    "        approx = newApprox # Approx figure = newApprox figure \n",
    "\n",
    "# Testing the function        \n",
    "print(sqrt(250000))"
   ]
  },
  {
   "cell_type": "markdown",
   "metadata": {},
   "source": [
    "#### <span style=\"color:blue\">Explanation of the above code</span>\n",
    "\n",
    "The above code defines a function which will get the square root of a number. For this, the number we will be looking to get the square root of will be given the value of  ``n``. Firstly, we  use the ``def`` keyword followed by the name of the function we want to create. In this case, the name of the funciton is ``sqrt``. In the brackets we pass the parameter ``n`` into the function.\n",
    "\n",
    "\n",
    "The first guess ``n/2.0`` is stored as variable ``approx``. \n",
    "\n",
    "Using a ``while True loop`` the function will continue to loop until the square root is found, using the code inside of it. \n",
    "\n",
    "In the loop, the code works as follows: Firstly, Newton's method is used. The formula is saying that if the current approx figure $z{_i}$ MINUS the approx figure squared $(z_i)$ x $(z_i)$ - $n$, all divided by the approx figure multiplied by two (${2z_i} $) is all equal to the new approx figure $z_{i+1}$, then the square root is found.\n",
    "\n",
    "$$ z_{i+1} = z{_i} - \\frac {z_i × z_i - n} {2z_i} $$\n",
    "\n",
    "\n",
    "\n",
    "The next line of code is stating that if the value of the first approx figure is equal to the new approx figure, then return the new approx figure.\n",
    "\n",
    "Finally to test the function, the ``print`` command is used and a figure (for example 250,000) is passed in to get the square root of it. "
   ]
  },
  {
   "cell_type": "markdown",
   "metadata": {},
   "source": [
    "#### <span style=\"color:blue\">Checking to see if the While Loop Worked</span>\n",
    "Lastly, just to check the output from the function above is correct, use python to check the square root of 250,000. This gives the same figure as generated by the function above which is 500."
   ]
  },
  {
   "cell_type": "code",
   "execution_count": 3,
   "metadata": {},
   "outputs": [
    {
     "data": {
      "text/plain": [
       "500.0"
      ]
     },
     "execution_count": 3,
     "metadata": {},
     "output_type": "execute_result"
    }
   ],
   "source": [
    "# Check pythons value for the square root of 27:\n",
    "250000**0.5"
   ]
  },
  {
   "cell_type": "markdown",
   "metadata": {},
   "source": [
    "#### <span style=\"color:blue\"> Creating a function to define the square root of ``n`` Using a ``For Loop`` </span>\n",
    "\n",
    "Below, we are using a ``for loop`` to loop through the function to get the square root of the value ``n``. Again, the function is defined using the ``def`` keyword and the function is given the name ``sqrt()``and the parameter ``n`` is passed in. We set the initial guess to be $z = n/4.0$ and loop through 10 times to get the square root of ``n``. We close the function by calling the ``return`` command."
   ]
  },
  {
   "cell_type": "code",
   "execution_count": 4,
   "metadata": {},
   "outputs": [],
   "source": [
    "# Defining the square root Function\n",
    "def sqrt(n): \n",
    "    z = n/4.0 # Setting a value for the approx value and storing it as a variable z   \n",
    "\n",
    "# Loop until we are accurate enough\n",
    "# Loop 10 times \n",
    "    for i in range(5):\n",
    "        # Newton's method for a better approximation.\n",
    "        z = z - (((z*z)-n) /(2*z))\n",
    "\n",
    "    return z"
   ]
  },
  {
   "cell_type": "markdown",
   "metadata": {},
   "source": [
    "Next, using the ``sqrt()`` function defined above, we can calculate the square root of a number. In my example below, I have chosen 250,000 and it has given me a result of 200 as the square root."
   ]
  },
  {
   "cell_type": "code",
   "execution_count": 5,
   "metadata": {},
   "outputs": [
    {
     "name": "stdout",
     "output_type": "stream",
     "text": [
      "1996.0\n"
     ]
    }
   ],
   "source": [
    "#get the square root of 16 using the function defined above\n",
    "squareRoot= sqrt(250000)\n",
    "print (round(squareRoot,0))"
   ]
  },
  {
   "cell_type": "markdown",
   "metadata": {},
   "source": [
    "Again, to check the function worked and calculated the correct square root of 250,000, we can use Python to calculate the square root of 250,000."
   ]
  },
  {
   "cell_type": "code",
   "execution_count": 6,
   "metadata": {},
   "outputs": [
    {
     "data": {
      "text/plain": [
       "500.0"
      ]
     },
     "execution_count": 6,
     "metadata": {},
     "output_type": "execute_result"
    }
   ],
   "source": [
    "# Check using Python \n",
    "250000**0.5"
   ]
  },
  {
   "cell_type": "markdown",
   "metadata": {},
   "source": [
    "### <span style=\"color:blue\"> Conclusion</span>\n",
    "\n",
    "Using the ``While Loop`` and ``For Loop`` to get the sqaure root of 250,000 shows that the ``While Loop`` is the superior option when carrying out Newton's Method. This is because the ``For Loop`` requires the user to input how many times it will loop through the block of code. \n",
    "\n",
    "In the example above, I asked the ``For Loop`` to loop through the block of code 5 times. This gave a result of 1996 which is very far away from the correct square root of 500.0. Clearly, I didnt ask it to loop enough of times so Newtons Method was not re-applied to the new approximate square rootenough of times in order to get the correct square root.\n",
    "\n",
    "However the ``While True Loop``, will continue to loop until the correct square root is found, it does not require the user to input how many times the block of code is to be repeated."
   ]
  },
  {
   "cell_type": "markdown",
   "metadata": {},
   "source": [
    "# <span style=\"color:blue\">End</span>\n",
    "***"
   ]
  },
  {
   "cell_type": "markdown",
   "metadata": {},
   "source": [
    "## <ins><span style=\"color:blue\"> Task 2 </span></ins>\n",
    "\n",
    "> *Consider the below contingency table based on a survey asking respondents whether they prefer coffee or tea and whether they prefer plain or chocolate biscuits. Use scipy.stats to perform a chi-squared test to see whether there is any evidence of an association between drink preference and biscuit preference in this instance.*\n",
    "\n",
    "</br>\n",
    "<div align=\"center\">\n",
    "\n",
    "|        |               |*Biscuit*                                                                               |\n",
    "|--------|---------------|--------------------------------------------------------------------------------------  |\n",
    "|        |               |**Chocolate**  &nbsp; &nbsp; &nbsp;  **Plain**                                          |\n",
    "|***Drink*** |**Coffee**     |    43     &nbsp; &nbsp; &nbsp; &nbsp; &nbsp; &nbsp; &nbsp; &nbsp; &nbsp; &nbsp;  57|\n",
    "|        |**Tea**        |    56     &nbsp; &nbsp; &nbsp; &nbsp; &nbsp; &nbsp; &nbsp; &nbsp; &nbsp; &nbsp;      45|\n",
    "\n",
    "</div>"
   ]
  },
  {
   "cell_type": "markdown",
   "metadata": {},
   "source": [
    "#### <span style=\"color:blue\"> Synthasise a datset </span>"
   ]
  },
  {
   "cell_type": "markdown",
   "metadata": {},
   "source": [
    "Using the data from the contingency table above, first we synthasise a dataset using Python. First, four lists are created. Each list contains two strings, which are the names of the two categories."
   ]
  },
  {
   "cell_type": "code",
   "execution_count": 7,
   "metadata": {},
   "outputs": [],
   "source": [
    "# Create a list of coffee drinkers who prefer chocolate biscuits. There are 43 of them so muliply the list by 43\n",
    "# Put this list into another list so it generates 43 lists of coffee drinkers who prefer chocolate biscuits \n",
    "# Store this in a variable called coffee_choc\n",
    "\n",
    "coffee_choc = [['Coffee','Chocolate']]*43\n",
    "\n",
    "# Show - I have commented this out for the purposes of a neater notebook as it is a long list of data\n",
    "#coffee_choc"
   ]
  },
  {
   "cell_type": "code",
   "execution_count": 8,
   "metadata": {},
   "outputs": [],
   "source": [
    "# Create a list of tea drinkers who prefer chocolate biscuits There are 56 of them so muliply the list by 56\n",
    "# Put this list into another list so it generates 56 lists of tea drinkers who prefer chocolate biscuits\n",
    "# Store this in a variable called tea_choc\n",
    "\n",
    "tea_choc = [['Tea','Chocolate']]*56\n",
    "\n",
    "# Show - I have commented this out for the purposes of a neater notebook as it is a long list of data\n",
    "#tea_choc"
   ]
  },
  {
   "cell_type": "code",
   "execution_count": 9,
   "metadata": {},
   "outputs": [],
   "source": [
    "# Create a list of coffee drinkers who prefer plain biscuits There are 57 of them so muliply the list by 57\n",
    "# Put this list into another list so it generates 57 lists of coffee drinkers who prefer plain biscuits\n",
    "# Store this in a variable called coffee_plain\n",
    "\n",
    "coffee_plain = [['Coffee','Plain']]*57\n",
    "\n",
    "# Show - I have commented this out for the purposes of a neater notebook as it is a long list of data\n",
    "#coffee_plain"
   ]
  },
  {
   "cell_type": "code",
   "execution_count": 10,
   "metadata": {},
   "outputs": [],
   "source": [
    "# Create a list of tea drinkers who prefer plain biscuits There are 45 of them so muliply the list by 45\n",
    "# Put this list into another list so it generates 56 lists of tea drinkers who prefer plain biscuits\n",
    "# Store this in a variable called tea_plain\n",
    "\n",
    "tea_plain = [['Tea','Plain']]*45\n",
    "\n",
    "# Show - I have commented this out for the purposes of a neater notebook as it is a long list of data\n",
    "#tea_plain"
   ]
  },
  {
   "cell_type": "markdown",
   "metadata": {},
   "source": [
    "#### <span style=\"color:blue\">Concatinating the four lists</span>"
   ]
  },
  {
   "cell_type": "markdown",
   "metadata": {},
   "source": [
    "Next using the ``+`` operator, the four lists are [concatenated](https://www.freecodecamp.org/news/joining-lists-in-python-how-to-concat-lists/)<sup>10</sup> (or merged) and the merged dataset is stored as a valriable called raw_data. This creates a 2D list of all the raw data - in the form of an outer list which contains inner lists which in turn contians two strings. "
   ]
  },
  {
   "cell_type": "code",
   "execution_count": 11,
   "metadata": {},
   "outputs": [],
   "source": [
    "# Merge the four lists - creates a 2D list of all the raw data\n",
    "raw_data = coffee_choc + tea_choc + coffee_plain + tea_plain\n",
    "\n",
    "# Show - I have commented this out for the purposes of a neater notebook as it is a long list of data\n",
    "#raw_data"
   ]
  },
  {
   "cell_type": "markdown",
   "metadata": {},
   "source": [
    "#### <span style=\"color:blue\">Shuffle the data</span>"
   ]
  },
  {
   "cell_type": "markdown",
   "metadata": {},
   "source": [
    "At this point, it is very apparent that this data is simultated data due to the ordered structure it has in the ``raw data`` 2D list. To make this more realistic looking, the [random.shuffle](https://www.w3schools.com/python/ref_random_shuffle.asp)<sup>11</sup>  function from the [random](https://www.w3schools.com/python/module_random.asp)<sup>12</sup>  library can be used to shuffle the data. It is outer list rather than the inner list that is shuffled so the data itself within the inner list is not altered. This would not be done in the real world when collecting the raw data as it would be collected at random by nature."
   ]
  },
  {
   "cell_type": "code",
   "execution_count": 12,
   "metadata": {},
   "outputs": [],
   "source": [
    "# Shuffle the data\n",
    "rd.shuffle(raw_data) \n",
    "\n",
    "#Show \n",
    "#raw_data"
   ]
  },
  {
   "cell_type": "markdown",
   "metadata": {},
   "source": [
    "#### <span style=\"color:blue\">Zipping the data</span>"
   ]
  },
  {
   "cell_type": "markdown",
   "metadata": {},
   "source": [
    "Next, using the [zip() function ](https://www.programiz.com/python-programming/methods/built-in/zip)<sup>13</sup>  using the ``*`` operator to zip the data. The ``*`` [operator ](https://initialcommit.com/blog/python-zip-two-lists#:~:text=With%20the%20use%20of%20the,is%20assigned%20to%20the%20variable.&text=This%20operator%20is%20often%20used%20with%20the%20zip()%20function%20in%20Python.)<sup>14</sup>  which retruns the agrument (raw_data) as a [tuple ](https://www.w3schools.com/python/python_tuples.asp)<sup>15</sup> .\n",
    "\n",
    "This ``zip()`` function flips the data so that the outer and inner lists are flipped. Essentially, it makes the rows into columns and columns into rows so that the [Pandas Library](https://www.w3schools.com/python/pandas/pandas_dataframes.asp)<sup>16</sup>  can read the data and turn it into a dataframe. The data is now in the form of a list which contains two lists where each of the values from <span style=\"color:blue\">drink</span> and each of the values from <span style=\"color:blue\">biscuit</span> are now in their own respective two lists."
   ]
  },
  {
   "cell_type": "code",
   "execution_count": 13,
   "metadata": {},
   "outputs": [],
   "source": [
    "# Zip the list to flip the data so the outer and inner lists are flipped\n",
    "# This creates a list that contains 2 more inner lists - drink and biscuit \n",
    "\n",
    "drink, biscuit =  list(zip(*raw_data))\n",
    "\n",
    "# Show\n",
    "#drink, biscuit"
   ]
  },
  {
   "cell_type": "markdown",
   "metadata": {},
   "source": [
    "#### <span style=\"color:blue\"> Using Pandas to create a dataframe from the simulated data </span>"
   ]
  },
  {
   "cell_type": "markdown",
   "metadata": {},
   "source": [
    "Next, using [Pandas Library](https://www.w3schools.com/python/pandas/pandas_intro.asp#:~:text=Pandas%20is%20a%20Python%20library,by%20Wes%20McKinney%20in%202008.)<sup>17</sup> , a [dataframe](https://www.w3schools.com/python/pandas/pandas_dataframes.asp)<sup>18</sup>  which is a table containing columns and rows can be created using the above simulated data. The data is produced in the dataframe in two categories, with variable names 'Drink' and 'Biscuit'. The data is in a [dictionary](https://www.geeksforgeeks.org/python-dictionary/)<sup>19</sup> . The data is held in key:value pairs. Where the keys are the column names and the values are the data in the rows below them. The dataframe below is generated containing the 201 rows and 2 columns of data, where the rows are indexed starting from index 0 through to index 200 and the columns are indexed by the keys 'Drink' and 'Biscuit'."
   ]
  },
  {
   "cell_type": "code",
   "execution_count": 14,
   "metadata": {},
   "outputs": [
    {
     "data": {
      "text/html": [
       "<div>\n",
       "<style scoped>\n",
       "    .dataframe tbody tr th:only-of-type {\n",
       "        vertical-align: middle;\n",
       "    }\n",
       "\n",
       "    .dataframe tbody tr th {\n",
       "        vertical-align: top;\n",
       "    }\n",
       "\n",
       "    .dataframe thead th {\n",
       "        text-align: right;\n",
       "    }\n",
       "</style>\n",
       "<table border=\"1\" class=\"dataframe\">\n",
       "  <thead>\n",
       "    <tr style=\"text-align: right;\">\n",
       "      <th></th>\n",
       "      <th>Drink</th>\n",
       "      <th>Biscuit</th>\n",
       "    </tr>\n",
       "  </thead>\n",
       "  <tbody>\n",
       "    <tr>\n",
       "      <th>0</th>\n",
       "      <td>Tea</td>\n",
       "      <td>Chocolate</td>\n",
       "    </tr>\n",
       "    <tr>\n",
       "      <th>1</th>\n",
       "      <td>Coffee</td>\n",
       "      <td>Plain</td>\n",
       "    </tr>\n",
       "    <tr>\n",
       "      <th>2</th>\n",
       "      <td>Coffee</td>\n",
       "      <td>Plain</td>\n",
       "    </tr>\n",
       "    <tr>\n",
       "      <th>3</th>\n",
       "      <td>Coffee</td>\n",
       "      <td>Plain</td>\n",
       "    </tr>\n",
       "    <tr>\n",
       "      <th>4</th>\n",
       "      <td>Coffee</td>\n",
       "      <td>Plain</td>\n",
       "    </tr>\n",
       "    <tr>\n",
       "      <th>...</th>\n",
       "      <td>...</td>\n",
       "      <td>...</td>\n",
       "    </tr>\n",
       "    <tr>\n",
       "      <th>196</th>\n",
       "      <td>Tea</td>\n",
       "      <td>Plain</td>\n",
       "    </tr>\n",
       "    <tr>\n",
       "      <th>197</th>\n",
       "      <td>Tea</td>\n",
       "      <td>Chocolate</td>\n",
       "    </tr>\n",
       "    <tr>\n",
       "      <th>198</th>\n",
       "      <td>Coffee</td>\n",
       "      <td>Chocolate</td>\n",
       "    </tr>\n",
       "    <tr>\n",
       "      <th>199</th>\n",
       "      <td>Coffee</td>\n",
       "      <td>Chocolate</td>\n",
       "    </tr>\n",
       "    <tr>\n",
       "      <th>200</th>\n",
       "      <td>Tea</td>\n",
       "      <td>Chocolate</td>\n",
       "    </tr>\n",
       "  </tbody>\n",
       "</table>\n",
       "<p>201 rows × 2 columns</p>\n",
       "</div>"
      ],
      "text/plain": [
       "      Drink    Biscuit\n",
       "0       Tea  Chocolate\n",
       "1    Coffee      Plain\n",
       "2    Coffee      Plain\n",
       "3    Coffee      Plain\n",
       "4    Coffee      Plain\n",
       "..      ...        ...\n",
       "196     Tea      Plain\n",
       "197     Tea  Chocolate\n",
       "198  Coffee  Chocolate\n",
       "199  Coffee  Chocolate\n",
       "200     Tea  Chocolate\n",
       "\n",
       "[201 rows x 2 columns]"
      ]
     },
     "execution_count": 14,
     "metadata": {},
     "output_type": "execute_result"
    }
   ],
   "source": [
    "# Create a Dataframe\n",
    "\n",
    "df = pd.DataFrame({\"Drink\":drink, \"Biscuit\": biscuit})\n",
    "\n",
    "# Show\n",
    "df"
   ]
  },
  {
   "cell_type": "markdown",
   "metadata": {},
   "source": [
    "#### <span style=\"color:blue\"> Contingency Table</span>\n"
   ]
  },
  {
   "cell_type": "markdown",
   "metadata": {},
   "source": [
    "From the dataframe, using the [crosstab contingency function](https://docs.scipy.org/doc/scipy/reference/generated/scipy.stats.contingency.crosstab.html)<sup>20</sup> , we can establish the number of coffee drinkers who prefer chocolate biscuits, coffee drinkers who prefer plain biscuits, tea drinkers who prefer chocolate biscuits and lastly, tea drinkers who prefer plain biscuits. The function creates [contingency table](https://www.statology.org/contingency-table-python/)<sup>21</sup>  to illustrate the preferences. The table clearly shows the preferences, along with the total number of tea drinkers, total number of coffee drinkers, total number of chocolate biscuit eaters and total number of plain biscuit eaters under the **All** headings. The total number of observations is 201 which matches the dataframe."
   ]
  },
  {
   "cell_type": "code",
   "execution_count": 15,
   "metadata": {},
   "outputs": [
    {
     "data": {
      "text/html": [
       "<div>\n",
       "<style scoped>\n",
       "    .dataframe tbody tr th:only-of-type {\n",
       "        vertical-align: middle;\n",
       "    }\n",
       "\n",
       "    .dataframe tbody tr th {\n",
       "        vertical-align: top;\n",
       "    }\n",
       "\n",
       "    .dataframe thead th {\n",
       "        text-align: right;\n",
       "    }\n",
       "</style>\n",
       "<table border=\"1\" class=\"dataframe\">\n",
       "  <thead>\n",
       "    <tr style=\"text-align: right;\">\n",
       "      <th>Biscuit</th>\n",
       "      <th>Chocolate</th>\n",
       "      <th>Plain</th>\n",
       "      <th>All</th>\n",
       "    </tr>\n",
       "    <tr>\n",
       "      <th>Drink</th>\n",
       "      <th></th>\n",
       "      <th></th>\n",
       "      <th></th>\n",
       "    </tr>\n",
       "  </thead>\n",
       "  <tbody>\n",
       "    <tr>\n",
       "      <th>Coffee</th>\n",
       "      <td>43</td>\n",
       "      <td>57</td>\n",
       "      <td>100</td>\n",
       "    </tr>\n",
       "    <tr>\n",
       "      <th>Tea</th>\n",
       "      <td>56</td>\n",
       "      <td>45</td>\n",
       "      <td>101</td>\n",
       "    </tr>\n",
       "    <tr>\n",
       "      <th>All</th>\n",
       "      <td>99</td>\n",
       "      <td>102</td>\n",
       "      <td>201</td>\n",
       "    </tr>\n",
       "  </tbody>\n",
       "</table>\n",
       "</div>"
      ],
      "text/plain": [
       "Biscuit  Chocolate  Plain  All\n",
       "Drink                         \n",
       "Coffee          43     57  100\n",
       "Tea             56     45  101\n",
       "All             99    102  201"
      ]
     },
     "execution_count": 15,
     "metadata": {},
     "output_type": "execute_result"
    }
   ],
   "source": [
    "# Perform Crosstabs Contingency\n",
    "# store as variable contingencyTable\n",
    "contingencyTable = pd.crosstab(index=df['Drink'], columns=df['Biscuit'], margins=True)\n",
    "\n",
    "# Show \n",
    "contingencyTable\n"
   ]
  },
  {
   "cell_type": "markdown",
   "metadata": {},
   "source": [
    "#### <span style=\"color:blue\"> The statistical Test</span>"
   ]
  },
  {
   "cell_type": "markdown",
   "metadata": {},
   "source": [
    "With the contingency table created above, the [scipy.stats.chi2_contingency function](https://docs.scipy.org/doc/scipy/reference/generated/scipy.stats.chi2_contingency.html)<sup>22</sup> , is used to calculate the chi square to test for independence between the two variables drink and biscuit."
   ]
  },
  {
   "cell_type": "code",
   "execution_count": 16,
   "metadata": {},
   "outputs": [
    {
     "data": {
      "text/plain": [
       "Chi2ContingencyResult(statistic=3.113937364324669, pvalue=0.5389425856850661, dof=4, expected_freq=array([[ 49.25373134,  50.74626866, 100.        ],\n",
       "       [ 49.74626866,  51.25373134, 101.        ],\n",
       "       [ 99.        , 102.        , 201.        ]]))"
      ]
     },
     "execution_count": 16,
     "metadata": {},
     "output_type": "execute_result"
    }
   ],
   "source": [
    "chisquare = ss.chi2_contingency(contingencyTable, correction=False)\n",
    "\n",
    "chisquare"
   ]
  },
  {
   "cell_type": "code",
   "execution_count": 17,
   "metadata": {},
   "outputs": [
    {
     "data": {
      "text/plain": [
       "array([[ 49.25373134,  50.74626866, 100.        ],\n",
       "       [ 49.74626866,  51.25373134, 101.        ],\n",
       "       [ 99.        , 102.        , 201.        ]])"
      ]
     },
     "execution_count": 17,
     "metadata": {},
     "output_type": "execute_result"
    }
   ],
   "source": [
    "# The expected frequencies if the variables are independent \n",
    "chisquare.expected_freq"
   ]
  },
  {
   "cell_type": "markdown",
   "metadata": {},
   "source": [
    "#### <span style=\"color:blue\"> Interpreting the results</span>"
   ]
  },
  {
   "cell_type": "markdown",
   "metadata": {},
   "source": [
    "For the chi square test the Null Hypothesis $H_0$ is that there is **no** relationship between the variables being tested. The alternative hypothesis $H_1$ is that there is a significant relationship between the two variables. $H_0$ is assumed until there is evidence to reject it [geeksforgeeks, 2023.](https://www.geeksforgeeks.org/python-pearsons-chi-square-test/)<sup>23</sup> . The **P-value** generally chosen to work off is 0.05. If the P value result of the chi-square test is lower than 0.05 then there is strong evidence to reject the Null Hypothesis $H_0$. If the P value result is greater than 0.05, then we accept the Null Hypothesis [McLeod.S 2023.](https://www.simplypsychology.org/p-value.html)<sup>24</sup> .\n"
   ]
  },
  {
   "cell_type": "markdown",
   "metadata": {},
   "source": [
    "##### <span style=\"color:blue\"> Where are the expected frequency values coming from?</span>"
   ]
  },
  {
   "cell_type": "markdown",
   "metadata": {},
   "source": [
    "The expetect frequency values above are generated based on the Null Hypothesis $H_0$. In other words, The proportion of people who have a preferred drink and preferred biscuit type is the same proportion as biscuit preference irrespective of drink preference.\n",
    "\n",
    "For example the proportion of coffee drinkers who prefer chocolate biscuits, should be the same as the overall proportion of people (irrespective of drink preference) who prefer chocolate biscuits. \n",
    "Similarly, take tea drinkers who prefer plain biscuits, should be the same as the overall proportion of people (irrespective of drink preference) who prefer plain biscuits. \n",
    "\n",
    "Take the following two examples: "
   ]
  },
  {
   "cell_type": "markdown",
   "metadata": {},
   "source": [
    "##### <span style=\"color:blue\"> Example 1</span>"
   ]
  },
  {
   "cell_type": "code",
   "execution_count": 18,
   "metadata": {},
   "outputs": [
    {
     "data": {
      "text/plain": [
       "0.4925373134328358"
      ]
     },
     "execution_count": 18,
     "metadata": {},
     "output_type": "execute_result"
    }
   ],
   "source": [
    "# Calculate the number of people who preferred Chocolate biscuits irrespective of drink type \n",
    "# There are 99 people who prefer chocolate biscuits and 201 people in total \n",
    "preferchoc= 99/201\n",
    "preferchoc "
   ]
  },
  {
   "cell_type": "code",
   "execution_count": 19,
   "metadata": {},
   "outputs": [
    {
     "data": {
      "text/plain": [
       "49.25373134328358"
      ]
     },
     "execution_count": 19,
     "metadata": {},
     "output_type": "execute_result"
    }
   ],
   "source": [
    "# Multiply the above proportion by the total number of people who drink coffee \n",
    "totalpreferchoc =100*(preferchoc)\n",
    "\n",
    "totalpreferchoc"
   ]
  },
  {
   "cell_type": "markdown",
   "metadata": {},
   "source": [
    "The result 49.25373134328358 is the same as the exepected frequency generated above for coffee drinkers who prefer chocolate biscuits. So the number of coffee drinkers who prefer chocolate biscuits is the same proportion as the number of people who prefer chocolate biscuits over all."
   ]
  },
  {
   "cell_type": "markdown",
   "metadata": {},
   "source": [
    "##### <span style=\"color:blue\"> Example 2</span>"
   ]
  },
  {
   "cell_type": "code",
   "execution_count": 20,
   "metadata": {},
   "outputs": [
    {
     "data": {
      "text/plain": [
       "0.5074626865671642"
      ]
     },
     "execution_count": 20,
     "metadata": {},
     "output_type": "execute_result"
    }
   ],
   "source": [
    "# Calculate the number of people who Preferred Plain biscuits irrespective of drink type \n",
    "# There are 102 people who prefer plain biscuits and 201 people in total \n",
    "preferplain = 102/201\n",
    "preferplain"
   ]
  },
  {
   "cell_type": "code",
   "execution_count": 21,
   "metadata": {},
   "outputs": [
    {
     "data": {
      "text/plain": [
       "51.25373134328358"
      ]
     },
     "execution_count": 21,
     "metadata": {},
     "output_type": "execute_result"
    }
   ],
   "source": [
    "# Multiply the above proportion by the total number of people who drink tea\n",
    "totalpreferplain = 101*(preferplain)\n",
    "totalpreferplain"
   ]
  },
  {
   "cell_type": "markdown",
   "metadata": {},
   "source": [
    "The result 51.25373134328358 is the same as the exepected frequency generated above for tea drinkers who prefer plain biscuits. So the number of tea drinkers who prefer plain biscuits is the same proportion as the number of people who prefer plain biscuits over all."
   ]
  },
  {
   "cell_type": "markdown",
   "metadata": {},
   "source": [
    "#### <span style=\"color:blue\"> Comparing the expected frequencies with the contingency table</span>"
   ]
  },
  {
   "cell_type": "markdown",
   "metadata": {},
   "source": [
    "When comparing the expected frequencies with the results that the contingency table have provided, we can see that the figures are not quite the same. Again, take for example, the coffee drinkers who prefer chocolate biscuits. The contingency table shows that 43 coffee drinkers prefer chocolate biscuits. The expected frequency table shows 49.25373134. \n",
    "\n",
    "Similarly with the tea drinkers and plain biscuits. The contingency table shows that 45 tea drinkers perfer plain biscuits and the expected frequency is 51.25373134. \n",
    "\n",
    "The chances of seeing a value more extreme is the P value of pvalue=0.5389425856850661 which is not significant enough to reject the null Hypothesis $H_0$ that there is no relationship between the two variables. If the P value was less than 0.05 then there would be evidence to reject $H_0$. However in this case, we fail to reject $H_0$ that there is no correlation between drink preference and biscuit preference."
   ]
  },
  {
   "cell_type": "markdown",
   "metadata": {},
   "source": [
    "# <span style=\"color:blue\"> End</span>\n",
    "***"
   ]
  },
  {
   "cell_type": "markdown",
   "metadata": {},
   "source": [
    "## <ins><span style=\"color:blue\"> Task 3 </span></ins>\n",
    "\n",
    "> *Perform a t-test on the famous [penguins dataset](https://github.com/mwaskom/seaborn-data/blob/master/penguins.csv) to investigate whether there is evidence of a significant difference in the body mass of male and female gentoo penguins.*"
   ]
  },
  {
   "cell_type": "markdown",
   "metadata": {},
   "source": [
    "### <span style =\"color:blue\">Introduction</span>\n",
    "\n",
    "The *t-distribution* was first derived in 1876 by [Fredreich Robert Helmert](https://en.wikipedia.org/wiki/Friedrich_Robert_Helmert)<sup>25</sup>  (1843-1917) and [Jacob Lüroth](https://en.wikipedia.org/wiki/Jacob_L%C3%BCroth)<sup>26</sup>  (1844-1910). However, the t-distribution was developed by and given another name, the [Student's t-distribution](https://en.wikipedia.org/wiki/Student%27s_t-distribution)<sup>27</sup> by [William Sealy Gosset](https://en.wikipedia.org/wiki/William_Sealy_Gosset)<sup>28</sup> (1876 -1937), an English statistician [Wikipedia (2023)](https://en.wikipedia.org/wiki/Student%27s_t-test)<sup>29</sup>."
   ]
  },
  {
   "cell_type": "markdown",
   "metadata": {},
   "source": [
    "<figure>\n",
    "    <img src=\"./images/William_Sealy_Gosset.jpg\"\n",
    "         alt=\"William Sealy Gosset\">\n",
    "    <figcaption>William Sealy Gosset</figcaption></br>\n",
    "    <figcaption>Image Source: https://en.wikipedia.org/wiki/William_Sealy_Gosset</figcaption>\n",
    "</figure>\n"
   ]
  },
  {
   "cell_type": "markdown",
   "metadata": {},
   "source": [
    "### <span style =\"color:blue\">Types of *t-tests*</span>\n",
    "\n",
    "According to [jmp Statistical Discovery](https://www.jmp.com/en_ch/statistics-knowledge-portal/t-test.html)<sup>30</sup> , there are **three** types of *t-test*: \n",
    "\n",
    "- the one-sample, *t-test*\n",
    "- the two-sample *t-test*\n",
    "- the paired *t-test*\n",
    "\n",
    "For all *t-tests* it is assumed that:\n",
    "1. The data are continuous.\n",
    "2. The sample data have been randomly sampled from a population.\n",
    "3. There is homogeneity of variance (i.e., the variability of the data in each group is similar).\n",
    "4. The distribution is approximately normal.\n",
    "\n",
    "To delve further into  point 2 and point 3 above, it is assumed that both the samples of data are **IIDs**. This means that all of the values in each of the samples are **1)** Independent - that there is no connection between the values and that one value has not influenced the next value in any way and **2)** the values are identically distributed - meaning that all values in the sample have the same probability distribution. This means all of the values come from the same normal distribution that has the same mean ($\\mu$) and the same standard deviation ($\\sigma$) [Wikipedia, 2023](https://en.wikipedia.org/wiki/Independent_and_identically_distributed_random_variables)<sup>31</sup> .\n",
    "\n",
    "\n",
    "For the purpose of this task, a two-sample test will be used, where the Null Hypothesis $H_0$ is that the means of two populations are the same or in other words that the true difference between the group means is zero [Bevans, 2023](https://www.scribbr.com/statistics/t-test/#:~:text=A%20t%2Dtest%20is%20a,means%20is%20different%20from%20zero.)<sup>32</sup> . The *t-test* will be used to establish if there is evidence to suggest there is a significant difference between the body mass of the male and female gentoo penguins. To do this, we will get two samples, one of the male and one of the female. We will check if there is evidence that the means of two populations are equal, given the two individual samples of data. If there is evidence to suggest that the means are equal, then we will reject the Null Hypothesis $H_0$ that the means are equal."
   ]
  },
  {
   "cell_type": "markdown",
   "metadata": {},
   "source": [
    "### <span style =\"color:blue\">The Probability Density Function (PDF)</span>"
   ]
  },
  {
   "cell_type": "markdown",
   "metadata": {},
   "source": [
    "In order for the Null Hypothesis $H_0$ to be true, there must be evidence to suggest that the mean of the population (the underlying distribution) of the Male Body Mass and the Female Body Mass is equal (assuming the standard deviations are equal). This means that the Probability Density Functions of both would be the exact same and would lie on top of eachother on the plot. The probability density function (PDF) is as follows:\n",
    "\n",
    "$$ f(x) = \\frac{1}{\\sigma \\sqrt{2 \\pi}} e^{- \\frac {1}{2} \\big(\\frac{x - \\mu}{\\sigma}\\big)^2}$$"
   ]
  },
  {
   "cell_type": "markdown",
   "metadata": {},
   "source": [
    "The following plot illustrates this. I have used code from [McLoughlin. I, 2023](https://atlantictu-my.sharepoint.com/personal/ian_mcloughlin_atu_ie/_layouts/15/stream.aspx?id=%2Fpersonal%2Fian%5Fmcloughlin%5Fatu%5Fie%2FDocuments%2Fstudent%5Fshares%2Fmachine%5Flearnning%5Fand%5Fstatistics%2F3%5Ft%5Ftests%2Ft03v07%5Fttest%5Find%2Emkv&referrer=StreamWebApp%2EWeb&referrerScenario=AddressBarCopied%2Eview)<sup>33</sup>  to define the PDF using the formula above and to plot the PDFs. I have plotted two PDFs of the same mean and standard deviation on the one plot. In order to highlight that there are in fact two PDFs on the plot, I have used code from [Wasser. L and Palomino. J](https://www.earthdatascience.org/courses/scientists-guide-to-plotting-data-in-python/plot-with-matplotlib/introduction-to-matplotlib-plots/customize-plot-colors-labels-matplotlib/)<sup>34</sup>  to customise the plot."
   ]
  },
  {
   "cell_type": "code",
   "execution_count": 22,
   "metadata": {},
   "outputs": [],
   "source": [
    "# Defining the PDF using the formula above\n",
    "def normal_pdf(x, mu = 0.0, sigma= 1.0):\n",
    "    Part1 = 1.0/ (sigma* np.sqrt(2.0*np.pi))\n",
    "    Part2 = np.exp(-0.5*((x-mu)/sigma)**2)\n",
    "    return Part1*Part2"
   ]
  },
  {
   "cell_type": "code",
   "execution_count": 23,
   "metadata": {},
   "outputs": [
    {
     "data": {
      "image/png": "[encoded data removed]",
      "text/plain": [
       "<Figure size 640x480 with 1 Axes>"
      ]
     },
     "metadata": {},
     "output_type": "display_data"
    }
   ],
   "source": [
    "#Create a plot.\n",
    "fig, ax = plt.subplots()\n",
    "\n",
    "# Range of Values\n",
    "x = np.linspace(-5.0, 5.0, 1001)\n",
    "mu, sigma2 = 0.0, 1.0\n",
    "ax.plot(x, normal_pdf(x, mu = 0.0, sigma = np.sqrt(1.0)), marker = 'o', color = 'yellow', label =f'$\\mu ={0.0},\\sigma^2 = {sigma2}$')\n",
    "ax.plot(x, normal_pdf(x, mu = 0.0, sigma = np.sqrt(1.0)), color = 'red', label =f'$\\mu ={mu},\\sigma^2 = {sigma2}$')\n",
    "\n",
    "# Set plot title and axes labels\n",
    "ax.set(title = \"Two PDFs with different $\\mu$ but same $\\sigma$\",\n",
    "       xlabel = \"$x$\",\n",
    "       ylabel = \"$f(x)$\")\n",
    "\n",
    "# Add a legend\n",
    "ax.legend()\n",
    "\n",
    "#Add a grid\n",
    "ax.grid()"
   ]
  },
  {
   "cell_type": "markdown",
   "metadata": {},
   "source": [
    "If the Null Hypothesis $H_0$ is not true and the means are different, below demonstrates how the PDF may look, where the two populations have different means but the same standard deviation."
   ]
  },
  {
   "cell_type": "code",
   "execution_count": 24,
   "metadata": {},
   "outputs": [
    {
     "data": {
      "image/png": "[encoded data removed]",
      "text/plain": [
       "<Figure size 640x480 with 1 Axes>"
      ]
     },
     "metadata": {},
     "output_type": "display_data"
    }
   ],
   "source": [
    "#Create a plot.\n",
    "fig, ax = plt.subplots()\n",
    "\n",
    "# Range of Values\n",
    "x = np.linspace(-5.0, 5.0, 1001)\n",
    "mu, sigma2 = 0.0, 1.0\n",
    "ax.plot(x, normal_pdf(x, mu = 0.0, sigma = np.sqrt(1.0)), marker = 'o', color = 'yellow', label =f'$\\mu ={0.0},\\sigma^2 = {sigma2}$')\n",
    "ax.plot(x, normal_pdf(x, mu = 1.0, sigma = np.sqrt(1.0)), color = 'red', label =f'$\\mu ={1.0},\\sigma^2 = {sigma2}$')\n",
    "\n",
    "# Set plot title and axes labels\n",
    "ax.set(title = \"Two PDFs with different $\\mu$ but same $\\sigma$\",\n",
    "       xlabel = \"$x$\",\n",
    "       ylabel = \"$f(x)$\")\n",
    "\n",
    "# Add a legend\n",
    "ax.legend()\n",
    "\n",
    "#Add a grid\n",
    "ax.grid()"
   ]
  },
  {
   "cell_type": "markdown",
   "metadata": {},
   "source": [
    "### <span style =\"color:blue\">Importing the dataframe using Pandas</span>"
   ]
  },
  {
   "cell_type": "markdown",
   "metadata": {},
   "source": [
    "In order to be able to work with the penguins dataframe, we first read it in using [pandas](https://www.w3schools.com/python/pandas/pandas_csv.asp)<sup>35</sup>  and store it in a variable called ``df``. We then call the ``df`` varaible which producses the first 5 and last 5 rows of data from the dataframe. The dataframe contains 344 rows of data indexed from 0 to 343 and 7 columns. If we wanted to produce the whole dataframe, we could use the ``print(df.to_string())`` command. "
   ]
  },
  {
   "cell_type": "code",
   "execution_count": 25,
   "metadata": {},
   "outputs": [
    {
     "data": {
      "text/html": [
       "<div>\n",
       "<style scoped>\n",
       "    .dataframe tbody tr th:only-of-type {\n",
       "        vertical-align: middle;\n",
       "    }\n",
       "\n",
       "    .dataframe tbody tr th {\n",
       "        vertical-align: top;\n",
       "    }\n",
       "\n",
       "    .dataframe thead th {\n",
       "        text-align: right;\n",
       "    }\n",
       "</style>\n",
       "<table border=\"1\" class=\"dataframe\">\n",
       "  <thead>\n",
       "    <tr style=\"text-align: right;\">\n",
       "      <th></th>\n",
       "      <th>species</th>\n",
       "      <th>island</th>\n",
       "      <th>bill_length_mm</th>\n",
       "      <th>bill_depth_mm</th>\n",
       "      <th>flipper_length_mm</th>\n",
       "      <th>body_mass_g</th>\n",
       "      <th>sex</th>\n",
       "    </tr>\n",
       "  </thead>\n",
       "  <tbody>\n",
       "    <tr>\n",
       "      <th>0</th>\n",
       "      <td>Adelie</td>\n",
       "      <td>Torgersen</td>\n",
       "      <td>39.1</td>\n",
       "      <td>18.7</td>\n",
       "      <td>181.0</td>\n",
       "      <td>3750.0</td>\n",
       "      <td>MALE</td>\n",
       "    </tr>\n",
       "    <tr>\n",
       "      <th>1</th>\n",
       "      <td>Adelie</td>\n",
       "      <td>Torgersen</td>\n",
       "      <td>39.5</td>\n",
       "      <td>17.4</td>\n",
       "      <td>186.0</td>\n",
       "      <td>3800.0</td>\n",
       "      <td>FEMALE</td>\n",
       "    </tr>\n",
       "    <tr>\n",
       "      <th>2</th>\n",
       "      <td>Adelie</td>\n",
       "      <td>Torgersen</td>\n",
       "      <td>40.3</td>\n",
       "      <td>18.0</td>\n",
       "      <td>195.0</td>\n",
       "      <td>3250.0</td>\n",
       "      <td>FEMALE</td>\n",
       "    </tr>\n",
       "    <tr>\n",
       "      <th>3</th>\n",
       "      <td>Adelie</td>\n",
       "      <td>Torgersen</td>\n",
       "      <td>NaN</td>\n",
       "      <td>NaN</td>\n",
       "      <td>NaN</td>\n",
       "      <td>NaN</td>\n",
       "      <td>NaN</td>\n",
       "    </tr>\n",
       "    <tr>\n",
       "      <th>4</th>\n",
       "      <td>Adelie</td>\n",
       "      <td>Torgersen</td>\n",
       "      <td>36.7</td>\n",
       "      <td>19.3</td>\n",
       "      <td>193.0</td>\n",
       "      <td>3450.0</td>\n",
       "      <td>FEMALE</td>\n",
       "    </tr>\n",
       "    <tr>\n",
       "      <th>...</th>\n",
       "      <td>...</td>\n",
       "      <td>...</td>\n",
       "      <td>...</td>\n",
       "      <td>...</td>\n",
       "      <td>...</td>\n",
       "      <td>...</td>\n",
       "      <td>...</td>\n",
       "    </tr>\n",
       "    <tr>\n",
       "      <th>339</th>\n",
       "      <td>Gentoo</td>\n",
       "      <td>Biscoe</td>\n",
       "      <td>NaN</td>\n",
       "      <td>NaN</td>\n",
       "      <td>NaN</td>\n",
       "      <td>NaN</td>\n",
       "      <td>NaN</td>\n",
       "    </tr>\n",
       "    <tr>\n",
       "      <th>340</th>\n",
       "      <td>Gentoo</td>\n",
       "      <td>Biscoe</td>\n",
       "      <td>46.8</td>\n",
       "      <td>14.3</td>\n",
       "      <td>215.0</td>\n",
       "      <td>4850.0</td>\n",
       "      <td>FEMALE</td>\n",
       "    </tr>\n",
       "    <tr>\n",
       "      <th>341</th>\n",
       "      <td>Gentoo</td>\n",
       "      <td>Biscoe</td>\n",
       "      <td>50.4</td>\n",
       "      <td>15.7</td>\n",
       "      <td>222.0</td>\n",
       "      <td>5750.0</td>\n",
       "      <td>MALE</td>\n",
       "    </tr>\n",
       "    <tr>\n",
       "      <th>342</th>\n",
       "      <td>Gentoo</td>\n",
       "      <td>Biscoe</td>\n",
       "      <td>45.2</td>\n",
       "      <td>14.8</td>\n",
       "      <td>212.0</td>\n",
       "      <td>5200.0</td>\n",
       "      <td>FEMALE</td>\n",
       "    </tr>\n",
       "    <tr>\n",
       "      <th>343</th>\n",
       "      <td>Gentoo</td>\n",
       "      <td>Biscoe</td>\n",
       "      <td>49.9</td>\n",
       "      <td>16.1</td>\n",
       "      <td>213.0</td>\n",
       "      <td>5400.0</td>\n",
       "      <td>MALE</td>\n",
       "    </tr>\n",
       "  </tbody>\n",
       "</table>\n",
       "<p>344 rows × 7 columns</p>\n",
       "</div>"
      ],
      "text/plain": [
       "    species     island  bill_length_mm  bill_depth_mm  flipper_length_mm  \\\n",
       "0    Adelie  Torgersen            39.1           18.7              181.0   \n",
       "1    Adelie  Torgersen            39.5           17.4              186.0   \n",
       "2    Adelie  Torgersen            40.3           18.0              195.0   \n",
       "3    Adelie  Torgersen             NaN            NaN                NaN   \n",
       "4    Adelie  Torgersen            36.7           19.3              193.0   \n",
       "..      ...        ...             ...            ...                ...   \n",
       "339  Gentoo     Biscoe             NaN            NaN                NaN   \n",
       "340  Gentoo     Biscoe            46.8           14.3              215.0   \n",
       "341  Gentoo     Biscoe            50.4           15.7              222.0   \n",
       "342  Gentoo     Biscoe            45.2           14.8              212.0   \n",
       "343  Gentoo     Biscoe            49.9           16.1              213.0   \n",
       "\n",
       "     body_mass_g     sex  \n",
       "0         3750.0    MALE  \n",
       "1         3800.0  FEMALE  \n",
       "2         3250.0  FEMALE  \n",
       "3            NaN     NaN  \n",
       "4         3450.0  FEMALE  \n",
       "..           ...     ...  \n",
       "339          NaN     NaN  \n",
       "340       4850.0  FEMALE  \n",
       "341       5750.0    MALE  \n",
       "342       5200.0  FEMALE  \n",
       "343       5400.0    MALE  \n",
       "\n",
       "[344 rows x 7 columns]"
      ]
     },
     "execution_count": 25,
     "metadata": {},
     "output_type": "execute_result"
    }
   ],
   "source": [
    "#Load penguins.csv Dataset and store it in a variable called 'df'\n",
    "df = pd.read_csv('data/penguins.csv')\n",
    "\n",
    "#Show the dataframe\n",
    "df\n",
    "\n",
    "# To show the full dataframe, we could use \n",
    "#print(df.to_string()) "
   ]
  },
  {
   "cell_type": "markdown",
   "metadata": {},
   "source": [
    "### <span style =\"color:blue\">Cleaning the Dataframe</span>"
   ]
  },
  {
   "cell_type": "markdown",
   "metadata": {},
   "source": [
    "Before carrying out any statistical analysis, we will first check to see if there are any missing values in the dataframe. To do this, I have sourced code from [skytower](https://www.skytowner.com/explore/getting_rows_with_missing_values_in_pandas_dataframe)<sup>36</sup> .This goes through each row in the dataframe and prints the rows (if any) in which there are missing values (``na values``) Below, shows that there are 11 rows where at least one column has missing values."
   ]
  },
  {
   "cell_type": "code",
   "execution_count": 26,
   "metadata": {},
   "outputs": [
    {
     "data": {
      "text/html": [
       "<div>\n",
       "<style scoped>\n",
       "    .dataframe tbody tr th:only-of-type {\n",
       "        vertical-align: middle;\n",
       "    }\n",
       "\n",
       "    .dataframe tbody tr th {\n",
       "        vertical-align: top;\n",
       "    }\n",
       "\n",
       "    .dataframe thead th {\n",
       "        text-align: right;\n",
       "    }\n",
       "</style>\n",
       "<table border=\"1\" class=\"dataframe\">\n",
       "  <thead>\n",
       "    <tr style=\"text-align: right;\">\n",
       "      <th></th>\n",
       "      <th>species</th>\n",
       "      <th>island</th>\n",
       "      <th>bill_length_mm</th>\n",
       "      <th>bill_depth_mm</th>\n",
       "      <th>flipper_length_mm</th>\n",
       "      <th>body_mass_g</th>\n",
       "      <th>sex</th>\n",
       "    </tr>\n",
       "  </thead>\n",
       "  <tbody>\n",
       "    <tr>\n",
       "      <th>3</th>\n",
       "      <td>Adelie</td>\n",
       "      <td>Torgersen</td>\n",
       "      <td>NaN</td>\n",
       "      <td>NaN</td>\n",
       "      <td>NaN</td>\n",
       "      <td>NaN</td>\n",
       "      <td>NaN</td>\n",
       "    </tr>\n",
       "    <tr>\n",
       "      <th>8</th>\n",
       "      <td>Adelie</td>\n",
       "      <td>Torgersen</td>\n",
       "      <td>34.1</td>\n",
       "      <td>18.1</td>\n",
       "      <td>193.0</td>\n",
       "      <td>3475.0</td>\n",
       "      <td>NaN</td>\n",
       "    </tr>\n",
       "    <tr>\n",
       "      <th>9</th>\n",
       "      <td>Adelie</td>\n",
       "      <td>Torgersen</td>\n",
       "      <td>42.0</td>\n",
       "      <td>20.2</td>\n",
       "      <td>190.0</td>\n",
       "      <td>4250.0</td>\n",
       "      <td>NaN</td>\n",
       "    </tr>\n",
       "    <tr>\n",
       "      <th>10</th>\n",
       "      <td>Adelie</td>\n",
       "      <td>Torgersen</td>\n",
       "      <td>37.8</td>\n",
       "      <td>17.1</td>\n",
       "      <td>186.0</td>\n",
       "      <td>3300.0</td>\n",
       "      <td>NaN</td>\n",
       "    </tr>\n",
       "    <tr>\n",
       "      <th>11</th>\n",
       "      <td>Adelie</td>\n",
       "      <td>Torgersen</td>\n",
       "      <td>37.8</td>\n",
       "      <td>17.3</td>\n",
       "      <td>180.0</td>\n",
       "      <td>3700.0</td>\n",
       "      <td>NaN</td>\n",
       "    </tr>\n",
       "    <tr>\n",
       "      <th>47</th>\n",
       "      <td>Adelie</td>\n",
       "      <td>Dream</td>\n",
       "      <td>37.5</td>\n",
       "      <td>18.9</td>\n",
       "      <td>179.0</td>\n",
       "      <td>2975.0</td>\n",
       "      <td>NaN</td>\n",
       "    </tr>\n",
       "    <tr>\n",
       "      <th>246</th>\n",
       "      <td>Gentoo</td>\n",
       "      <td>Biscoe</td>\n",
       "      <td>44.5</td>\n",
       "      <td>14.3</td>\n",
       "      <td>216.0</td>\n",
       "      <td>4100.0</td>\n",
       "      <td>NaN</td>\n",
       "    </tr>\n",
       "    <tr>\n",
       "      <th>286</th>\n",
       "      <td>Gentoo</td>\n",
       "      <td>Biscoe</td>\n",
       "      <td>46.2</td>\n",
       "      <td>14.4</td>\n",
       "      <td>214.0</td>\n",
       "      <td>4650.0</td>\n",
       "      <td>NaN</td>\n",
       "    </tr>\n",
       "    <tr>\n",
       "      <th>324</th>\n",
       "      <td>Gentoo</td>\n",
       "      <td>Biscoe</td>\n",
       "      <td>47.3</td>\n",
       "      <td>13.8</td>\n",
       "      <td>216.0</td>\n",
       "      <td>4725.0</td>\n",
       "      <td>NaN</td>\n",
       "    </tr>\n",
       "    <tr>\n",
       "      <th>336</th>\n",
       "      <td>Gentoo</td>\n",
       "      <td>Biscoe</td>\n",
       "      <td>44.5</td>\n",
       "      <td>15.7</td>\n",
       "      <td>217.0</td>\n",
       "      <td>4875.0</td>\n",
       "      <td>NaN</td>\n",
       "    </tr>\n",
       "    <tr>\n",
       "      <th>339</th>\n",
       "      <td>Gentoo</td>\n",
       "      <td>Biscoe</td>\n",
       "      <td>NaN</td>\n",
       "      <td>NaN</td>\n",
       "      <td>NaN</td>\n",
       "      <td>NaN</td>\n",
       "      <td>NaN</td>\n",
       "    </tr>\n",
       "  </tbody>\n",
       "</table>\n",
       "</div>"
      ],
      "text/plain": [
       "    species     island  bill_length_mm  bill_depth_mm  flipper_length_mm  \\\n",
       "3    Adelie  Torgersen             NaN            NaN                NaN   \n",
       "8    Adelie  Torgersen            34.1           18.1              193.0   \n",
       "9    Adelie  Torgersen            42.0           20.2              190.0   \n",
       "10   Adelie  Torgersen            37.8           17.1              186.0   \n",
       "11   Adelie  Torgersen            37.8           17.3              180.0   \n",
       "47   Adelie      Dream            37.5           18.9              179.0   \n",
       "246  Gentoo     Biscoe            44.5           14.3              216.0   \n",
       "286  Gentoo     Biscoe            46.2           14.4              214.0   \n",
       "324  Gentoo     Biscoe            47.3           13.8              216.0   \n",
       "336  Gentoo     Biscoe            44.5           15.7              217.0   \n",
       "339  Gentoo     Biscoe             NaN            NaN                NaN   \n",
       "\n",
       "     body_mass_g  sex  \n",
       "3            NaN  NaN  \n",
       "8         3475.0  NaN  \n",
       "9         4250.0  NaN  \n",
       "10        3300.0  NaN  \n",
       "11        3700.0  NaN  \n",
       "47        2975.0  NaN  \n",
       "246       4100.0  NaN  \n",
       "286       4650.0  NaN  \n",
       "324       4725.0  NaN  \n",
       "336       4875.0  NaN  \n",
       "339          NaN  NaN  "
      ]
     },
     "execution_count": 26,
     "metadata": {},
     "output_type": "execute_result"
    }
   ],
   "source": [
    "df[df.isna().any(axis=1)]"
   ]
  },
  {
   "cell_type": "markdown",
   "metadata": {},
   "source": [
    "Next, we will remove all of the rows which contain missing values from the dataframe so that the data will be easier to work with when carrying out the *t-test* later on. Using the [.dropna()](https://www.w3schools.com/python/pandas/ref_df_dropna.asp)<sup>37</sup>  function all of the rows with missing values are removed from the dataframe. So that we can work with the amended dataframe, we will rename it ``df2``. "
   ]
  },
  {
   "cell_type": "code",
   "execution_count": 27,
   "metadata": {},
   "outputs": [
    {
     "data": {
      "text/html": [
       "<div>\n",
       "<style scoped>\n",
       "    .dataframe tbody tr th:only-of-type {\n",
       "        vertical-align: middle;\n",
       "    }\n",
       "\n",
       "    .dataframe tbody tr th {\n",
       "        vertical-align: top;\n",
       "    }\n",
       "\n",
       "    .dataframe thead th {\n",
       "        text-align: right;\n",
       "    }\n",
       "</style>\n",
       "<table border=\"1\" class=\"dataframe\">\n",
       "  <thead>\n",
       "    <tr style=\"text-align: right;\">\n",
       "      <th></th>\n",
       "      <th>species</th>\n",
       "      <th>island</th>\n",
       "      <th>bill_length_mm</th>\n",
       "      <th>bill_depth_mm</th>\n",
       "      <th>flipper_length_mm</th>\n",
       "      <th>body_mass_g</th>\n",
       "      <th>sex</th>\n",
       "    </tr>\n",
       "  </thead>\n",
       "  <tbody>\n",
       "    <tr>\n",
       "      <th>0</th>\n",
       "      <td>Adelie</td>\n",
       "      <td>Torgersen</td>\n",
       "      <td>39.1</td>\n",
       "      <td>18.7</td>\n",
       "      <td>181.0</td>\n",
       "      <td>3750.0</td>\n",
       "      <td>MALE</td>\n",
       "    </tr>\n",
       "    <tr>\n",
       "      <th>1</th>\n",
       "      <td>Adelie</td>\n",
       "      <td>Torgersen</td>\n",
       "      <td>39.5</td>\n",
       "      <td>17.4</td>\n",
       "      <td>186.0</td>\n",
       "      <td>3800.0</td>\n",
       "      <td>FEMALE</td>\n",
       "    </tr>\n",
       "    <tr>\n",
       "      <th>2</th>\n",
       "      <td>Adelie</td>\n",
       "      <td>Torgersen</td>\n",
       "      <td>40.3</td>\n",
       "      <td>18.0</td>\n",
       "      <td>195.0</td>\n",
       "      <td>3250.0</td>\n",
       "      <td>FEMALE</td>\n",
       "    </tr>\n",
       "    <tr>\n",
       "      <th>4</th>\n",
       "      <td>Adelie</td>\n",
       "      <td>Torgersen</td>\n",
       "      <td>36.7</td>\n",
       "      <td>19.3</td>\n",
       "      <td>193.0</td>\n",
       "      <td>3450.0</td>\n",
       "      <td>FEMALE</td>\n",
       "    </tr>\n",
       "    <tr>\n",
       "      <th>5</th>\n",
       "      <td>Adelie</td>\n",
       "      <td>Torgersen</td>\n",
       "      <td>39.3</td>\n",
       "      <td>20.6</td>\n",
       "      <td>190.0</td>\n",
       "      <td>3650.0</td>\n",
       "      <td>MALE</td>\n",
       "    </tr>\n",
       "    <tr>\n",
       "      <th>...</th>\n",
       "      <td>...</td>\n",
       "      <td>...</td>\n",
       "      <td>...</td>\n",
       "      <td>...</td>\n",
       "      <td>...</td>\n",
       "      <td>...</td>\n",
       "      <td>...</td>\n",
       "    </tr>\n",
       "    <tr>\n",
       "      <th>338</th>\n",
       "      <td>Gentoo</td>\n",
       "      <td>Biscoe</td>\n",
       "      <td>47.2</td>\n",
       "      <td>13.7</td>\n",
       "      <td>214.0</td>\n",
       "      <td>4925.0</td>\n",
       "      <td>FEMALE</td>\n",
       "    </tr>\n",
       "    <tr>\n",
       "      <th>340</th>\n",
       "      <td>Gentoo</td>\n",
       "      <td>Biscoe</td>\n",
       "      <td>46.8</td>\n",
       "      <td>14.3</td>\n",
       "      <td>215.0</td>\n",
       "      <td>4850.0</td>\n",
       "      <td>FEMALE</td>\n",
       "    </tr>\n",
       "    <tr>\n",
       "      <th>341</th>\n",
       "      <td>Gentoo</td>\n",
       "      <td>Biscoe</td>\n",
       "      <td>50.4</td>\n",
       "      <td>15.7</td>\n",
       "      <td>222.0</td>\n",
       "      <td>5750.0</td>\n",
       "      <td>MALE</td>\n",
       "    </tr>\n",
       "    <tr>\n",
       "      <th>342</th>\n",
       "      <td>Gentoo</td>\n",
       "      <td>Biscoe</td>\n",
       "      <td>45.2</td>\n",
       "      <td>14.8</td>\n",
       "      <td>212.0</td>\n",
       "      <td>5200.0</td>\n",
       "      <td>FEMALE</td>\n",
       "    </tr>\n",
       "    <tr>\n",
       "      <th>343</th>\n",
       "      <td>Gentoo</td>\n",
       "      <td>Biscoe</td>\n",
       "      <td>49.9</td>\n",
       "      <td>16.1</td>\n",
       "      <td>213.0</td>\n",
       "      <td>5400.0</td>\n",
       "      <td>MALE</td>\n",
       "    </tr>\n",
       "  </tbody>\n",
       "</table>\n",
       "<p>333 rows × 7 columns</p>\n",
       "</div>"
      ],
      "text/plain": [
       "    species     island  bill_length_mm  bill_depth_mm  flipper_length_mm  \\\n",
       "0    Adelie  Torgersen            39.1           18.7              181.0   \n",
       "1    Adelie  Torgersen            39.5           17.4              186.0   \n",
       "2    Adelie  Torgersen            40.3           18.0              195.0   \n",
       "4    Adelie  Torgersen            36.7           19.3              193.0   \n",
       "5    Adelie  Torgersen            39.3           20.6              190.0   \n",
       "..      ...        ...             ...            ...                ...   \n",
       "338  Gentoo     Biscoe            47.2           13.7              214.0   \n",
       "340  Gentoo     Biscoe            46.8           14.3              215.0   \n",
       "341  Gentoo     Biscoe            50.4           15.7              222.0   \n",
       "342  Gentoo     Biscoe            45.2           14.8              212.0   \n",
       "343  Gentoo     Biscoe            49.9           16.1              213.0   \n",
       "\n",
       "     body_mass_g     sex  \n",
       "0         3750.0    MALE  \n",
       "1         3800.0  FEMALE  \n",
       "2         3250.0  FEMALE  \n",
       "4         3450.0  FEMALE  \n",
       "5         3650.0    MALE  \n",
       "..           ...     ...  \n",
       "338       4925.0  FEMALE  \n",
       "340       4850.0  FEMALE  \n",
       "341       5750.0    MALE  \n",
       "342       5200.0  FEMALE  \n",
       "343       5400.0    MALE  \n",
       "\n",
       "[333 rows x 7 columns]"
      ]
     },
     "execution_count": 27,
     "metadata": {},
     "output_type": "execute_result"
    }
   ],
   "source": [
    "# Drop rows that have missing data \n",
    "df2 = df.dropna() \n",
    "df2"
   ]
  },
  {
   "cell_type": "code",
   "execution_count": 28,
   "metadata": {},
   "outputs": [
    {
     "data": {
      "text/html": [
       "<div>\n",
       "<style scoped>\n",
       "    .dataframe tbody tr th:only-of-type {\n",
       "        vertical-align: middle;\n",
       "    }\n",
       "\n",
       "    .dataframe tbody tr th {\n",
       "        vertical-align: top;\n",
       "    }\n",
       "\n",
       "    .dataframe thead th {\n",
       "        text-align: right;\n",
       "    }\n",
       "</style>\n",
       "<table border=\"1\" class=\"dataframe\">\n",
       "  <thead>\n",
       "    <tr style=\"text-align: right;\">\n",
       "      <th></th>\n",
       "      <th>species</th>\n",
       "      <th>island</th>\n",
       "      <th>bill_length_mm</th>\n",
       "      <th>bill_depth_mm</th>\n",
       "      <th>flipper_length_mm</th>\n",
       "      <th>body_mass_g</th>\n",
       "      <th>sex</th>\n",
       "    </tr>\n",
       "  </thead>\n",
       "  <tbody>\n",
       "  </tbody>\n",
       "</table>\n",
       "</div>"
      ],
      "text/plain": [
       "Empty DataFrame\n",
       "Columns: [species, island, bill_length_mm, bill_depth_mm, flipper_length_mm, body_mass_g, sex]\n",
       "Index: []"
      ]
     },
     "execution_count": 28,
     "metadata": {},
     "output_type": "execute_result"
    }
   ],
   "source": [
    "# Checking again to see if there are any na values in the new 'df2' dataframe\n",
    "df2[df2.isna().any(axis=1)]"
   ]
  },
  {
   "cell_type": "markdown",
   "metadata": {},
   "source": [
    "It is evident that the new dataframe above, that the ``.dropna()`` function has removed all of the rows with missing values but it has also affected the row indexes. To fix this, the [.reset_index()](https://www.geeksforgeeks.org/pandas-how-to-reset-index-in-a-given-dataframe/)<sup>38</sup>  is used to reset the row indexes. Below, we have the new dataframe with 333 rows of data indexed from 0 to 332. This is what we want as there were 11 rows of missing data in the original dataframe which originally had 344 rows of data."
   ]
  },
  {
   "cell_type": "code",
   "execution_count": 29,
   "metadata": {},
   "outputs": [
    {
     "data": {
      "text/html": [
       "<div>\n",
       "<style scoped>\n",
       "    .dataframe tbody tr th:only-of-type {\n",
       "        vertical-align: middle;\n",
       "    }\n",
       "\n",
       "    .dataframe tbody tr th {\n",
       "        vertical-align: top;\n",
       "    }\n",
       "\n",
       "    .dataframe thead th {\n",
       "        text-align: right;\n",
       "    }\n",
       "</style>\n",
       "<table border=\"1\" class=\"dataframe\">\n",
       "  <thead>\n",
       "    <tr style=\"text-align: right;\">\n",
       "      <th></th>\n",
       "      <th>index</th>\n",
       "      <th>species</th>\n",
       "      <th>island</th>\n",
       "      <th>bill_length_mm</th>\n",
       "      <th>bill_depth_mm</th>\n",
       "      <th>flipper_length_mm</th>\n",
       "      <th>body_mass_g</th>\n",
       "      <th>sex</th>\n",
       "    </tr>\n",
       "  </thead>\n",
       "  <tbody>\n",
       "    <tr>\n",
       "      <th>0</th>\n",
       "      <td>0</td>\n",
       "      <td>Adelie</td>\n",
       "      <td>Torgersen</td>\n",
       "      <td>39.1</td>\n",
       "      <td>18.7</td>\n",
       "      <td>181.0</td>\n",
       "      <td>3750.0</td>\n",
       "      <td>MALE</td>\n",
       "    </tr>\n",
       "    <tr>\n",
       "      <th>1</th>\n",
       "      <td>1</td>\n",
       "      <td>Adelie</td>\n",
       "      <td>Torgersen</td>\n",
       "      <td>39.5</td>\n",
       "      <td>17.4</td>\n",
       "      <td>186.0</td>\n",
       "      <td>3800.0</td>\n",
       "      <td>FEMALE</td>\n",
       "    </tr>\n",
       "    <tr>\n",
       "      <th>2</th>\n",
       "      <td>2</td>\n",
       "      <td>Adelie</td>\n",
       "      <td>Torgersen</td>\n",
       "      <td>40.3</td>\n",
       "      <td>18.0</td>\n",
       "      <td>195.0</td>\n",
       "      <td>3250.0</td>\n",
       "      <td>FEMALE</td>\n",
       "    </tr>\n",
       "    <tr>\n",
       "      <th>3</th>\n",
       "      <td>4</td>\n",
       "      <td>Adelie</td>\n",
       "      <td>Torgersen</td>\n",
       "      <td>36.7</td>\n",
       "      <td>19.3</td>\n",
       "      <td>193.0</td>\n",
       "      <td>3450.0</td>\n",
       "      <td>FEMALE</td>\n",
       "    </tr>\n",
       "    <tr>\n",
       "      <th>4</th>\n",
       "      <td>5</td>\n",
       "      <td>Adelie</td>\n",
       "      <td>Torgersen</td>\n",
       "      <td>39.3</td>\n",
       "      <td>20.6</td>\n",
       "      <td>190.0</td>\n",
       "      <td>3650.0</td>\n",
       "      <td>MALE</td>\n",
       "    </tr>\n",
       "    <tr>\n",
       "      <th>...</th>\n",
       "      <td>...</td>\n",
       "      <td>...</td>\n",
       "      <td>...</td>\n",
       "      <td>...</td>\n",
       "      <td>...</td>\n",
       "      <td>...</td>\n",
       "      <td>...</td>\n",
       "      <td>...</td>\n",
       "    </tr>\n",
       "    <tr>\n",
       "      <th>328</th>\n",
       "      <td>338</td>\n",
       "      <td>Gentoo</td>\n",
       "      <td>Biscoe</td>\n",
       "      <td>47.2</td>\n",
       "      <td>13.7</td>\n",
       "      <td>214.0</td>\n",
       "      <td>4925.0</td>\n",
       "      <td>FEMALE</td>\n",
       "    </tr>\n",
       "    <tr>\n",
       "      <th>329</th>\n",
       "      <td>340</td>\n",
       "      <td>Gentoo</td>\n",
       "      <td>Biscoe</td>\n",
       "      <td>46.8</td>\n",
       "      <td>14.3</td>\n",
       "      <td>215.0</td>\n",
       "      <td>4850.0</td>\n",
       "      <td>FEMALE</td>\n",
       "    </tr>\n",
       "    <tr>\n",
       "      <th>330</th>\n",
       "      <td>341</td>\n",
       "      <td>Gentoo</td>\n",
       "      <td>Biscoe</td>\n",
       "      <td>50.4</td>\n",
       "      <td>15.7</td>\n",
       "      <td>222.0</td>\n",
       "      <td>5750.0</td>\n",
       "      <td>MALE</td>\n",
       "    </tr>\n",
       "    <tr>\n",
       "      <th>331</th>\n",
       "      <td>342</td>\n",
       "      <td>Gentoo</td>\n",
       "      <td>Biscoe</td>\n",
       "      <td>45.2</td>\n",
       "      <td>14.8</td>\n",
       "      <td>212.0</td>\n",
       "      <td>5200.0</td>\n",
       "      <td>FEMALE</td>\n",
       "    </tr>\n",
       "    <tr>\n",
       "      <th>332</th>\n",
       "      <td>343</td>\n",
       "      <td>Gentoo</td>\n",
       "      <td>Biscoe</td>\n",
       "      <td>49.9</td>\n",
       "      <td>16.1</td>\n",
       "      <td>213.0</td>\n",
       "      <td>5400.0</td>\n",
       "      <td>MALE</td>\n",
       "    </tr>\n",
       "  </tbody>\n",
       "</table>\n",
       "<p>333 rows × 8 columns</p>\n",
       "</div>"
      ],
      "text/plain": [
       "     index species     island  bill_length_mm  bill_depth_mm  \\\n",
       "0        0  Adelie  Torgersen            39.1           18.7   \n",
       "1        1  Adelie  Torgersen            39.5           17.4   \n",
       "2        2  Adelie  Torgersen            40.3           18.0   \n",
       "3        4  Adelie  Torgersen            36.7           19.3   \n",
       "4        5  Adelie  Torgersen            39.3           20.6   \n",
       "..     ...     ...        ...             ...            ...   \n",
       "328    338  Gentoo     Biscoe            47.2           13.7   \n",
       "329    340  Gentoo     Biscoe            46.8           14.3   \n",
       "330    341  Gentoo     Biscoe            50.4           15.7   \n",
       "331    342  Gentoo     Biscoe            45.2           14.8   \n",
       "332    343  Gentoo     Biscoe            49.9           16.1   \n",
       "\n",
       "     flipper_length_mm  body_mass_g     sex  \n",
       "0                181.0       3750.0    MALE  \n",
       "1                186.0       3800.0  FEMALE  \n",
       "2                195.0       3250.0  FEMALE  \n",
       "3                193.0       3450.0  FEMALE  \n",
       "4                190.0       3650.0    MALE  \n",
       "..                 ...          ...     ...  \n",
       "328              214.0       4925.0  FEMALE  \n",
       "329              215.0       4850.0  FEMALE  \n",
       "330              222.0       5750.0    MALE  \n",
       "331              212.0       5200.0  FEMALE  \n",
       "332              213.0       5400.0    MALE  \n",
       "\n",
       "[333 rows x 8 columns]"
      ]
     },
     "execution_count": 29,
     "metadata": {},
     "output_type": "execute_result"
    }
   ],
   "source": [
    "df2=df2.reset_index()\n",
    "df2"
   ]
  },
  {
   "cell_type": "markdown",
   "metadata": {},
   "source": [
    "### <span style =\"color:blue\">Gathering the required samples from the dataframe</span>"
   ]
  },
  {
   "cell_type": "markdown",
   "metadata": {},
   "source": [
    "Now that the dataframe is cleaned and ready to work on, the required samples can be extracted from it. Using code adapted from [McLoughlin. I, 2023](https://atlantictu-my.sharepoint.com/personal/ian_mcloughlin_atu_ie/_layouts/15/stream.aspx?id=%2Fpersonal%2Fian%5Fmcloughlin%5Fatu%5Fie%2FDocuments%2Fstudent%5Fshares%2Fmachine%5Flearnning%5Fand%5Fstatistics%2F3%5Ft%5Ftests%2Ft03v07%5Fttest%5Find%2Emkv&referrer=StreamWebApp%2EWeb&referrerScenario=AddressBarCopied%2Eview)<sup>39</sup>  the samples of male body mass and female body mass are extracted. The [to_numpy()](https://www.geeksforgeeks.org/pandas-dataframe-to_numpy-convert-dataframe-to-numpy-array/)<sup>40</sup>  method is used to convert the rows of data into a numpy array to make it easier to read and tidier looking. Below is the output of <span style =\"color:blue\">**sample a**</span> and <span style =\"color:blue\">**sample b**</span> that will be worked on."
   ]
  },
  {
   "cell_type": "code",
   "execution_count": 30,
   "metadata": {},
   "outputs": [
    {
     "data": {
      "text/plain": [
       "array([3750., 3650., 4675., 3800., 4400., 4500., 4200., 3600., 3950.,\n",
       "       3800., 3550., 3950., 3900., 3900., 4150., 3950., 4650., 3900.,\n",
       "       4400., 4600., 3425., 4150., 4300., 4050., 3700., 3800., 3750.,\n",
       "       4400., 4050., 3950., 4100., 4450., 3900., 4150., 4250., 3900.,\n",
       "       4000., 4700., 4200., 3550., 3800., 3950., 4300., 4450., 4300.,\n",
       "       4350., 4100., 4725., 4250., 3550., 3900., 4775., 4600., 4275.,\n",
       "       4075., 3775., 3325., 3500., 3875., 4000., 4300., 4000., 3500.,\n",
       "       4475., 3900., 3975., 4250., 3475., 3725., 3650., 4250., 3750.,\n",
       "       4000., 3900., 3650., 3725., 3750., 3700., 3775., 4050., 4050.,\n",
       "       3300., 4400., 3400., 3800., 4150., 3800., 4550., 4300., 4100.,\n",
       "       3600., 4800., 4500., 3950., 3550., 4450., 4300., 3250., 3950.,\n",
       "       4050., 3450., 4050., 3800., 3950., 4000., 3775., 4100., 5700.,\n",
       "       5700., 5400., 5200., 5150., 5550., 5850., 5850., 6300., 5350.,\n",
       "       5700., 5050., 5100., 5650., 5550., 5250., 6050., 5400., 5250.,\n",
       "       5350., 5700., 4750., 5550., 5400., 5300., 5300., 5000., 5050.,\n",
       "       5000., 5550., 5300., 5650., 5700., 5800., 5550., 5000., 5100.,\n",
       "       5800., 6000., 5950., 5450., 5350., 5600., 5300., 5550., 5400.,\n",
       "       5650., 5200., 4925., 5250., 5600., 5500., 5500., 5500., 5500.,\n",
       "       5950., 5500., 5850., 6000., 5750., 5400.])"
      ]
     },
     "execution_count": 30,
     "metadata": {},
     "output_type": "execute_result"
    }
   ],
   "source": [
    "# Male body mass \n",
    "sample_a = df2[df2['sex']=='MALE']['body_mass_g'].to_numpy()\n",
    "sample_a"
   ]
  },
  {
   "cell_type": "code",
   "execution_count": 31,
   "metadata": {},
   "outputs": [
    {
     "data": {
      "text/plain": [
       "array([3800., 3250., 3450., 3625., 3200., 3700., 3450., 3325., 3400.,\n",
       "       3800., 3800., 3200., 3150., 3250., 3300., 3325., 3550., 3300.,\n",
       "       3150., 3100., 3000., 3450., 3500., 3450., 2900., 3550., 2850.,\n",
       "       3150., 3600., 2850., 3350., 3050., 3600., 3550., 3700., 3700.,\n",
       "       3550., 3200., 3800., 3350., 3500., 3600., 3550., 3400., 3300.,\n",
       "       3700., 2900., 3725., 3075., 2925., 3750., 3175., 3825., 3200.,\n",
       "       3900., 2900., 3350., 3150., 3450., 3050., 3275., 3050., 3325.,\n",
       "       3500., 3425., 3175., 3400., 3400., 3050., 3000., 3475., 3450.,\n",
       "       3700., 3500., 3525., 3950., 3250., 4150., 3800., 3700., 3575.,\n",
       "       3700., 3450., 3600., 2900., 3300., 3400., 3700., 3200., 3350.,\n",
       "       3900., 3850., 2700., 3650., 3500., 3675., 3400., 3675., 3325.,\n",
       "       3600., 3350., 3250., 3525., 3650., 3650., 3400., 3775., 4500.,\n",
       "       4450., 4550., 4800., 4400., 4650., 4650., 4200., 4150., 4800.,\n",
       "       5000., 4400., 5000., 4600., 4700., 5050., 5150., 4950., 4350.,\n",
       "       3950., 4300., 4900., 4200., 5100., 4850., 4400., 4900., 4300.,\n",
       "       4450., 4200., 4400., 4700., 4700., 4750., 5200., 4700., 4600.,\n",
       "       4750., 4625., 4725., 4750., 4600., 4875., 4950., 4750., 4850.,\n",
       "       4875., 4625., 4850., 4975., 4700., 4575., 5000., 4650., 4375.,\n",
       "       4925., 4850., 5200.])"
      ]
     },
     "execution_count": 31,
     "metadata": {},
     "output_type": "execute_result"
    }
   ],
   "source": [
    "# Female body mass \n",
    "\n",
    "sample_b = df2[df2['sex']=='FEMALE']['body_mass_g'].to_numpy()\n",
    "sample_b"
   ]
  },
  {
   "cell_type": "markdown",
   "metadata": {},
   "source": [
    "### <span style =\"color:blue\">Carrying out the *t-test*</span>"
   ]
  },
  {
   "cell_type": "markdown",
   "metadata": {},
   "source": [
    "Now that the two samples of required data are extracted from the dataframe, the *t-test* can be carried out using the [scipy.stats.ttest_ind](https://docs.scipy.org/doc/scipy/reference/generated/scipy.stats.ttest_ind.html)<sup>41</sup>  test. For the purpose of this test, it will be assumed that the variance/standard deviation is equal in both samples, so ``equal_var`` is set to True. This is set to True by default anyway so even if it was left out below, it would still be true. "
   ]
  },
  {
   "cell_type": "code",
   "execution_count": 32,
   "metadata": {},
   "outputs": [
    {
     "data": {
      "text/plain": [
       "TtestResult(statistic=8.541720337994516, pvalue=4.897246751596224e-16, df=331.0)"
      ]
     },
     "execution_count": 32,
     "metadata": {},
     "output_type": "execute_result"
    }
   ],
   "source": [
    "# Doing the t-test \n",
    "ss.ttest_ind(sample_a, sample_b, equal_var= True)"
   ]
  },
  {
   "cell_type": "markdown",
   "metadata": {},
   "source": [
    "### <span style =\"color:blue\">Evaluating the Result</span>"
   ]
  },
  {
   "cell_type": "markdown",
   "metadata": {},
   "source": [
    "Firstly, looking at the ``pvalue`` of 4.897246751596224e-16. This is a a very tiny number as the $e-16$ means that the 4.897246751596224 is divided by $10^{16}$. This means that the proability that both the samples have come from the same underlying distribution or population is possible but very unlikely. On looking at two samples above, the majority of the values from sample A are over 4000 and the majority of the values in sample B are under 3500. These values don't appear to be particularly extreme (in that the values are to different in the two samples). However, the very small ``pvalue`` above suggests that the chances of seeing values like this possible but very unlikely if they both come from the same underlying distribution. In this case, we reject the Null Hypothesis $H_0$ that both samples come from the same population."
   ]
  },
  {
   "cell_type": "markdown",
   "metadata": {},
   "source": [
    "<figure>\n",
    "    <figcaption>Student t PDF</figcaption>\n",
    "    <img src=\"https://upload.wikimedia.org/wikipedia/commons/4/41/Student_t_pdf.svg\"\n",
    "         alt=\"William Sealy Gosset\">\n",
    "    \n",
    "</figure>"
   ]
  },
  {
   "cell_type": "markdown",
   "metadata": {},
   "source": [
    "Using the above image sourced from [Wikipedia](https://commons.wikimedia.org/wiki/File:Student_t_pdf.svg)<sup>42</sup> , the t statistic can also be analyised. The t-statistic generated from the *t-test* is 8.541720337994516. The degrees of freedom are 331.00 so it is the black line that is used as it is the closest one to what we have given the number of degrees of freedom there are. Seeing values of a t-statistic of 8.541720337994516 is very unlikely as it is almost zero suggesting that the data is extreme. This again gives strong evidence that the means of the populations that the two samples came from are not equal. "
   ]
  },
  {
   "cell_type": "markdown",
   "metadata": {},
   "source": [
    "### <span style =\"color:blue\">Conclusion</span>"
   ]
  },
  {
   "cell_type": "markdown",
   "metadata": {},
   "source": [
    "The t-test has been used to help us determine if the male and female gentoo penguins data came from the same underlying distribution which in turn would mean that they both have the same mean (we are assuming the standard deviation is equal).\n",
    "Such a small pvalue of 4.897246751596224e-16 and statistic of 8.541720337994516 would strongly suggest us to reject the Null Hypothis that they came from the same underlying distribution and that their values are extreme. "
   ]
  },
  {
   "cell_type": "markdown",
   "metadata": {},
   "source": [
    "# <span style=\"color:blue\"> End </span>\n",
    "***"
   ]
  },
  {
   "cell_type": "markdown",
   "metadata": {},
   "source": [
    "## <ins><span style=\"color:blue\"> Task 4</span></ins>\n",
    "> *Using the famous iris data set, suggest whether the setosa class is easily separable from the other two classes Provide evidence for your answer.*\n"
   ]
  },
  {
   "cell_type": "markdown",
   "metadata": {},
   "source": [
    "### <span style =\"color:blue\">Introduction</span>\n",
    "\n",
    "The **Iris Dataset**, also known as **Fisher's Iris Dataset**  was established by Sir Ronald Aylmer Fisher in his 1936 paper [*The use of multiple measurements in taxonomic problems*](https://onlinelibrary.wiley.com/doi/10.1111/j.1469-1809.1936.tb02137.x)<sup>43</sup>. This data set is also sometimes known as **Anderson's Iris data set** as Edgar Anderson was the individual who collected the data for the dataset [Wikipedia, 2023](https://en.wikipedia.org/wiki/Iris_flower_data_set)<sup>44</sup> ."
   ]
  },
  {
   "cell_type": "markdown",
   "metadata": {},
   "source": [
    "<figure>\n",
    "    <img src=\"./images/Ronald-Fisher.jpeg\"\n",
    "         alt=\"Sir Ronald Aylmer Fisher\">\n",
    "    <figcaption>Sir Ronald Aylmer Fisher</figcaption></br>\n",
    "    <figcaption>Image Source: https://en.wikipedia.org/wiki/Ronald_Fisher</figcaption>\n",
    "</figure>"
   ]
  },
  {
   "cell_type": "markdown",
   "metadata": {},
   "source": [
    "The data set contains 150 observations in total, allowing for 50 samples of each of the three different class or species of Iris Flower; Setosa, Virginica and Versicolor. Each of these flower species then have four attributes; Petal Length, Petal Width, Sepal Length and Sepal Width.\n",
    "\n",
    "<br/>\n",
    "\n",
    "|Setosa|Virginica|Versicolor|\n",
    "|:-:|:-:|:-:|\n",
    "|![Setosa](./images/Iris-Setosa.jpg)|![Virginica](./images/Iris-Virginica.jpg)|![Virsicolor](./images/Iris-Versicolor.jpg)|\n",
    "\n",
    "</br>\n",
    "Image sources:\n",
    "\n",
    "https://en.wikipedia.org/wiki/Iris_setosa <br/>\n",
    "https://en.wikipedia.org/wiki/Iris_versicolor <br/>\n",
    "https://en.wikipedia.org/wiki/Iris_virginica\n",
    "\n",
    "\n"
   ]
  },
  {
   "cell_type": "markdown",
   "metadata": {},
   "source": [
    "Using this dataset, the aim of this task is to suggest whether the Setosa Class is easily seperaple from the other two classes of the dataset. Firstly, I will use some plots to illustrate whether this is in fact the case. Then, I will carry out some regresstion analysis to establish if there is a correlation between the Setosa and the other two classes"
   ]
  },
  {
   "cell_type": "markdown",
   "metadata": {},
   "source": [
    "### <span style =\"color:blue\">Reading in the dataset</span>\n",
    "For the purposes of this task, I have sourced the Iris Dataset from [Kaggle (UCI Machine Learning)](https://www.kaggle.com/datasets/uciml/iris/)<sup>45</sup>. Firstly, using the ``Pandas`` Library, the dataset is read in and storing the function as a variable called ``df``."
   ]
  },
  {
   "cell_type": "code",
   "execution_count": 33,
   "metadata": {},
   "outputs": [
    {
     "data": {
      "text/html": [
       "<div>\n",
       "<style scoped>\n",
       "    .dataframe tbody tr th:only-of-type {\n",
       "        vertical-align: middle;\n",
       "    }\n",
       "\n",
       "    .dataframe tbody tr th {\n",
       "        vertical-align: top;\n",
       "    }\n",
       "\n",
       "    .dataframe thead th {\n",
       "        text-align: right;\n",
       "    }\n",
       "</style>\n",
       "<table border=\"1\" class=\"dataframe\">\n",
       "  <thead>\n",
       "    <tr style=\"text-align: right;\">\n",
       "      <th></th>\n",
       "      <th>Id</th>\n",
       "      <th>SepalLengthCm</th>\n",
       "      <th>SepalWidthCm</th>\n",
       "      <th>PetalLengthCm</th>\n",
       "      <th>PetalWidthCm</th>\n",
       "      <th>Species</th>\n",
       "    </tr>\n",
       "  </thead>\n",
       "  <tbody>\n",
       "    <tr>\n",
       "      <th>0</th>\n",
       "      <td>1</td>\n",
       "      <td>5.1</td>\n",
       "      <td>3.5</td>\n",
       "      <td>1.4</td>\n",
       "      <td>0.2</td>\n",
       "      <td>Iris-setosa</td>\n",
       "    </tr>\n",
       "    <tr>\n",
       "      <th>1</th>\n",
       "      <td>2</td>\n",
       "      <td>4.9</td>\n",
       "      <td>3.0</td>\n",
       "      <td>1.4</td>\n",
       "      <td>0.2</td>\n",
       "      <td>Iris-setosa</td>\n",
       "    </tr>\n",
       "    <tr>\n",
       "      <th>2</th>\n",
       "      <td>3</td>\n",
       "      <td>4.7</td>\n",
       "      <td>3.2</td>\n",
       "      <td>1.3</td>\n",
       "      <td>0.2</td>\n",
       "      <td>Iris-setosa</td>\n",
       "    </tr>\n",
       "    <tr>\n",
       "      <th>3</th>\n",
       "      <td>4</td>\n",
       "      <td>4.6</td>\n",
       "      <td>3.1</td>\n",
       "      <td>1.5</td>\n",
       "      <td>0.2</td>\n",
       "      <td>Iris-setosa</td>\n",
       "    </tr>\n",
       "    <tr>\n",
       "      <th>4</th>\n",
       "      <td>5</td>\n",
       "      <td>5.0</td>\n",
       "      <td>3.6</td>\n",
       "      <td>1.4</td>\n",
       "      <td>0.2</td>\n",
       "      <td>Iris-setosa</td>\n",
       "    </tr>\n",
       "    <tr>\n",
       "      <th>...</th>\n",
       "      <td>...</td>\n",
       "      <td>...</td>\n",
       "      <td>...</td>\n",
       "      <td>...</td>\n",
       "      <td>...</td>\n",
       "      <td>...</td>\n",
       "    </tr>\n",
       "    <tr>\n",
       "      <th>145</th>\n",
       "      <td>146</td>\n",
       "      <td>6.7</td>\n",
       "      <td>3.0</td>\n",
       "      <td>5.2</td>\n",
       "      <td>2.3</td>\n",
       "      <td>Iris-virginica</td>\n",
       "    </tr>\n",
       "    <tr>\n",
       "      <th>146</th>\n",
       "      <td>147</td>\n",
       "      <td>6.3</td>\n",
       "      <td>2.5</td>\n",
       "      <td>5.0</td>\n",
       "      <td>1.9</td>\n",
       "      <td>Iris-virginica</td>\n",
       "    </tr>\n",
       "    <tr>\n",
       "      <th>147</th>\n",
       "      <td>148</td>\n",
       "      <td>6.5</td>\n",
       "      <td>3.0</td>\n",
       "      <td>5.2</td>\n",
       "      <td>2.0</td>\n",
       "      <td>Iris-virginica</td>\n",
       "    </tr>\n",
       "    <tr>\n",
       "      <th>148</th>\n",
       "      <td>149</td>\n",
       "      <td>6.2</td>\n",
       "      <td>3.4</td>\n",
       "      <td>5.4</td>\n",
       "      <td>2.3</td>\n",
       "      <td>Iris-virginica</td>\n",
       "    </tr>\n",
       "    <tr>\n",
       "      <th>149</th>\n",
       "      <td>150</td>\n",
       "      <td>5.9</td>\n",
       "      <td>3.0</td>\n",
       "      <td>5.1</td>\n",
       "      <td>1.8</td>\n",
       "      <td>Iris-virginica</td>\n",
       "    </tr>\n",
       "  </tbody>\n",
       "</table>\n",
       "<p>150 rows × 6 columns</p>\n",
       "</div>"
      ],
      "text/plain": [
       "      Id  SepalLengthCm  SepalWidthCm  PetalLengthCm  PetalWidthCm  \\\n",
       "0      1            5.1           3.5            1.4           0.2   \n",
       "1      2            4.9           3.0            1.4           0.2   \n",
       "2      3            4.7           3.2            1.3           0.2   \n",
       "3      4            4.6           3.1            1.5           0.2   \n",
       "4      5            5.0           3.6            1.4           0.2   \n",
       "..   ...            ...           ...            ...           ...   \n",
       "145  146            6.7           3.0            5.2           2.3   \n",
       "146  147            6.3           2.5            5.0           1.9   \n",
       "147  148            6.5           3.0            5.2           2.0   \n",
       "148  149            6.2           3.4            5.4           2.3   \n",
       "149  150            5.9           3.0            5.1           1.8   \n",
       "\n",
       "            Species  \n",
       "0       Iris-setosa  \n",
       "1       Iris-setosa  \n",
       "2       Iris-setosa  \n",
       "3       Iris-setosa  \n",
       "4       Iris-setosa  \n",
       "..              ...  \n",
       "145  Iris-virginica  \n",
       "146  Iris-virginica  \n",
       "147  Iris-virginica  \n",
       "148  Iris-virginica  \n",
       "149  Iris-virginica  \n",
       "\n",
       "[150 rows x 6 columns]"
      ]
     },
     "execution_count": 33,
     "metadata": {},
     "output_type": "execute_result"
    }
   ],
   "source": [
    "# Read in the .csv dataset from the data folder \n",
    "df = pd.read_csv('data/Iris.csv')\n",
    "\n",
    "# Show the dataframe\n",
    "df"
   ]
  },
  {
   "cell_type": "markdown",
   "metadata": {},
   "source": [
    "### <span style =\"color:blue\">Checking for any missing data in the dataframe</span>\n",
    "\n",
    "Firstly, before doing any analysis on the dataframe, we check if it contains any missing data. Pandas uses [NaN](https://pandas.pydata.org/pandas-docs/stable/user_guide/missing_data.html#working-with-missing-data)<sup>46</sup> to denote any missing data in the dataframe. To check the entire dataframe for any NaN values, I have sourced code from [Data to Fish, 2021](https://datatofish.com/check-nan-pandas-dataframe/)<sup>47</sup>. The ``.isnull()`` function on it's own simply prints the top five and bottom five rows of the dataframe as Panda's would normally do but replace the data with **True** if there is missing data and **False** if there is no missing data. However, this does easily show if any data throughout the dataframe are missing. To show if there are any missing values throughout the dataframe, the ``.values.any()`` function is added on after the ``.isnull()`` function. This will return **True** if there are any **NaN** values and **False** if there are no **NaN** values. From the code below, we can see that there are no missing (**NaN**) data in the dataframe."
   ]
  },
  {
   "cell_type": "code",
   "execution_count": 34,
   "metadata": {},
   "outputs": [
    {
     "data": {
      "text/plain": [
       "False"
      ]
     },
     "execution_count": 34,
     "metadata": {},
     "output_type": "execute_result"
    }
   ],
   "source": [
    "# Checking if the dataframe has any missing (Nan) values\n",
    "df.isnull().values.any()\n",
    "\n",
    "# If there were missing values, the number of values can be counted using .sum()\n",
    "#df.isnull().values.any().sum()"
   ]
  },
  {
   "cell_type": "markdown",
   "metadata": {},
   "source": [
    "### <span style =\"color:blue\">Plotting</span>\n",
    "\n",
    "Firstly, I have adapted code from [Geeksforgeeks](https://www.geeksforgeeks.org/python-seaborn-lmplot-method/)<sup>48</sup> to create two simple scatter plots with linear regression lines to illustrate two of the cominations of the attributes of the three classes. It is evident from  **Plot A** below that the blue dots representing the Setosa are sepertated from the orange and green dots representing the other two classes as the Setosa data are clustered towards the bottom left of the plot while the Versicolor and Virginica are more centered and to the top right of the plot. This suggests that the Setosa has a significantly lower Sepal length and and significantly lower Petal Length than the other two classes in general. \n",
    "\n",
    "**Plot B** then looks at the Sepal length and the Sepal width of the three classes. Again, it is evident from the plot that the Setosam data is to the top left of the plot while the other two classes are to the center and right of the plot. Here however, the Setosa has one [outlier](https://www.freecodecamp.org/news/what-is-an-outlier-definition-and-how-to-find-outliers-in-statistics/)<sup>49</sup> . However, it is normal for there to be some outliers in all data. \n",
    "\n",
    "These plots would suggest that the Setosa class is easily seperable from the other two classes. On the contrary, the plot would suggest that the Versicolor and virginica would not be easily seperable from eachother, given the overlap of the data."
   ]
  },
  {
   "cell_type": "code",
   "execution_count": 35,
   "metadata": {},
   "outputs": [
    {
     "data": {
      "image/png": "[encoded data removed]",
      "text/plain": [
       "<Figure size 643x500 with 1 Axes>"
      ]
     },
     "metadata": {},
     "output_type": "display_data"
    }
   ],
   "source": [
    "sns.lmplot(x ='PetalLengthCm', y ='SepalLengthCm', data = df, hue =\"Species\")\n",
    "\n",
    "plt.title(\"Plot A: Petal Length & Sepal Length based on species\" , size = 10 , color = \"black\")\n",
    "plt.plot() \n",
    "plt.show()\n",
    " \n"
   ]
  },
  {
   "cell_type": "code",
   "execution_count": 36,
   "metadata": {},
   "outputs": [
    {
     "data": {
      "image/png": "[encoded data removed]",
      "text/plain": [
       "<Figure size 643x500 with 1 Axes>"
      ]
     },
     "metadata": {},
     "output_type": "display_data"
    }
   ],
   "source": [
    "sns.lmplot(x='SepalLengthCm', y='SepalWidthCm', data=df, hue='Species')\n",
    "plt.title(\"Sepal Length & Sepal Width based on species\" , size = 10 , color = \"black\")\n",
    "plt.plot() \n",
    "plt.show()\n",
    " "
   ]
  },
  {
   "cell_type": "markdown",
   "metadata": {},
   "source": [
    "### <span style =\"color:blue\">Plotting the data using Pairplots</span>\n",
    "\n",
    "\n",
    "Rather than plotting all of the possible variations of Sepal Length & Width and Petal Length and Width on individual plots, they can all be plotted on one plot using a [Pairplot](https://seaborn.pydata.org/generated/seaborn.pairplot.html)<sup>50</sup>. This is demonstrated below. Using the Pandas [iloc[]](https://pandas.pydata.org/docs/reference/api/pandas.DataFrame.iloc.html)<sup>51</sup> function, I selected all of the rows and column indexes 1 through to 6. I sourced code from [statology](https://www.statology.org/pandas-select-multiple-columns/)<sup>52</sup>  select the columns in Index Range. I did not include column index 0 as this was just the ID column. I needed to inlcude index 6 in the function as so that index 5 would be included, as ``iloc[]`` does not inlcude the last index inputted into the function."
   ]
  },
  {
   "cell_type": "code",
   "execution_count": 37,
   "metadata": {},
   "outputs": [
    {
     "data": {
      "image/png": "[encoded data removed]",
      "text/plain": [
       "<Figure size 1143x1000 with 20 Axes>"
      ]
     },
     "metadata": {},
     "output_type": "display_data"
    }
   ],
   "source": [
    "pp = sns.pairplot(df.iloc[:,1:6], hue=\"Species\", height = 2.5,  markers=[\"o\", \"s\", \"D\"])\n",
    "#Create a heading for the pair plot\n",
    "pp.fig.suptitle(\"The Iris Data\" , \n",
    "               fontsize = 'x-large' ,  \n",
    "               fontweight = 'bold',\n",
    "                color = \"black\" ) \n",
    "  \n",
    "# Adjust subplots so that title doesn't lie on top of the top plots\n",
    "pp.fig.subplots_adjust( top = 0.95 ) \n",
    "plt.plot()\n",
    "plt.show()"
   ]
  },
  {
   "cell_type": "markdown",
   "metadata": {},
   "source": [
    "### <span style =\"color:blue\">Interpreting the Pairplot</span>\n",
    "\n",
    "The Pairplot gives a more overall visualisation of the classes of flower and their features. It is evident from all of the above variations of Petals and Sepals that the Setosa is seperable from the other two classes as in each of the plots the blue dots are clusered together and there is no overlap with the other two classes One exception to this would be the Sepal Length and Sepal Width where the Setosa has one [outlier](https://www.freecodecamp.org/news/what-is-an-outlier-definition-and-how-to-find-outliers-in-statistics/)<sup>53</sup>  that finds itself closer to the data of the other two classes. "
   ]
  },
  {
   "cell_type": "markdown",
   "metadata": {},
   "source": [
    "### <span style =\"color:blue\">The Euclidean Distance Formula</span>\n",
    "\n",
    "The Euclidean Distance formula is the distance between two points [Wikipedia](https://en.wikipedia.org/wiki/Euclidean_distance)<sup>54</sup>. This formula can be used to check to see if there is a seperation between the Setosa Dat points and the data point of thr other two classes. The Function is as follows:\n",
    " \n",
    "$$\\sqrt{{\\sum\\limits_{i=1}^n}{(y_i - x_i)^2}}$$\n",
    "\n"
   ]
  },
  {
   "cell_type": "markdown",
   "metadata": {},
   "source": [
    "Firstly, I order to be able to use the above function, I removed the first and last columns of the dataframe using code from [statology](https://www.statology.org/pandas-drop-first-column/)<sup>55</sup> and [thisPointer](https://thispointer.com/pandas-delete-last-column-of-dataframe-in-python/)<sup>56</sup>. I removed the first column (the id Column as including the id column would throw off the accuracy of the formula). I wremoved the last column as the data type is in string format."
   ]
  },
  {
   "cell_type": "code",
   "execution_count": 38,
   "metadata": {},
   "outputs": [],
   "source": [
    "#Removing the Last column of the dataframe\n",
    "df = df.iloc[:, :-1]"
   ]
  },
  {
   "cell_type": "code",
   "execution_count": 39,
   "metadata": {},
   "outputs": [],
   "source": [
    "#Removing the First column of the dataframe\n",
    "df = df.iloc[: , 1:]"
   ]
  },
  {
   "cell_type": "markdown",
   "metadata": {},
   "source": [
    "I then singled out row index 0 which is a Setosa class row and row index 87 which is a row from the Versicolor class. I carried out the ``Euclidean Distance Formula`` on these two rows of data:"
   ]
  },
  {
   "cell_type": "code",
   "execution_count": 40,
   "metadata": {},
   "outputs": [],
   "source": [
    "a = df.iloc[0]"
   ]
  },
  {
   "cell_type": "code",
   "execution_count": 41,
   "metadata": {},
   "outputs": [],
   "source": [
    "b = df.iloc[87]"
   ]
  },
  {
   "cell_type": "code",
   "execution_count": 42,
   "metadata": {},
   "outputs": [
    {
     "data": {
      "text/plain": [
       "6.5"
      ]
     },
     "execution_count": 42,
     "metadata": {},
     "output_type": "execute_result"
    }
   ],
   "source": [
    "diff = np.sqrt((b-a)**2).sum()\n",
    "diff\n"
   ]
  },
  {
   "cell_type": "markdown",
   "metadata": {},
   "source": [
    "Next, I singled out row index 0 which is a Setosa class row and row index 145 which is a row from the Virginica class. and carries out the same formula on these two rows of data:"
   ]
  },
  {
   "cell_type": "code",
   "execution_count": 43,
   "metadata": {},
   "outputs": [],
   "source": [
    "c = df.iloc[0]"
   ]
  },
  {
   "cell_type": "code",
   "execution_count": 44,
   "metadata": {},
   "outputs": [],
   "source": [
    "d = df.iloc[145]"
   ]
  },
  {
   "cell_type": "code",
   "execution_count": 45,
   "metadata": {},
   "outputs": [
    {
     "data": {
      "text/plain": [
       "8.0"
      ]
     },
     "execution_count": 45,
     "metadata": {},
     "output_type": "execute_result"
    }
   ],
   "source": [
    "diff = np.sqrt((d-c)**2).sum()\n",
    "diff"
   ]
  },
  {
   "cell_type": "markdown",
   "metadata": {},
   "source": [
    "### <span style =\"color:blue\">Interpreting the result of the Euclidean Formula</span>"
   ]
  },
  {
   "cell_type": "markdown",
   "metadata": {},
   "source": [
    "The result of 6.5 above is the sum in cm of all the difference of the four attributes of the Setosa and Versicolor classes. This would suggest that Setosa is seperable from the Verginica flower.\n",
    "\n",
    "Similarly, the result of 8.0 above which is the sum in cm of the difference of the four attributes of the Setosa and Verginica classes would also suggest that the Setosa is Seperable from the Virginica.\n",
    "\n"
   ]
  },
  {
   "cell_type": "markdown",
   "metadata": {},
   "source": [
    "# <span style=\"color:blue\"> End </span>\n",
    "***"
   ]
  },
  {
   "cell_type": "markdown",
   "metadata": {},
   "source": [
    "## <ins><span style=\"color:blue\"> Task 5</span></ins>\n",
    "> *Perform Principal Component Analysis on the iris data set, reducing the number of dimensions to two. Explain the purpose of the analysis and your results.*"
   ]
  },
  {
   "cell_type": "markdown",
   "metadata": {},
   "source": [
    "### <span style =\"color:blue\">Introduction</span>\n",
    "\n",
    "\n",
    "Larger datasets which contain numerous attributes or features per observation have more dimentions which can make the data very difficult to visualise. Take for example a dataset with just two input features or attributes per observation - these would be very simple to plot and visualise on a simple scatterplot. However, the more and more features the dataset has, the more dimentions the plot is going to need to facilitate and visualise all of the features.\n",
    "\n",
    "Furthermore, when there are larger number of features, this can cause distances between datapoints in the dataset to become insignificant because as more features are added, the data becomes more complex and sparse [datacamp, (2023)](https://www.datacamp.com/blog/curse-of-dimensionality-machine-learning)<sup>57</sup>. This is a problem because establishing accurate distances between datapoints in a datset is actually very important in machine learning. It is used in both supervised and unsupervised machine learning to calculate similarity in datapoints for classification of data [Sharma, P, (2023)](https://www.analyticsvidhya.com/blog/2020/02/4-types-of-distance-metrics-in-machine-learning/#:~:text=Conclusion-,Distance%20metrics%20are%20a%20key%20part%20of%20several%20machine%20learning,important%20than%20you%20might%20realize.)<sup>58</sup>. This classified data which has been trainied using classifiers which depnend on distance metrics for effective performance is used to predict unknown outputs based on new input variables.\n",
    "\n",
    "This is why Principal Component Analysis (PCA) is a very valuable tool in machine learning. It is a statistical technique which is used on larger datasets which have a greater number of features or attributes per observation. It reduces the number of dimentions of the dataset making it easier to interpret, while maintaining the maximum amount of information [Wikipedia, (2023)](https://en.wikipedia.org/wiki/Principal_component_analysis)<sup>59</sup>.\n",
    "\n",
    "This task sets out to:\n",
    "1) Show how PCA works, both on original data and on scaled data.\n",
    "2) Explain its purpose through implementing it and analyising the results I get from it."
   ]
  },
  {
   "cell_type": "markdown",
   "metadata": {},
   "source": [
    "### <span style =\"color:blue\">Reading in the dataset</span>\n",
    "\n",
    "For this final task, I will be again using the famous Iris dataset which I have sourced from [Kaggle (UCI Machine Learning)](https://www.kaggle.com/datasets/uciml/iris/)<sup>60</sup>. Below, I have used [pandas](https://pandas.pydata.org/docs/reference/api/pandas.read_csv.html)<sup>61</sup> to read in the .csv file from my data folder. I have already read in this dataset in task four above, but I will do so again so that I am working with the original dataframe again rather than any modified version that I may have created above."
   ]
  },
  {
   "cell_type": "code",
   "execution_count": 46,
   "metadata": {},
   "outputs": [
    {
     "data": {
      "text/html": [
       "<div>\n",
       "<style scoped>\n",
       "    .dataframe tbody tr th:only-of-type {\n",
       "        vertical-align: middle;\n",
       "    }\n",
       "\n",
       "    .dataframe tbody tr th {\n",
       "        vertical-align: top;\n",
       "    }\n",
       "\n",
       "    .dataframe thead th {\n",
       "        text-align: right;\n",
       "    }\n",
       "</style>\n",
       "<table border=\"1\" class=\"dataframe\">\n",
       "  <thead>\n",
       "    <tr style=\"text-align: right;\">\n",
       "      <th></th>\n",
       "      <th>Id</th>\n",
       "      <th>SepalLengthCm</th>\n",
       "      <th>SepalWidthCm</th>\n",
       "      <th>PetalLengthCm</th>\n",
       "      <th>PetalWidthCm</th>\n",
       "      <th>Species</th>\n",
       "    </tr>\n",
       "  </thead>\n",
       "  <tbody>\n",
       "    <tr>\n",
       "      <th>0</th>\n",
       "      <td>1</td>\n",
       "      <td>5.1</td>\n",
       "      <td>3.5</td>\n",
       "      <td>1.4</td>\n",
       "      <td>0.2</td>\n",
       "      <td>Iris-setosa</td>\n",
       "    </tr>\n",
       "    <tr>\n",
       "      <th>1</th>\n",
       "      <td>2</td>\n",
       "      <td>4.9</td>\n",
       "      <td>3.0</td>\n",
       "      <td>1.4</td>\n",
       "      <td>0.2</td>\n",
       "      <td>Iris-setosa</td>\n",
       "    </tr>\n",
       "    <tr>\n",
       "      <th>2</th>\n",
       "      <td>3</td>\n",
       "      <td>4.7</td>\n",
       "      <td>3.2</td>\n",
       "      <td>1.3</td>\n",
       "      <td>0.2</td>\n",
       "      <td>Iris-setosa</td>\n",
       "    </tr>\n",
       "    <tr>\n",
       "      <th>3</th>\n",
       "      <td>4</td>\n",
       "      <td>4.6</td>\n",
       "      <td>3.1</td>\n",
       "      <td>1.5</td>\n",
       "      <td>0.2</td>\n",
       "      <td>Iris-setosa</td>\n",
       "    </tr>\n",
       "    <tr>\n",
       "      <th>4</th>\n",
       "      <td>5</td>\n",
       "      <td>5.0</td>\n",
       "      <td>3.6</td>\n",
       "      <td>1.4</td>\n",
       "      <td>0.2</td>\n",
       "      <td>Iris-setosa</td>\n",
       "    </tr>\n",
       "    <tr>\n",
       "      <th>...</th>\n",
       "      <td>...</td>\n",
       "      <td>...</td>\n",
       "      <td>...</td>\n",
       "      <td>...</td>\n",
       "      <td>...</td>\n",
       "      <td>...</td>\n",
       "    </tr>\n",
       "    <tr>\n",
       "      <th>145</th>\n",
       "      <td>146</td>\n",
       "      <td>6.7</td>\n",
       "      <td>3.0</td>\n",
       "      <td>5.2</td>\n",
       "      <td>2.3</td>\n",
       "      <td>Iris-virginica</td>\n",
       "    </tr>\n",
       "    <tr>\n",
       "      <th>146</th>\n",
       "      <td>147</td>\n",
       "      <td>6.3</td>\n",
       "      <td>2.5</td>\n",
       "      <td>5.0</td>\n",
       "      <td>1.9</td>\n",
       "      <td>Iris-virginica</td>\n",
       "    </tr>\n",
       "    <tr>\n",
       "      <th>147</th>\n",
       "      <td>148</td>\n",
       "      <td>6.5</td>\n",
       "      <td>3.0</td>\n",
       "      <td>5.2</td>\n",
       "      <td>2.0</td>\n",
       "      <td>Iris-virginica</td>\n",
       "    </tr>\n",
       "    <tr>\n",
       "      <th>148</th>\n",
       "      <td>149</td>\n",
       "      <td>6.2</td>\n",
       "      <td>3.4</td>\n",
       "      <td>5.4</td>\n",
       "      <td>2.3</td>\n",
       "      <td>Iris-virginica</td>\n",
       "    </tr>\n",
       "    <tr>\n",
       "      <th>149</th>\n",
       "      <td>150</td>\n",
       "      <td>5.9</td>\n",
       "      <td>3.0</td>\n",
       "      <td>5.1</td>\n",
       "      <td>1.8</td>\n",
       "      <td>Iris-virginica</td>\n",
       "    </tr>\n",
       "  </tbody>\n",
       "</table>\n",
       "<p>150 rows × 6 columns</p>\n",
       "</div>"
      ],
      "text/plain": [
       "      Id  SepalLengthCm  SepalWidthCm  PetalLengthCm  PetalWidthCm  \\\n",
       "0      1            5.1           3.5            1.4           0.2   \n",
       "1      2            4.9           3.0            1.4           0.2   \n",
       "2      3            4.7           3.2            1.3           0.2   \n",
       "3      4            4.6           3.1            1.5           0.2   \n",
       "4      5            5.0           3.6            1.4           0.2   \n",
       "..   ...            ...           ...            ...           ...   \n",
       "145  146            6.7           3.0            5.2           2.3   \n",
       "146  147            6.3           2.5            5.0           1.9   \n",
       "147  148            6.5           3.0            5.2           2.0   \n",
       "148  149            6.2           3.4            5.4           2.3   \n",
       "149  150            5.9           3.0            5.1           1.8   \n",
       "\n",
       "            Species  \n",
       "0       Iris-setosa  \n",
       "1       Iris-setosa  \n",
       "2       Iris-setosa  \n",
       "3       Iris-setosa  \n",
       "4       Iris-setosa  \n",
       "..              ...  \n",
       "145  Iris-virginica  \n",
       "146  Iris-virginica  \n",
       "147  Iris-virginica  \n",
       "148  Iris-virginica  \n",
       "149  Iris-virginica  \n",
       "\n",
       "[150 rows x 6 columns]"
      ]
     },
     "execution_count": 46,
     "metadata": {},
     "output_type": "execute_result"
    }
   ],
   "source": [
    "# Read in the .csv dataset from the data folder and dropping NaN values if any\n",
    "df = pd.read_csv('data/Iris.csv').dropna()\n",
    "\n",
    "# Show the dataframe\n",
    "df"
   ]
  },
  {
   "cell_type": "markdown",
   "metadata": {},
   "source": [
    "Next, using the ``df.drop()`` method, below I have remove the **Id** column from the dataframe [freecodecamp, (2023)](https://www.freecodecamp.org/news/dataframe-drop-column-in-pandas-how-to-remove-columns-from-dataframes/)<sup>62</sup> as this column will not be required."
   ]
  },
  {
   "cell_type": "code",
   "execution_count": 47,
   "metadata": {},
   "outputs": [
    {
     "data": {
      "text/html": [
       "<div>\n",
       "<style scoped>\n",
       "    .dataframe tbody tr th:only-of-type {\n",
       "        vertical-align: middle;\n",
       "    }\n",
       "\n",
       "    .dataframe tbody tr th {\n",
       "        vertical-align: top;\n",
       "    }\n",
       "\n",
       "    .dataframe thead th {\n",
       "        text-align: right;\n",
       "    }\n",
       "</style>\n",
       "<table border=\"1\" class=\"dataframe\">\n",
       "  <thead>\n",
       "    <tr style=\"text-align: right;\">\n",
       "      <th></th>\n",
       "      <th>SepalLengthCm</th>\n",
       "      <th>SepalWidthCm</th>\n",
       "      <th>PetalLengthCm</th>\n",
       "      <th>PetalWidthCm</th>\n",
       "      <th>Species</th>\n",
       "    </tr>\n",
       "  </thead>\n",
       "  <tbody>\n",
       "    <tr>\n",
       "      <th>0</th>\n",
       "      <td>5.1</td>\n",
       "      <td>3.5</td>\n",
       "      <td>1.4</td>\n",
       "      <td>0.2</td>\n",
       "      <td>Iris-setosa</td>\n",
       "    </tr>\n",
       "    <tr>\n",
       "      <th>1</th>\n",
       "      <td>4.9</td>\n",
       "      <td>3.0</td>\n",
       "      <td>1.4</td>\n",
       "      <td>0.2</td>\n",
       "      <td>Iris-setosa</td>\n",
       "    </tr>\n",
       "    <tr>\n",
       "      <th>2</th>\n",
       "      <td>4.7</td>\n",
       "      <td>3.2</td>\n",
       "      <td>1.3</td>\n",
       "      <td>0.2</td>\n",
       "      <td>Iris-setosa</td>\n",
       "    </tr>\n",
       "    <tr>\n",
       "      <th>3</th>\n",
       "      <td>4.6</td>\n",
       "      <td>3.1</td>\n",
       "      <td>1.5</td>\n",
       "      <td>0.2</td>\n",
       "      <td>Iris-setosa</td>\n",
       "    </tr>\n",
       "    <tr>\n",
       "      <th>4</th>\n",
       "      <td>5.0</td>\n",
       "      <td>3.6</td>\n",
       "      <td>1.4</td>\n",
       "      <td>0.2</td>\n",
       "      <td>Iris-setosa</td>\n",
       "    </tr>\n",
       "    <tr>\n",
       "      <th>...</th>\n",
       "      <td>...</td>\n",
       "      <td>...</td>\n",
       "      <td>...</td>\n",
       "      <td>...</td>\n",
       "      <td>...</td>\n",
       "    </tr>\n",
       "    <tr>\n",
       "      <th>145</th>\n",
       "      <td>6.7</td>\n",
       "      <td>3.0</td>\n",
       "      <td>5.2</td>\n",
       "      <td>2.3</td>\n",
       "      <td>Iris-virginica</td>\n",
       "    </tr>\n",
       "    <tr>\n",
       "      <th>146</th>\n",
       "      <td>6.3</td>\n",
       "      <td>2.5</td>\n",
       "      <td>5.0</td>\n",
       "      <td>1.9</td>\n",
       "      <td>Iris-virginica</td>\n",
       "    </tr>\n",
       "    <tr>\n",
       "      <th>147</th>\n",
       "      <td>6.5</td>\n",
       "      <td>3.0</td>\n",
       "      <td>5.2</td>\n",
       "      <td>2.0</td>\n",
       "      <td>Iris-virginica</td>\n",
       "    </tr>\n",
       "    <tr>\n",
       "      <th>148</th>\n",
       "      <td>6.2</td>\n",
       "      <td>3.4</td>\n",
       "      <td>5.4</td>\n",
       "      <td>2.3</td>\n",
       "      <td>Iris-virginica</td>\n",
       "    </tr>\n",
       "    <tr>\n",
       "      <th>149</th>\n",
       "      <td>5.9</td>\n",
       "      <td>3.0</td>\n",
       "      <td>5.1</td>\n",
       "      <td>1.8</td>\n",
       "      <td>Iris-virginica</td>\n",
       "    </tr>\n",
       "  </tbody>\n",
       "</table>\n",
       "<p>150 rows × 5 columns</p>\n",
       "</div>"
      ],
      "text/plain": [
       "     SepalLengthCm  SepalWidthCm  PetalLengthCm  PetalWidthCm         Species\n",
       "0              5.1           3.5            1.4           0.2     Iris-setosa\n",
       "1              4.9           3.0            1.4           0.2     Iris-setosa\n",
       "2              4.7           3.2            1.3           0.2     Iris-setosa\n",
       "3              4.6           3.1            1.5           0.2     Iris-setosa\n",
       "4              5.0           3.6            1.4           0.2     Iris-setosa\n",
       "..             ...           ...            ...           ...             ...\n",
       "145            6.7           3.0            5.2           2.3  Iris-virginica\n",
       "146            6.3           2.5            5.0           1.9  Iris-virginica\n",
       "147            6.5           3.0            5.2           2.0  Iris-virginica\n",
       "148            6.2           3.4            5.4           2.3  Iris-virginica\n",
       "149            5.9           3.0            5.1           1.8  Iris-virginica\n",
       "\n",
       "[150 rows x 5 columns]"
      ]
     },
     "execution_count": 47,
     "metadata": {},
     "output_type": "execute_result"
    }
   ],
   "source": [
    "# remove the Id column\n",
    "df = df.drop(columns=['Id'])\n",
    "\n",
    "# show new df with id column removed\n",
    "df"
   ]
  },
  {
   "cell_type": "markdown",
   "metadata": {},
   "source": [
    "### <span style =\"color:blue\">Pulling the X variables from the dataframe</span>\n",
    "\n",
    "Below, I have pulled out all of the numerical input variables from the dataframe and create a new dataframe called **X**. This new dataframe will be the basis for the PCA."
   ]
  },
  {
   "cell_type": "code",
   "execution_count": 48,
   "metadata": {},
   "outputs": [
    {
     "data": {
      "text/html": [
       "<div>\n",
       "<style scoped>\n",
       "    .dataframe tbody tr th:only-of-type {\n",
       "        vertical-align: middle;\n",
       "    }\n",
       "\n",
       "    .dataframe tbody tr th {\n",
       "        vertical-align: top;\n",
       "    }\n",
       "\n",
       "    .dataframe thead th {\n",
       "        text-align: right;\n",
       "    }\n",
       "</style>\n",
       "<table border=\"1\" class=\"dataframe\">\n",
       "  <thead>\n",
       "    <tr style=\"text-align: right;\">\n",
       "      <th></th>\n",
       "      <th>SepalLengthCm</th>\n",
       "      <th>SepalWidthCm</th>\n",
       "      <th>PetalLengthCm</th>\n",
       "      <th>PetalWidthCm</th>\n",
       "    </tr>\n",
       "  </thead>\n",
       "  <tbody>\n",
       "    <tr>\n",
       "      <th>0</th>\n",
       "      <td>5.1</td>\n",
       "      <td>3.5</td>\n",
       "      <td>1.4</td>\n",
       "      <td>0.2</td>\n",
       "    </tr>\n",
       "    <tr>\n",
       "      <th>1</th>\n",
       "      <td>4.9</td>\n",
       "      <td>3.0</td>\n",
       "      <td>1.4</td>\n",
       "      <td>0.2</td>\n",
       "    </tr>\n",
       "    <tr>\n",
       "      <th>2</th>\n",
       "      <td>4.7</td>\n",
       "      <td>3.2</td>\n",
       "      <td>1.3</td>\n",
       "      <td>0.2</td>\n",
       "    </tr>\n",
       "    <tr>\n",
       "      <th>3</th>\n",
       "      <td>4.6</td>\n",
       "      <td>3.1</td>\n",
       "      <td>1.5</td>\n",
       "      <td>0.2</td>\n",
       "    </tr>\n",
       "    <tr>\n",
       "      <th>4</th>\n",
       "      <td>5.0</td>\n",
       "      <td>3.6</td>\n",
       "      <td>1.4</td>\n",
       "      <td>0.2</td>\n",
       "    </tr>\n",
       "    <tr>\n",
       "      <th>...</th>\n",
       "      <td>...</td>\n",
       "      <td>...</td>\n",
       "      <td>...</td>\n",
       "      <td>...</td>\n",
       "    </tr>\n",
       "    <tr>\n",
       "      <th>145</th>\n",
       "      <td>6.7</td>\n",
       "      <td>3.0</td>\n",
       "      <td>5.2</td>\n",
       "      <td>2.3</td>\n",
       "    </tr>\n",
       "    <tr>\n",
       "      <th>146</th>\n",
       "      <td>6.3</td>\n",
       "      <td>2.5</td>\n",
       "      <td>5.0</td>\n",
       "      <td>1.9</td>\n",
       "    </tr>\n",
       "    <tr>\n",
       "      <th>147</th>\n",
       "      <td>6.5</td>\n",
       "      <td>3.0</td>\n",
       "      <td>5.2</td>\n",
       "      <td>2.0</td>\n",
       "    </tr>\n",
       "    <tr>\n",
       "      <th>148</th>\n",
       "      <td>6.2</td>\n",
       "      <td>3.4</td>\n",
       "      <td>5.4</td>\n",
       "      <td>2.3</td>\n",
       "    </tr>\n",
       "    <tr>\n",
       "      <th>149</th>\n",
       "      <td>5.9</td>\n",
       "      <td>3.0</td>\n",
       "      <td>5.1</td>\n",
       "      <td>1.8</td>\n",
       "    </tr>\n",
       "  </tbody>\n",
       "</table>\n",
       "<p>150 rows × 4 columns</p>\n",
       "</div>"
      ],
      "text/plain": [
       "     SepalLengthCm  SepalWidthCm  PetalLengthCm  PetalWidthCm\n",
       "0              5.1           3.5            1.4           0.2\n",
       "1              4.9           3.0            1.4           0.2\n",
       "2              4.7           3.2            1.3           0.2\n",
       "3              4.6           3.1            1.5           0.2\n",
       "4              5.0           3.6            1.4           0.2\n",
       "..             ...           ...            ...           ...\n",
       "145            6.7           3.0            5.2           2.3\n",
       "146            6.3           2.5            5.0           1.9\n",
       "147            6.5           3.0            5.2           2.0\n",
       "148            6.2           3.4            5.4           2.3\n",
       "149            5.9           3.0            5.1           1.8\n",
       "\n",
       "[150 rows x 4 columns]"
      ]
     },
     "execution_count": 48,
     "metadata": {},
     "output_type": "execute_result"
    }
   ],
   "source": [
    "# Creating a new dataframe X with only the independent numerical variables\n",
    "X = df[[\"SepalLengthCm\",\"SepalWidthCm\",\"PetalLengthCm\",\"PetalWidthCm\"]]\n",
    "\n",
    "# Show X\n",
    "X"
   ]
  },
  {
   "cell_type": "markdown",
   "metadata": {},
   "source": [
    "## <span style =\"color:blue\">Implementing PCA</span>\n",
    "***\n",
    "\n",
    "For the implementation of the PCA, I will carry it out twice. Firstly, with data as it appears in the *Iris Dataset* and a second time with the data scaled so see if scaling the data has any impact on on the PCA results."
   ]
  },
  {
   "cell_type": "markdown",
   "metadata": {},
   "source": [
    "### <ins><span style =\"color:blue\">1. PCA using data in units as it appears in the *Iris dataset*</span></ins>\n",
    "\n",
    "The PCA is carried out using [sklearn.decomposition.PCA](https://scikit-learn.org/stable/modules/generated/sklearn.decomposition.PCA.html)<sup>63</sup> module. ``PCA`` is a class in the ``sklearn.decomposition`` subpackage. Above in the *Importing Libraries* section, I have imported this as ``dec``. \n",
    "\n",
    "Below, I have created a new instance of the PCA and called it pca. I have passed in the parameter *n_components=2* as I want the PCA instance to produce two components or variables once I have trained the the PCA model."
   ]
  },
  {
   "cell_type": "code",
   "execution_count": 49,
   "metadata": {},
   "outputs": [],
   "source": [
    "# Create a new PCA instance \n",
    "# Passing in parameter of number of components = 2 so that we are left with 2 variables or 2 components from the original 4\n",
    "pca = dec.PCA(n_components=2)"
   ]
  },
  {
   "cell_type": "markdown",
   "metadata": {},
   "source": [
    "Now that the the PCA model is initialised, the next step below is to train the model using the ``fit()`` method. The fit() method trains the the algorithm using the training data once an instance of the model has been created [Ebner. J, (2022)](https://www.sharpsightlabs.com/blog/sklearn-fit/)<sup>64</sup>. In this case, our training data is **X**, and so **X** is passed in as the parameter to the fit() method."
   ]
  },
  {
   "cell_type": "code",
   "execution_count": 50,
   "metadata": {},
   "outputs": [
    {
     "data": {
      "text/html": [
       "<style>#sk-container-id-1 {color: black;}#sk-container-id-1 pre{padding: 0;}#sk-container-id-1 div.sk-toggleable {background-color: white;}#sk-container-id-1 label.sk-toggleable__label {cursor: pointer;display: block;width: 100%;margin-bottom: 0;padding: 0.3em;box-sizing: border-box;text-align: center;}#sk-container-id-1 label.sk-toggleable__label-arrow:before {content: \"▸\";float: left;margin-right: 0.25em;color: #696969;}#sk-container-id-1 label.sk-toggleable__label-arrow:hover:before {color: black;}#sk-container-id-1 div.sk-estimator:hover label.sk-toggleable__label-arrow:before {color: black;}#sk-container-id-1 div.sk-toggleable__content {max-height: 0;max-width: 0;overflow: hidden;text-align: left;background-color: #f0f8ff;}#sk-container-id-1 div.sk-toggleable__content pre {margin: 0.2em;color: black;border-radius: 0.25em;background-color: #f0f8ff;}#sk-container-id-1 input.sk-toggleable__control:checked~div.sk-toggleable__content {max-height: 200px;max-width: 100%;overflow: auto;}#sk-container-id-1 input.sk-toggleable__control:checked~label.sk-toggleable__label-arrow:before {content: \"▾\";}#sk-container-id-1 div.sk-estimator input.sk-toggleable__control:checked~label.sk-toggleable__label {background-color: #d4ebff;}#sk-container-id-1 div.sk-label input.sk-toggleable__control:checked~label.sk-toggleable__label {background-color: #d4ebff;}#sk-container-id-1 input.sk-hidden--visually {border: 0;clip: rect(1px 1px 1px 1px);clip: rect(1px, 1px, 1px, 1px);height: 1px;margin: -1px;overflow: hidden;padding: 0;position: absolute;width: 1px;}#sk-container-id-1 div.sk-estimator {font-family: monospace;background-color: #f0f8ff;border: 1px dotted black;border-radius: 0.25em;box-sizing: border-box;margin-bottom: 0.5em;}#sk-container-id-1 div.sk-estimator:hover {background-color: #d4ebff;}#sk-container-id-1 div.sk-parallel-item::after {content: \"\";width: 100%;border-bottom: 1px solid gray;flex-grow: 1;}#sk-container-id-1 div.sk-label:hover label.sk-toggleable__label {background-color: #d4ebff;}#sk-container-id-1 div.sk-serial::before {content: \"\";position: absolute;border-left: 1px solid gray;box-sizing: border-box;top: 0;bottom: 0;left: 50%;z-index: 0;}#sk-container-id-1 div.sk-serial {display: flex;flex-direction: column;align-items: center;background-color: white;padding-right: 0.2em;padding-left: 0.2em;position: relative;}#sk-container-id-1 div.sk-item {position: relative;z-index: 1;}#sk-container-id-1 div.sk-parallel {display: flex;align-items: stretch;justify-content: center;background-color: white;position: relative;}#sk-container-id-1 div.sk-item::before, #sk-container-id-1 div.sk-parallel-item::before {content: \"\";position: absolute;border-left: 1px solid gray;box-sizing: border-box;top: 0;bottom: 0;left: 50%;z-index: -1;}#sk-container-id-1 div.sk-parallel-item {display: flex;flex-direction: column;z-index: 1;position: relative;background-color: white;}#sk-container-id-1 div.sk-parallel-item:first-child::after {align-self: flex-end;width: 50%;}#sk-container-id-1 div.sk-parallel-item:last-child::after {align-self: flex-start;width: 50%;}#sk-container-id-1 div.sk-parallel-item:only-child::after {width: 0;}#sk-container-id-1 div.sk-dashed-wrapped {border: 1px dashed gray;margin: 0 0.4em 0.5em 0.4em;box-sizing: border-box;padding-bottom: 0.4em;background-color: white;}#sk-container-id-1 div.sk-label label {font-family: monospace;font-weight: bold;display: inline-block;line-height: 1.2em;}#sk-container-id-1 div.sk-label-container {text-align: center;}#sk-container-id-1 div.sk-container {/* jupyter's `normalize.less` sets `[hidden] { display: none; }` but bootstrap.min.css set `[hidden] { display: none !important; }` so we also need the `!important` here to be able to override the default hidden behavior on the sphinx rendered scikit-learn.org. See: https://github.com/scikit-learn/scikit-learn/issues/21755 */display: inline-block !important;position: relative;}#sk-container-id-1 div.sk-text-repr-fallback {display: none;}</style><div id=\"sk-container-id-1\" class=\"sk-top-container\"><div class=\"sk-text-repr-fallback\"><pre>PCA(n_components=2)</pre><b>In a Jupyter environment, please rerun this cell to show the HTML representation or trust the notebook. <br />On GitHub, the HTML representation is unable to render, please try loading this page with nbviewer.org.</b></div><div class=\"sk-container\" hidden><div class=\"sk-item\"><div class=\"sk-estimator sk-toggleable\"><input class=\"sk-toggleable__control sk-hidden--visually\" id=\"sk-estimator-id-1\" type=\"checkbox\" checked><label for=\"sk-estimator-id-1\" class=\"sk-toggleable__label sk-toggleable__label-arrow\">PCA</label><div class=\"sk-toggleable__content\"><pre>PCA(n_components=2)</pre></div></div></div></div></div>"
      ],
      "text/plain": [
       "PCA(n_components=2)"
      ]
     },
     "execution_count": 50,
     "metadata": {},
     "output_type": "execute_result"
    }
   ],
   "source": [
    "# Fitting the data to pca\n",
    "pca.fit(X)"
   ]
  },
  {
   "cell_type": "markdown",
   "metadata": {},
   "source": [
    "Once the model is trained using the fit() method above, the next step is to transform the data. Just above, I had initialised the PCA model and stored it as variable called **pca**. Now I am using that same **pca** variable as part of the transform() method so that the transform method produces just two output components rather than the four variables I had originally. This is then saved as variable called **X_pca**:"
   ]
  },
  {
   "cell_type": "code",
   "execution_count": 51,
   "metadata": {},
   "outputs": [],
   "source": [
    "# Transform X\n",
    "X_pca = pca.transform(X)\n",
    "\n",
    "# Showing transformed X which is an array with two variables/components\n",
    "#X_pca"
   ]
  },
  {
   "cell_type": "markdown",
   "metadata": {},
   "source": [
    "Using the ``pca.explained_variance_ratio_`` attribute of the ``sklearn.decomposition.PCA`` module we can establish how the two new components are fairing in terms of how much of the variance they explain. "
   ]
  },
  {
   "cell_type": "code",
   "execution_count": 52,
   "metadata": {},
   "outputs": [
    {
     "data": {
      "text/plain": [
       "array([0.92461621, 0.05301557])"
      ]
     },
     "execution_count": 52,
     "metadata": {},
     "output_type": "execute_result"
    }
   ],
   "source": [
    "# Calculate the explained variance ratio \n",
    "pca.explained_variance_ratio_"
   ]
  },
  {
   "cell_type": "code",
   "execution_count": 53,
   "metadata": {},
   "outputs": [
    {
     "data": {
      "text/plain": [
       "array([92.46162072,  5.30155679])"
      ]
     },
     "execution_count": 53,
     "metadata": {},
     "output_type": "execute_result"
    }
   ],
   "source": [
    "# Calculate the explained variance percentage \n",
    "(pca.explained_variance_ratio_)*100"
   ]
  },
  {
   "cell_type": "markdown",
   "metadata": {},
   "source": [
    "By adding the two ratios above together and getting the percentage, below we can see that the two components are explaining 97.96% of the variance."
   ]
  },
  {
   "cell_type": "code",
   "execution_count": 54,
   "metadata": {},
   "outputs": [
    {
     "data": {
      "text/plain": [
       "97.76"
      ]
     },
     "execution_count": 54,
     "metadata": {},
     "output_type": "execute_result"
    }
   ],
   "source": [
    "# Add the two ratios together and multiply by 100 to get percentage \n",
    "round((pca.explained_variance_ratio_.sum())*100,2)"
   ]
  },
  {
   "cell_type": "markdown",
   "metadata": {},
   "source": [
    " It is apparent from the results above that the first variable is explaining the majority of the variance (92.46%) and the second component is only expalining 5.30%. As a result it is still difficult to see a seperation between the three species of flowers. This difficulty can be visualised below using pair plots below. These pairplots have been generated from the new ``df_pca`` dataframe which contains the original Sepcies feature from the original dataframe plus the two pca components."
   ]
  },
  {
   "cell_type": "markdown",
   "metadata": {},
   "source": [
    "#### <span style =\"color:blue\">Create new dataframe with the two components generated from the PCA</span>\n",
    "\n",
    "In order to be able to plot the new components, firstly, the data needs to be converted back into a ``pandas dataframe``. This is done below, using the original dependent variable column (*Species*) from the original dataframe along with the two new components."
   ]
  },
  {
   "cell_type": "code",
   "execution_count": 55,
   "metadata": {},
   "outputs": [
    {
     "data": {
      "text/html": [
       "<div>\n",
       "<style scoped>\n",
       "    .dataframe tbody tr th:only-of-type {\n",
       "        vertical-align: middle;\n",
       "    }\n",
       "\n",
       "    .dataframe tbody tr th {\n",
       "        vertical-align: top;\n",
       "    }\n",
       "\n",
       "    .dataframe thead th {\n",
       "        text-align: right;\n",
       "    }\n",
       "</style>\n",
       "<table border=\"1\" class=\"dataframe\">\n",
       "  <thead>\n",
       "    <tr style=\"text-align: right;\">\n",
       "      <th></th>\n",
       "      <th>Species</th>\n",
       "    </tr>\n",
       "  </thead>\n",
       "  <tbody>\n",
       "    <tr>\n",
       "      <th>0</th>\n",
       "      <td>Iris-setosa</td>\n",
       "    </tr>\n",
       "    <tr>\n",
       "      <th>1</th>\n",
       "      <td>Iris-setosa</td>\n",
       "    </tr>\n",
       "    <tr>\n",
       "      <th>2</th>\n",
       "      <td>Iris-setosa</td>\n",
       "    </tr>\n",
       "    <tr>\n",
       "      <th>3</th>\n",
       "      <td>Iris-setosa</td>\n",
       "    </tr>\n",
       "    <tr>\n",
       "      <th>4</th>\n",
       "      <td>Iris-setosa</td>\n",
       "    </tr>\n",
       "    <tr>\n",
       "      <th>...</th>\n",
       "      <td>...</td>\n",
       "    </tr>\n",
       "    <tr>\n",
       "      <th>145</th>\n",
       "      <td>Iris-virginica</td>\n",
       "    </tr>\n",
       "    <tr>\n",
       "      <th>146</th>\n",
       "      <td>Iris-virginica</td>\n",
       "    </tr>\n",
       "    <tr>\n",
       "      <th>147</th>\n",
       "      <td>Iris-virginica</td>\n",
       "    </tr>\n",
       "    <tr>\n",
       "      <th>148</th>\n",
       "      <td>Iris-virginica</td>\n",
       "    </tr>\n",
       "    <tr>\n",
       "      <th>149</th>\n",
       "      <td>Iris-virginica</td>\n",
       "    </tr>\n",
       "  </tbody>\n",
       "</table>\n",
       "<p>150 rows × 1 columns</p>\n",
       "</div>"
      ],
      "text/plain": [
       "            Species\n",
       "0       Iris-setosa\n",
       "1       Iris-setosa\n",
       "2       Iris-setosa\n",
       "3       Iris-setosa\n",
       "4       Iris-setosa\n",
       "..              ...\n",
       "145  Iris-virginica\n",
       "146  Iris-virginica\n",
       "147  Iris-virginica\n",
       "148  Iris-virginica\n",
       "149  Iris-virginica\n",
       "\n",
       "[150 rows x 1 columns]"
      ]
     },
     "execution_count": 55,
     "metadata": {},
     "output_type": "execute_result"
    }
   ],
   "source": [
    "# Getting the dependent variable from the original dataframe\n",
    "# Using pd.Dataframe to create a new dataframe with Species data\n",
    "df_pca = pd.DataFrame (df[['Species']])\n",
    "# Show\n",
    "df_pca"
   ]
  },
  {
   "cell_type": "code",
   "execution_count": 56,
   "metadata": {},
   "outputs": [
    {
     "data": {
      "text/html": [
       "<div>\n",
       "<style scoped>\n",
       "    .dataframe tbody tr th:only-of-type {\n",
       "        vertical-align: middle;\n",
       "    }\n",
       "\n",
       "    .dataframe tbody tr th {\n",
       "        vertical-align: top;\n",
       "    }\n",
       "\n",
       "    .dataframe thead th {\n",
       "        text-align: right;\n",
       "    }\n",
       "</style>\n",
       "<table border=\"1\" class=\"dataframe\">\n",
       "  <thead>\n",
       "    <tr style=\"text-align: right;\">\n",
       "      <th></th>\n",
       "      <th>Species</th>\n",
       "      <th>pca0</th>\n",
       "      <th>pca1</th>\n",
       "    </tr>\n",
       "  </thead>\n",
       "  <tbody>\n",
       "    <tr>\n",
       "      <th>0</th>\n",
       "      <td>Iris-setosa</td>\n",
       "      <td>-2.684207</td>\n",
       "      <td>0.326607</td>\n",
       "    </tr>\n",
       "    <tr>\n",
       "      <th>1</th>\n",
       "      <td>Iris-setosa</td>\n",
       "      <td>-2.715391</td>\n",
       "      <td>-0.169557</td>\n",
       "    </tr>\n",
       "    <tr>\n",
       "      <th>2</th>\n",
       "      <td>Iris-setosa</td>\n",
       "      <td>-2.889820</td>\n",
       "      <td>-0.137346</td>\n",
       "    </tr>\n",
       "    <tr>\n",
       "      <th>3</th>\n",
       "      <td>Iris-setosa</td>\n",
       "      <td>-2.746437</td>\n",
       "      <td>-0.311124</td>\n",
       "    </tr>\n",
       "    <tr>\n",
       "      <th>4</th>\n",
       "      <td>Iris-setosa</td>\n",
       "      <td>-2.728593</td>\n",
       "      <td>0.333925</td>\n",
       "    </tr>\n",
       "    <tr>\n",
       "      <th>...</th>\n",
       "      <td>...</td>\n",
       "      <td>...</td>\n",
       "      <td>...</td>\n",
       "    </tr>\n",
       "    <tr>\n",
       "      <th>145</th>\n",
       "      <td>Iris-virginica</td>\n",
       "      <td>1.944017</td>\n",
       "      <td>0.187415</td>\n",
       "    </tr>\n",
       "    <tr>\n",
       "      <th>146</th>\n",
       "      <td>Iris-virginica</td>\n",
       "      <td>1.525664</td>\n",
       "      <td>-0.375021</td>\n",
       "    </tr>\n",
       "    <tr>\n",
       "      <th>147</th>\n",
       "      <td>Iris-virginica</td>\n",
       "      <td>1.764046</td>\n",
       "      <td>0.078519</td>\n",
       "    </tr>\n",
       "    <tr>\n",
       "      <th>148</th>\n",
       "      <td>Iris-virginica</td>\n",
       "      <td>1.901629</td>\n",
       "      <td>0.115877</td>\n",
       "    </tr>\n",
       "    <tr>\n",
       "      <th>149</th>\n",
       "      <td>Iris-virginica</td>\n",
       "      <td>1.389666</td>\n",
       "      <td>-0.282887</td>\n",
       "    </tr>\n",
       "  </tbody>\n",
       "</table>\n",
       "<p>150 rows × 3 columns</p>\n",
       "</div>"
      ],
      "text/plain": [
       "            Species      pca0      pca1\n",
       "0       Iris-setosa -2.684207  0.326607\n",
       "1       Iris-setosa -2.715391 -0.169557\n",
       "2       Iris-setosa -2.889820 -0.137346\n",
       "3       Iris-setosa -2.746437 -0.311124\n",
       "4       Iris-setosa -2.728593  0.333925\n",
       "..              ...       ...       ...\n",
       "145  Iris-virginica  1.944017  0.187415\n",
       "146  Iris-virginica  1.525664 -0.375021\n",
       "147  Iris-virginica  1.764046  0.078519\n",
       "148  Iris-virginica  1.901629  0.115877\n",
       "149  Iris-virginica  1.389666 -0.282887\n",
       "\n",
       "[150 rows x 3 columns]"
      ]
     },
     "execution_count": 56,
     "metadata": {},
     "output_type": "execute_result"
    }
   ],
   "source": [
    "# Incorporate the PCA variables into the new dataframe\n",
    "df_pca['pca0'] =X_pca[:,0]\n",
    "df_pca['pca1'] =X_pca[:,1]\n",
    "\n",
    "# Show dataframe with the two pca components \n",
    "df_pca"
   ]
  },
  {
   "cell_type": "markdown",
   "metadata": {},
   "source": [
    "#### <span style =\"color:blue\">Pairplots of the results</span>\n",
    "\n",
    "Once the two new components have been converted from a numpy array back into a pandas dataframe and the original dependent variable *Species* is also incorporated in the new dataframe, a pairplot can be generated from the data as follows:"
   ]
  },
  {
   "cell_type": "code",
   "execution_count": 57,
   "metadata": {},
   "outputs": [
    {
     "data": {
      "text/plain": [
       "<seaborn.axisgrid.PairGrid at 0x1da9024a290>"
      ]
     },
     "execution_count": 57,
     "metadata": {},
     "output_type": "execute_result"
    },
    {
     "data": {
      "image/png": "[encoded data removed]",
      "text/plain": [
       "<Figure size 643x500 with 6 Axes>"
      ]
     },
     "metadata": {},
     "output_type": "display_data"
    }
   ],
   "source": [
    "# Create a Pair Plot\n",
    "# Using hue = 'Species' so that each species is a different colour and can be seen clearly\n",
    "sns.pairplot(df_pca, hue =\"Species\")"
   ]
  },
  {
   "cell_type": "markdown",
   "metadata": {},
   "source": [
    "The pair plots above show that the Iris-Setosa is seperable from the other two classes but it is still very difficult to seperate the Iris-versicolor and the Iris-virgica classes from one another. "
   ]
  },
  {
   "cell_type": "markdown",
   "metadata": {},
   "source": [
    "### <ins><span style =\"color:blue\">2. PCA using Scaled Features</span></ins>\n",
    "\n",
    "Below, I have used the [sklearn.preprocessing.StandardScaler](https://scikit-learn.org/stable/modules/generated/sklearn.preprocessing.StandardScaler.html)<sup>65</sup> to scale the data to see if there is any improvement in the pairplots in terms of being able to seperate the Iris-versicolor and the Iris-virgica classes. I have imported the ``sklearn.preprocessing`` as ``pre`` and using the ``StandardScaler`` class, created an instance of the StandardScaler. "
   ]
  },
  {
   "cell_type": "code",
   "execution_count": 58,
   "metadata": {},
   "outputs": [
    {
     "data": {
      "text/html": [
       "<style>#sk-container-id-2 {color: black;}#sk-container-id-2 pre{padding: 0;}#sk-container-id-2 div.sk-toggleable {background-color: white;}#sk-container-id-2 label.sk-toggleable__label {cursor: pointer;display: block;width: 100%;margin-bottom: 0;padding: 0.3em;box-sizing: border-box;text-align: center;}#sk-container-id-2 label.sk-toggleable__label-arrow:before {content: \"▸\";float: left;margin-right: 0.25em;color: #696969;}#sk-container-id-2 label.sk-toggleable__label-arrow:hover:before {color: black;}#sk-container-id-2 div.sk-estimator:hover label.sk-toggleable__label-arrow:before {color: black;}#sk-container-id-2 div.sk-toggleable__content {max-height: 0;max-width: 0;overflow: hidden;text-align: left;background-color: #f0f8ff;}#sk-container-id-2 div.sk-toggleable__content pre {margin: 0.2em;color: black;border-radius: 0.25em;background-color: #f0f8ff;}#sk-container-id-2 input.sk-toggleable__control:checked~div.sk-toggleable__content {max-height: 200px;max-width: 100%;overflow: auto;}#sk-container-id-2 input.sk-toggleable__control:checked~label.sk-toggleable__label-arrow:before {content: \"▾\";}#sk-container-id-2 div.sk-estimator input.sk-toggleable__control:checked~label.sk-toggleable__label {background-color: #d4ebff;}#sk-container-id-2 div.sk-label input.sk-toggleable__control:checked~label.sk-toggleable__label {background-color: #d4ebff;}#sk-container-id-2 input.sk-hidden--visually {border: 0;clip: rect(1px 1px 1px 1px);clip: rect(1px, 1px, 1px, 1px);height: 1px;margin: -1px;overflow: hidden;padding: 0;position: absolute;width: 1px;}#sk-container-id-2 div.sk-estimator {font-family: monospace;background-color: #f0f8ff;border: 1px dotted black;border-radius: 0.25em;box-sizing: border-box;margin-bottom: 0.5em;}#sk-container-id-2 div.sk-estimator:hover {background-color: #d4ebff;}#sk-container-id-2 div.sk-parallel-item::after {content: \"\";width: 100%;border-bottom: 1px solid gray;flex-grow: 1;}#sk-container-id-2 div.sk-label:hover label.sk-toggleable__label {background-color: #d4ebff;}#sk-container-id-2 div.sk-serial::before {content: \"\";position: absolute;border-left: 1px solid gray;box-sizing: border-box;top: 0;bottom: 0;left: 50%;z-index: 0;}#sk-container-id-2 div.sk-serial {display: flex;flex-direction: column;align-items: center;background-color: white;padding-right: 0.2em;padding-left: 0.2em;position: relative;}#sk-container-id-2 div.sk-item {position: relative;z-index: 1;}#sk-container-id-2 div.sk-parallel {display: flex;align-items: stretch;justify-content: center;background-color: white;position: relative;}#sk-container-id-2 div.sk-item::before, #sk-container-id-2 div.sk-parallel-item::before {content: \"\";position: absolute;border-left: 1px solid gray;box-sizing: border-box;top: 0;bottom: 0;left: 50%;z-index: -1;}#sk-container-id-2 div.sk-parallel-item {display: flex;flex-direction: column;z-index: 1;position: relative;background-color: white;}#sk-container-id-2 div.sk-parallel-item:first-child::after {align-self: flex-end;width: 50%;}#sk-container-id-2 div.sk-parallel-item:last-child::after {align-self: flex-start;width: 50%;}#sk-container-id-2 div.sk-parallel-item:only-child::after {width: 0;}#sk-container-id-2 div.sk-dashed-wrapped {border: 1px dashed gray;margin: 0 0.4em 0.5em 0.4em;box-sizing: border-box;padding-bottom: 0.4em;background-color: white;}#sk-container-id-2 div.sk-label label {font-family: monospace;font-weight: bold;display: inline-block;line-height: 1.2em;}#sk-container-id-2 div.sk-label-container {text-align: center;}#sk-container-id-2 div.sk-container {/* jupyter's `normalize.less` sets `[hidden] { display: none; }` but bootstrap.min.css set `[hidden] { display: none !important; }` so we also need the `!important` here to be able to override the default hidden behavior on the sphinx rendered scikit-learn.org. See: https://github.com/scikit-learn/scikit-learn/issues/21755 */display: inline-block !important;position: relative;}#sk-container-id-2 div.sk-text-repr-fallback {display: none;}</style><div id=\"sk-container-id-2\" class=\"sk-top-container\"><div class=\"sk-text-repr-fallback\"><pre>StandardScaler()</pre><b>In a Jupyter environment, please rerun this cell to show the HTML representation or trust the notebook. <br />On GitHub, the HTML representation is unable to render, please try loading this page with nbviewer.org.</b></div><div class=\"sk-container\" hidden><div class=\"sk-item\"><div class=\"sk-estimator sk-toggleable\"><input class=\"sk-toggleable__control sk-hidden--visually\" id=\"sk-estimator-id-2\" type=\"checkbox\" checked><label for=\"sk-estimator-id-2\" class=\"sk-toggleable__label sk-toggleable__label-arrow\">StandardScaler</label><div class=\"sk-toggleable__content\"><pre>StandardScaler()</pre></div></div></div></div></div>"
      ],
      "text/plain": [
       "StandardScaler()"
      ]
     },
     "execution_count": 58,
     "metadata": {},
     "output_type": "execute_result"
    }
   ],
   "source": [
    "# Create a standard scaler instance.\n",
    "scaler = pre.StandardScaler()\n",
    "\n",
    "# Show.\n",
    "scaler"
   ]
  },
  {
   "cell_type": "markdown",
   "metadata": {},
   "source": [
    "Next, I have trained the **X** data using the fit() method by passing the **X** dataframe in as a parameter to the method."
   ]
  },
  {
   "cell_type": "code",
   "execution_count": 59,
   "metadata": {},
   "outputs": [
    {
     "data": {
      "text/html": [
       "<style>#sk-container-id-3 {color: black;}#sk-container-id-3 pre{padding: 0;}#sk-container-id-3 div.sk-toggleable {background-color: white;}#sk-container-id-3 label.sk-toggleable__label {cursor: pointer;display: block;width: 100%;margin-bottom: 0;padding: 0.3em;box-sizing: border-box;text-align: center;}#sk-container-id-3 label.sk-toggleable__label-arrow:before {content: \"▸\";float: left;margin-right: 0.25em;color: #696969;}#sk-container-id-3 label.sk-toggleable__label-arrow:hover:before {color: black;}#sk-container-id-3 div.sk-estimator:hover label.sk-toggleable__label-arrow:before {color: black;}#sk-container-id-3 div.sk-toggleable__content {max-height: 0;max-width: 0;overflow: hidden;text-align: left;background-color: #f0f8ff;}#sk-container-id-3 div.sk-toggleable__content pre {margin: 0.2em;color: black;border-radius: 0.25em;background-color: #f0f8ff;}#sk-container-id-3 input.sk-toggleable__control:checked~div.sk-toggleable__content {max-height: 200px;max-width: 100%;overflow: auto;}#sk-container-id-3 input.sk-toggleable__control:checked~label.sk-toggleable__label-arrow:before {content: \"▾\";}#sk-container-id-3 div.sk-estimator input.sk-toggleable__control:checked~label.sk-toggleable__label {background-color: #d4ebff;}#sk-container-id-3 div.sk-label input.sk-toggleable__control:checked~label.sk-toggleable__label {background-color: #d4ebff;}#sk-container-id-3 input.sk-hidden--visually {border: 0;clip: rect(1px 1px 1px 1px);clip: rect(1px, 1px, 1px, 1px);height: 1px;margin: -1px;overflow: hidden;padding: 0;position: absolute;width: 1px;}#sk-container-id-3 div.sk-estimator {font-family: monospace;background-color: #f0f8ff;border: 1px dotted black;border-radius: 0.25em;box-sizing: border-box;margin-bottom: 0.5em;}#sk-container-id-3 div.sk-estimator:hover {background-color: #d4ebff;}#sk-container-id-3 div.sk-parallel-item::after {content: \"\";width: 100%;border-bottom: 1px solid gray;flex-grow: 1;}#sk-container-id-3 div.sk-label:hover label.sk-toggleable__label {background-color: #d4ebff;}#sk-container-id-3 div.sk-serial::before {content: \"\";position: absolute;border-left: 1px solid gray;box-sizing: border-box;top: 0;bottom: 0;left: 50%;z-index: 0;}#sk-container-id-3 div.sk-serial {display: flex;flex-direction: column;align-items: center;background-color: white;padding-right: 0.2em;padding-left: 0.2em;position: relative;}#sk-container-id-3 div.sk-item {position: relative;z-index: 1;}#sk-container-id-3 div.sk-parallel {display: flex;align-items: stretch;justify-content: center;background-color: white;position: relative;}#sk-container-id-3 div.sk-item::before, #sk-container-id-3 div.sk-parallel-item::before {content: \"\";position: absolute;border-left: 1px solid gray;box-sizing: border-box;top: 0;bottom: 0;left: 50%;z-index: -1;}#sk-container-id-3 div.sk-parallel-item {display: flex;flex-direction: column;z-index: 1;position: relative;background-color: white;}#sk-container-id-3 div.sk-parallel-item:first-child::after {align-self: flex-end;width: 50%;}#sk-container-id-3 div.sk-parallel-item:last-child::after {align-self: flex-start;width: 50%;}#sk-container-id-3 div.sk-parallel-item:only-child::after {width: 0;}#sk-container-id-3 div.sk-dashed-wrapped {border: 1px dashed gray;margin: 0 0.4em 0.5em 0.4em;box-sizing: border-box;padding-bottom: 0.4em;background-color: white;}#sk-container-id-3 div.sk-label label {font-family: monospace;font-weight: bold;display: inline-block;line-height: 1.2em;}#sk-container-id-3 div.sk-label-container {text-align: center;}#sk-container-id-3 div.sk-container {/* jupyter's `normalize.less` sets `[hidden] { display: none; }` but bootstrap.min.css set `[hidden] { display: none !important; }` so we also need the `!important` here to be able to override the default hidden behavior on the sphinx rendered scikit-learn.org. See: https://github.com/scikit-learn/scikit-learn/issues/21755 */display: inline-block !important;position: relative;}#sk-container-id-3 div.sk-text-repr-fallback {display: none;}</style><div id=\"sk-container-id-3\" class=\"sk-top-container\"><div class=\"sk-text-repr-fallback\"><pre>StandardScaler()</pre><b>In a Jupyter environment, please rerun this cell to show the HTML representation or trust the notebook. <br />On GitHub, the HTML representation is unable to render, please try loading this page with nbviewer.org.</b></div><div class=\"sk-container\" hidden><div class=\"sk-item\"><div class=\"sk-estimator sk-toggleable\"><input class=\"sk-toggleable__control sk-hidden--visually\" id=\"sk-estimator-id-3\" type=\"checkbox\" checked><label for=\"sk-estimator-id-3\" class=\"sk-toggleable__label sk-toggleable__label-arrow\">StandardScaler</label><div class=\"sk-toggleable__content\"><pre>StandardScaler()</pre></div></div></div></div></div>"
      ],
      "text/plain": [
       "StandardScaler()"
      ]
     },
     "execution_count": 59,
     "metadata": {},
     "output_type": "execute_result"
    }
   ],
   "source": [
    "# Fit the data to the scaler.\n",
    "scaler.fit(X)"
   ]
  },
  {
   "cell_type": "markdown",
   "metadata": {},
   "source": [
    "The next step was to transform the **X** data by passing **X** in as a parameter."
   ]
  },
  {
   "cell_type": "code",
   "execution_count": 60,
   "metadata": {},
   "outputs": [],
   "source": [
    "# Transformed X array.\n",
    "X_transformed = scaler.transform(X)\n",
    "\n",
    "# Show.\n",
    "#X_transformed"
   ]
  },
  {
   "cell_type": "markdown",
   "metadata": {},
   "source": [
    "#### <span style =\"color:blue\">Create new dataframe with transformed data</span>\n",
    "Below, I have created a new dataframe with the transformed scaled data. This contains all of the numerical variables (**X**) which have been transformed using the Scaler."
   ]
  },
  {
   "cell_type": "code",
   "execution_count": 61,
   "metadata": {},
   "outputs": [
    {
     "data": {
      "text/html": [
       "<div>\n",
       "<style scoped>\n",
       "    .dataframe tbody tr th:only-of-type {\n",
       "        vertical-align: middle;\n",
       "    }\n",
       "\n",
       "    .dataframe tbody tr th {\n",
       "        vertical-align: top;\n",
       "    }\n",
       "\n",
       "    .dataframe thead th {\n",
       "        text-align: right;\n",
       "    }\n",
       "</style>\n",
       "<table border=\"1\" class=\"dataframe\">\n",
       "  <thead>\n",
       "    <tr style=\"text-align: right;\">\n",
       "      <th></th>\n",
       "      <th>SepalLengthCm</th>\n",
       "      <th>SepalWidthCm</th>\n",
       "      <th>PetalLengthCm</th>\n",
       "      <th>PetalWidthCm</th>\n",
       "    </tr>\n",
       "  </thead>\n",
       "  <tbody>\n",
       "    <tr>\n",
       "      <th>0</th>\n",
       "      <td>-0.900681</td>\n",
       "      <td>1.032057</td>\n",
       "      <td>-1.341272</td>\n",
       "      <td>-1.312977</td>\n",
       "    </tr>\n",
       "    <tr>\n",
       "      <th>1</th>\n",
       "      <td>-1.143017</td>\n",
       "      <td>-0.124958</td>\n",
       "      <td>-1.341272</td>\n",
       "      <td>-1.312977</td>\n",
       "    </tr>\n",
       "    <tr>\n",
       "      <th>2</th>\n",
       "      <td>-1.385353</td>\n",
       "      <td>0.337848</td>\n",
       "      <td>-1.398138</td>\n",
       "      <td>-1.312977</td>\n",
       "    </tr>\n",
       "    <tr>\n",
       "      <th>3</th>\n",
       "      <td>-1.506521</td>\n",
       "      <td>0.106445</td>\n",
       "      <td>-1.284407</td>\n",
       "      <td>-1.312977</td>\n",
       "    </tr>\n",
       "    <tr>\n",
       "      <th>4</th>\n",
       "      <td>-1.021849</td>\n",
       "      <td>1.263460</td>\n",
       "      <td>-1.341272</td>\n",
       "      <td>-1.312977</td>\n",
       "    </tr>\n",
       "    <tr>\n",
       "      <th>...</th>\n",
       "      <td>...</td>\n",
       "      <td>...</td>\n",
       "      <td>...</td>\n",
       "      <td>...</td>\n",
       "    </tr>\n",
       "    <tr>\n",
       "      <th>145</th>\n",
       "      <td>1.038005</td>\n",
       "      <td>-0.124958</td>\n",
       "      <td>0.819624</td>\n",
       "      <td>1.447956</td>\n",
       "    </tr>\n",
       "    <tr>\n",
       "      <th>146</th>\n",
       "      <td>0.553333</td>\n",
       "      <td>-1.281972</td>\n",
       "      <td>0.705893</td>\n",
       "      <td>0.922064</td>\n",
       "    </tr>\n",
       "    <tr>\n",
       "      <th>147</th>\n",
       "      <td>0.795669</td>\n",
       "      <td>-0.124958</td>\n",
       "      <td>0.819624</td>\n",
       "      <td>1.053537</td>\n",
       "    </tr>\n",
       "    <tr>\n",
       "      <th>148</th>\n",
       "      <td>0.432165</td>\n",
       "      <td>0.800654</td>\n",
       "      <td>0.933356</td>\n",
       "      <td>1.447956</td>\n",
       "    </tr>\n",
       "    <tr>\n",
       "      <th>149</th>\n",
       "      <td>0.068662</td>\n",
       "      <td>-0.124958</td>\n",
       "      <td>0.762759</td>\n",
       "      <td>0.790591</td>\n",
       "    </tr>\n",
       "  </tbody>\n",
       "</table>\n",
       "<p>150 rows × 4 columns</p>\n",
       "</div>"
      ],
      "text/plain": [
       "     SepalLengthCm  SepalWidthCm  PetalLengthCm  PetalWidthCm\n",
       "0        -0.900681      1.032057      -1.341272     -1.312977\n",
       "1        -1.143017     -0.124958      -1.341272     -1.312977\n",
       "2        -1.385353      0.337848      -1.398138     -1.312977\n",
       "3        -1.506521      0.106445      -1.284407     -1.312977\n",
       "4        -1.021849      1.263460      -1.341272     -1.312977\n",
       "..             ...           ...            ...           ...\n",
       "145       1.038005     -0.124958       0.819624      1.447956\n",
       "146       0.553333     -1.281972       0.705893      0.922064\n",
       "147       0.795669     -0.124958       0.819624      1.053537\n",
       "148       0.432165      0.800654       0.933356      1.447956\n",
       "149       0.068662     -0.124958       0.762759      0.790591\n",
       "\n",
       "[150 rows x 4 columns]"
      ]
     },
     "execution_count": 61,
     "metadata": {},
     "output_type": "execute_result"
    }
   ],
   "source": [
    "# Original column names.\n",
    "X.columns\n",
    "\n",
    "# Re-create data framem with transformed data\n",
    "df_X_trans = pd.DataFrame(X_transformed, columns=X.columns)\n",
    "\n",
    "# Show re-created dataframe\n",
    "df_X_trans"
   ]
  },
  {
   "cell_type": "markdown",
   "metadata": {},
   "source": [
    "#### <span style =\"color:blue\">PCA analysis on the scaled data</span>\n",
    "\n",
    "Now that the data is scaled, below I have carried out the same PCA on the transformed data. Firstly, I have created a new PCA instance, this time passing in the transformed dataframe *df_X_trans* as a parameter, to train and transform the data. Again, I have created a new dataframe which includes the original dependent **y** variable (*Species*) and the two new components **pca0** and **pca1**."
   ]
  },
  {
   "cell_type": "code",
   "execution_count": 62,
   "metadata": {},
   "outputs": [
    {
     "data": {
      "text/html": [
       "<div>\n",
       "<style scoped>\n",
       "    .dataframe tbody tr th:only-of-type {\n",
       "        vertical-align: middle;\n",
       "    }\n",
       "\n",
       "    .dataframe tbody tr th {\n",
       "        vertical-align: top;\n",
       "    }\n",
       "\n",
       "    .dataframe thead th {\n",
       "        text-align: right;\n",
       "    }\n",
       "</style>\n",
       "<table border=\"1\" class=\"dataframe\">\n",
       "  <thead>\n",
       "    <tr style=\"text-align: right;\">\n",
       "      <th></th>\n",
       "      <th>Species</th>\n",
       "      <th>pca0</th>\n",
       "      <th>pca1</th>\n",
       "    </tr>\n",
       "  </thead>\n",
       "  <tbody>\n",
       "    <tr>\n",
       "      <th>0</th>\n",
       "      <td>Iris-setosa</td>\n",
       "      <td>-2.684207</td>\n",
       "      <td>0.326607</td>\n",
       "    </tr>\n",
       "    <tr>\n",
       "      <th>1</th>\n",
       "      <td>Iris-setosa</td>\n",
       "      <td>-2.715391</td>\n",
       "      <td>-0.169557</td>\n",
       "    </tr>\n",
       "    <tr>\n",
       "      <th>2</th>\n",
       "      <td>Iris-setosa</td>\n",
       "      <td>-2.889820</td>\n",
       "      <td>-0.137346</td>\n",
       "    </tr>\n",
       "    <tr>\n",
       "      <th>3</th>\n",
       "      <td>Iris-setosa</td>\n",
       "      <td>-2.746437</td>\n",
       "      <td>-0.311124</td>\n",
       "    </tr>\n",
       "    <tr>\n",
       "      <th>4</th>\n",
       "      <td>Iris-setosa</td>\n",
       "      <td>-2.728593</td>\n",
       "      <td>0.333925</td>\n",
       "    </tr>\n",
       "    <tr>\n",
       "      <th>...</th>\n",
       "      <td>...</td>\n",
       "      <td>...</td>\n",
       "      <td>...</td>\n",
       "    </tr>\n",
       "    <tr>\n",
       "      <th>145</th>\n",
       "      <td>Iris-virginica</td>\n",
       "      <td>1.944017</td>\n",
       "      <td>0.187415</td>\n",
       "    </tr>\n",
       "    <tr>\n",
       "      <th>146</th>\n",
       "      <td>Iris-virginica</td>\n",
       "      <td>1.525664</td>\n",
       "      <td>-0.375021</td>\n",
       "    </tr>\n",
       "    <tr>\n",
       "      <th>147</th>\n",
       "      <td>Iris-virginica</td>\n",
       "      <td>1.764046</td>\n",
       "      <td>0.078519</td>\n",
       "    </tr>\n",
       "    <tr>\n",
       "      <th>148</th>\n",
       "      <td>Iris-virginica</td>\n",
       "      <td>1.901629</td>\n",
       "      <td>0.115877</td>\n",
       "    </tr>\n",
       "    <tr>\n",
       "      <th>149</th>\n",
       "      <td>Iris-virginica</td>\n",
       "      <td>1.389666</td>\n",
       "      <td>-0.282887</td>\n",
       "    </tr>\n",
       "  </tbody>\n",
       "</table>\n",
       "<p>150 rows × 3 columns</p>\n",
       "</div>"
      ],
      "text/plain": [
       "            Species      pca0      pca1\n",
       "0       Iris-setosa -2.684207  0.326607\n",
       "1       Iris-setosa -2.715391 -0.169557\n",
       "2       Iris-setosa -2.889820 -0.137346\n",
       "3       Iris-setosa -2.746437 -0.311124\n",
       "4       Iris-setosa -2.728593  0.333925\n",
       "..              ...       ...       ...\n",
       "145  Iris-virginica  1.944017  0.187415\n",
       "146  Iris-virginica  1.525664 -0.375021\n",
       "147  Iris-virginica  1.764046  0.078519\n",
       "148  Iris-virginica  1.901629  0.115877\n",
       "149  Iris-virginica  1.389666 -0.282887\n",
       "\n",
       "[150 rows x 3 columns]"
      ]
     },
     "execution_count": 62,
     "metadata": {},
     "output_type": "execute_result"
    }
   ],
   "source": [
    "# Creating a new PCA instance with the scaled data \n",
    "pca = dec.PCA(n_components=2)\n",
    "\n",
    "# Fitting the scaled data to pca\n",
    "pca.fit(df_X_trans)\n",
    "\n",
    "# Transform the data \n",
    "X_trans_pca = pca.transform(df_X_trans)\n",
    "\n",
    "df_trans_pca = pd.DataFrame(df[['Species']])\n",
    "\n",
    "df_trans_pca ['pca0']= X_pca[:,0]\n",
    "df_trans_pca ['pca1']= X_pca[:,1]\n",
    "\n",
    "#Show transformed data\n",
    "df_trans_pca\n"
   ]
  },
  {
   "cell_type": "markdown",
   "metadata": {},
   "source": [
    "This time, by adding the two ratios above together and getting the percentage, below we can see that the two components are explaining 95.80% of the variance. This time however, it is evident that the amount of explainibility of the variance has dropped to 72.77% in the first component **pca0** and has increased to 23.03% in the second component **pca1**, to the explainibility of the variance is a little more spread out between the two components"
   ]
  },
  {
   "cell_type": "code",
   "execution_count": 63,
   "metadata": {},
   "outputs": [
    {
     "data": {
      "text/plain": [
       "array([0.72770452, 0.23030523])"
      ]
     },
     "execution_count": 63,
     "metadata": {},
     "output_type": "execute_result"
    }
   ],
   "source": [
    "# Ratio to the the explained variability\n",
    "pca.explained_variance_ratio_"
   ]
  },
  {
   "cell_type": "code",
   "execution_count": 64,
   "metadata": {},
   "outputs": [
    {
     "data": {
      "text/plain": [
       "95.8"
      ]
     },
     "execution_count": 64,
     "metadata": {},
     "output_type": "execute_result"
    }
   ],
   "source": [
    "round((pca.explained_variance_ratio_.sum())*100,2)"
   ]
  },
  {
   "cell_type": "markdown",
   "metadata": {},
   "source": [
    "#### <span style =\"color:blue\">Pairplots of the results</span>\n",
    "Below we can see that the pairplot shows very similar if not the identical plots as the original un-scaled data. This is because the data in the *Iris Dataset* is all of a similar scale and there are no input features which differ greatly in terms of their range. All of the features also all have the same units of measure [Kharwal.A, (2020)](https://thecleverprogrammer.com/2020/09/22/standardscaler-in-machine-learning/)<sup>66</sup>. In the case of the *Iris dataset*, scaling the data before carrying out the PCA analysis was not effective. "
   ]
  },
  {
   "cell_type": "code",
   "execution_count": 65,
   "metadata": {},
   "outputs": [
    {
     "data": {
      "text/plain": [
       "<seaborn.axisgrid.PairGrid at 0x1da92c4f290>"
      ]
     },
     "execution_count": 65,
     "metadata": {},
     "output_type": "execute_result"
    },
    {
     "data": {
      "image/png": "[encoded data removed]",
      "text/plain": [
       "<Figure size 643x500 with 6 Axes>"
      ]
     },
     "metadata": {},
     "output_type": "display_data"
    }
   ],
   "source": [
    "# Pair Plot\n",
    "sns.pairplot(df_trans_pca, hue =\"Species\")"
   ]
  },
  {
   "cell_type": "markdown",
   "metadata": {},
   "source": [
    "## <span style =\"color:blue\">Using PCA on some Classifiers</span>\n",
    "***\n",
    "\n",
    "Below, I have re-run the Classifiers, before and after the scaling has been applied to the data. It is evident from the two results below that scaling the data has in fact disimproved the performance of the classifiers when PCA is incorporated. "
   ]
  },
  {
   "cell_type": "code",
   "execution_count": 66,
   "metadata": {},
   "outputs": [
    {
     "name": "stdout",
     "output_type": "stream",
     "text": [
      "[0.96666667 1.         0.93333333 0.93333333 1.        ]\n",
      "Average Score: 96.66666666666669\n"
     ]
    }
   ],
   "source": [
    "# 1. Before Scaling\n",
    "\n",
    "# Create a new instance of a classifier\n",
    "clf = sk.neighbors.KNeighborsClassifier()\n",
    "\n",
    "# X data\n",
    "X = X_pca\n",
    "\n",
    "y = df['Species'].to_numpy()\n",
    "\n",
    "# Cross validation \n",
    "print(sk.model_selection.cross_val_score(clf, X, y))\n",
    "print(\"Average Score:\", np.average((sk.model_selection.cross_val_score(clf, X, y)))*100)"
   ]
  },
  {
   "cell_type": "code",
   "execution_count": 67,
   "metadata": {},
   "outputs": [
    {
     "name": "stdout",
     "output_type": "stream",
     "text": [
      "[0.83333333 0.93333333 0.9        0.93333333 0.96666667]\n",
      "Average Score: 91.33333333333333\n"
     ]
    }
   ],
   "source": [
    "# 2. After Scaling \n",
    "\n",
    "# Create a new instance of a classifier\n",
    "clf = sk.neighbors.KNeighborsClassifier()\n",
    "\n",
    "# X data\n",
    "X = X_trans_pca\n",
    "\n",
    "y = df['Species'].to_numpy()\n",
    "\n",
    "# Cross validation \n",
    "print(sk.model_selection.cross_val_score(clf, X, y))\n",
    "print(\"Average Score:\", np.average((sk.model_selection.cross_val_score(clf, X, y)))*100)"
   ]
  },
  {
   "cell_type": "code",
   "execution_count": 68,
   "metadata": {},
   "outputs": [
    {
     "name": "stdout",
     "output_type": "stream",
     "text": [
      "[0.96666667 1.         0.93333333 0.93333333 1.        ]\n",
      "Average Score: 90.0\n"
     ]
    }
   ],
   "source": [
    "# 1. Before Scaling\n",
    "\n",
    "# Create a new instance of a classifier\n",
    "gnb = GaussianNB()\n",
    "\n",
    "# X data\n",
    "X = X_pca\n",
    "\n",
    "y = df['Species'].to_numpy()\n",
    "\n",
    "# Cross validation \n",
    "print(sk.model_selection.cross_val_score(clf, X, y))\n",
    "print(\"Average Score:\", np.average((sk.model_selection.cross_val_score(gnb, X, y)))*100)"
   ]
  },
  {
   "cell_type": "code",
   "execution_count": 69,
   "metadata": {},
   "outputs": [
    {
     "name": "stdout",
     "output_type": "stream",
     "text": [
      "[0.83333333 0.93333333 0.9        0.93333333 0.96666667]\n",
      "Average Score: 89.33333333333333\n"
     ]
    }
   ],
   "source": [
    "# 2. After Scaling\n",
    "\n",
    "# Create a new instance of a classifier\n",
    "gnb = GaussianNB()\n",
    "\n",
    "# X data\n",
    "X = X_trans_pca\n",
    "\n",
    "y = df['Species'].to_numpy()\n",
    "\n",
    "# Cross validation \n",
    "print(sk.model_selection.cross_val_score(clf, X, y))\n",
    "print(\"Average Score:\", np.average((sk.model_selection.cross_val_score(gnb, X, y)))*100)"
   ]
  },
  {
   "cell_type": "code",
   "execution_count": 70,
   "metadata": {},
   "outputs": [
    {
     "name": "stdout",
     "output_type": "stream",
     "text": [
      "[0.96666667 1.         0.93333333 0.93333333 1.        ]\n"
     ]
    },
    {
     "name": "stdout",
     "output_type": "stream",
     "text": [
      "Average Score: 92.66666666666667\n"
     ]
    }
   ],
   "source": [
    "# 1. Before Scaling\n",
    "\n",
    "# Create a new instance of a classifier\n",
    "rfc = RandomForestClassifier(n_estimators= 1000)\n",
    "\n",
    "# X data\n",
    "X = X_pca\n",
    "\n",
    "y = df['Species'].to_numpy()\n",
    "\n",
    "# Cross validation \n",
    "print(sk.model_selection.cross_val_score(clf, X, y))\n",
    "print(\"Average Score:\", np.average((sk.model_selection.cross_val_score(rfc, X, y)))*100)"
   ]
  },
  {
   "cell_type": "code",
   "execution_count": 71,
   "metadata": {},
   "outputs": [
    {
     "name": "stdout",
     "output_type": "stream",
     "text": [
      "[0.83333333 0.93333333 0.9        0.93333333 0.96666667]\n",
      "Average Score: 90.0\n"
     ]
    }
   ],
   "source": [
    "# 2. After Scaling\n",
    "\n",
    "# Create a new instance of a classifier\n",
    "rfc = RandomForestClassifier(n_estimators= 1000)\n",
    "\n",
    "# X data\n",
    "X = X_trans_pca\n",
    "\n",
    "y = df['Species'].to_numpy()\n",
    "\n",
    "# Cross validation \n",
    "print(sk.model_selection.cross_val_score(clf, X, y))\n",
    "print(\"Average Score:\", np.average((sk.model_selection.cross_val_score(rfc, X, y)))*100)"
   ]
  },
  {
   "cell_type": "markdown",
   "metadata": {},
   "source": [
    "## <span style =\"color:blue\">Conclusion</span>\n",
    "***\n",
    "\n",
    "I am surpirsed with thee result above, that the the classifiers are not as accurate with PCA incorporated when the data is scaled. This might be because the original dataset is quite scaled as it is in terms of the magnitude of the data and the fact that all of the data are in the same units of measurement."
   ]
  },
  {
   "cell_type": "markdown",
   "metadata": {},
   "source": [
    "# <span style=\"color:blue\"> References </span>\n",
    "***"
   ]
  },
  {
   "cell_type": "markdown",
   "metadata": {},
   "source": [
    "#### <ins><span style=\"color:blue\">Task 1</span></ins>\n",
    "\n",
    "1. Ronquillo.A. Real Python. The Python Square Root Function 08 July 2019.</br> https://realpython.com/python-square-root-function/#:~:text=sqrt()%20has%20a%20straightforward,as%20a%20floating%20point%20number.\n",
    "\n",
    "\n",
    "2. geeksforgeeks. numpy.sqrt() in Python. </br> https://www.geeksforgeeks.org/numpy-sqrt-in-python/\n",
    "\n",
    "\n",
    "3. W3schools. Python While Loops. </br> https://www.w3schools.com/python/python_while_loops.asp\n",
    "\n",
    "\n",
    "4. W3schools. Python For Loops. </br> https://www.w3schools.com/python/python_for_loops.asp\n",
    "\n",
    "\n",
    "5. Wikipedia. Isaac Newton. </br> https://en.wikipedia.org/wiki/Isaac_Newton\n",
    "\n",
    "\n",
    "6. Wikipedia. Joseph Raphson. </br> https://en.wikipedia.org/wiki/Joseph_Raphson.\n",
    "\n",
    "\n",
    "7. Wikipedia. Newton's Method. </br> https://en.wikipedia.org/wiki/Newton%27s_method\n",
    "\n",
    "\n",
    "8. Wentworth. P, Elkner.J, Downey.A, Myers.C. (2012) How To Think Like a Computer Scientist: Learning with Python3. 2012. https://openbookproject.net/thinkcs/python/english3e/iteration.html\n",
    "\n",
    "\n",
    "9. McLoughlin. Ian, (2023). t01v11_task_one_and_repo </br>https://atlantictu-my.sharepoint.com/personal/ian_mcloughlin_atu_ie/_layouts/15/stream.aspx?id=%2Fpersonal%2Fian%5Fmcloughlin%5Fatu%5Fie%2FDocuments%2Fstudent%5Fshares%2Fmachine%5Flearnning%5Fand%5Fstatistics%2F1%5Fgeneral%2Ft01v11%5Ftask%5Fone%5Fand%5Frepo%2Emkv&referrer=StreamWebApp%2EWeb&referrerScenario=AddressBarCopied%2Eview\n",
    "\n",
    "\n",
    "##### Markdown and LaTeX references\n",
    "\n",
    "- geeksforgeeks. Resize the image in jupyter notebook using markdown. 2023. </br> https://www.geeksforgeeks.org/resize-the-image-in-jupyter-notebook-using-markdown/\n",
    "\n",
    "\n",
    "- Document 360. How to change the color of the text in Markdown? 30 March 2023. </br> <https://docs.document360.com/docs/how-to-change-the-color-of-the-text-in-markdown>.\n",
    "\n",
    "\n",
    "- Markdown Basics. 04 October 2023. </br> <https://docs.document360.com/docs/how-to-change-the-color-of-the-text-in-markdown>\n",
    "\n",
    "\n",
    "- Overleaf. How do I use Subscripts? 2023. </br> <https://www.overleaf.com/learn/latex/Questions/How_do_I_use_subscripts%3F>\n",
    "\n",
    "\n",
    "- Soualem, Nadir. Math-Linux.com. 02 April 2023. </br> <https://www.math-linux.com/latex-26/faq/latex-faq/article/latex-derivatives-limits-sums-products-and-integrals>\n",
    "\n",
    "\n",
    "- Matt Cone. Markdown Guide. Extended Sytax. 2023. </br> https://www.markdownguide.org/extended-syntax/\n",
    "\n",
    "\n",
    "- How To Center Things In Markdown. Markdown Land 02 November 2021. </br> https://markdown.land/markdown-center\n",
    "\n",
    "\n",
    "- Matt Ball. Stackoverflow How do I ensure that whitespace is preserved in Markdown?. 30 March 2013. </br> https://stackoverflow.com/questions/15721373/how-do-i-ensure-that-whitespace-is-preserved-in-markdown#:~:text=To%20preserve%20spaces%20in%20a,line%20break%20at%20its%20position%22.\n",
    "\n",
    "***\n",
    "\n",
    "#### <ins><span style=\"color:blue\">Task 2</span></ins>\n",
    "10. W3Schools Python Join Two Lists. 2023. </br> https://www.w3schools.com/python/gloss_python_join_lists.asp\n",
    "\n",
    "\n",
    "11. w3schools. Python Random shuffle() Method </br> https://www.w3schools.com/python/ref_random_shuffle.asp\n",
    "\n",
    "\n",
    "12. w3schools. Python Random Module </br> https://www.w3schools.com/python/module_random.asp\n",
    "\n",
    "\n",
    "13. Programiz Python zip(). 2023. </br> https://www.programiz.com/python-programming/methods/built-in/zip\n",
    "\n",
    "\n",
    "14. Initial commit. Python Zip Two Lists. 14 November 2021. </br> https://initialcommit.com/blog/python-zip-two-lists#:~:text=With%20the%20use%20of%20the,is%20assigned%20to%20the%20variable.&text=This%20operator%20is%20often%20used%20with%20the%20zip()%20function%20in%20Python.\n",
    "\n",
    "\n",
    "15. W3Schools. Python Tuples. 2023. </br> https://www.w3schools.com/python/python_tuples.asp\n",
    "\n",
    "\n",
    "16. W3Schools. Pandas Dataframes. 2023.</br>  https://www.w3schools.com/python/pandas/pandas_dataframes.asp\n",
    "\n",
    "\n",
    "17. W3Schools. Pandas Introduction. </br> https://www.w3schools.com/python/pandas/pandas_intro.asp#:~:text=Pandas%20is%20a%20Python%20library,by%20Wes%20McKinney%20in%202008.\n",
    "\n",
    "\n",
    "18. W3Schools. Pandas Dataframes. 2023.</br>  https://www.w3schools.com/python/pandas/pandas_dataframes.asp\n",
    "\n",
    "\n",
    "19. geeksforgeeks. Python Dictionary. </br> 2023. https://www.geeksforgeeks.org/python-dictionary/\n",
    "\n",
    "\n",
    "20. scipy.org. scipy.stats.contingency.crosstab. 2023. </br> https://docs.scipy.org/doc/scipy/reference/generated/scipy.stats.contingency.crosstab.html\n",
    "\n",
    "\n",
    "21. Zach. statology. How to create a Contingency Table in Python. 12 March 2023.</br> https://www.statology.org/contingency-table-python/\n",
    "\n",
    "\n",
    "22. scypy.org. scipy.stats.chi2_contingency. 2023. </br> https://docs.scipy.org/doc/scipy/reference/generated/scipy.stats.chi2_contingency.html\n",
    "\n",
    "\n",
    "23. geeksforgeeks. 2023. </br> https://www.geeksforgeeks.org/python-pearsons-chi-square-test/\n",
    "\n",
    "\n",
    "24. McLeod. S. SimplyPsychology. P-Value And Statistical Significance: What It Is & Why It Matters. 13/10/2023. </br> https://www.simplypsychology.org/p-value.html\n",
    "\n",
    "\n",
    "##### Markdown references\n",
    "\n",
    "- codexcademy. Docs/Markdown/Links. 22 August 2023. https://www.codecademy.com/resources/docs/markdown/links\n",
    "\n",
    "***\n",
    "\n",
    "#### <ins><span style=\"color:blue\">Task 3</span></ins>\n",
    "\n",
    "25. Wikipedia. Friedrich Robert Helmert. </br> https://en.wikipedia.org/wiki/Friedrich_Robert_Helmert\n",
    "\n",
    "\n",
    "26. Wikipedia. Jacob Lüroth. </br> https://en.wikipedia.org/wiki/Jacob_L%C3%BCroth\n",
    "\n",
    "\n",
    "27. Wikipedia. Student's t distribution. </br> https://en.wikipedia.org/wiki/Student%27s_t-distribution\n",
    "\n",
    "\n",
    "28. Wikipedia. William Sealy Gosset. </br> https://en.wikipedia.org/wiki/William_Sealy_Gosset\n",
    "\n",
    "\n",
    "29. Wikipedia. Student's t-test. </br> https://en.wikipedia.org/wiki/Student%27s_t-test\n",
    "\n",
    "\n",
    "30. JMP Statistical Discovery. Statistics Knowledge Portal. 2023. The t-test. </br> https://www.jmp.com/en_ch/statistics-knowledge-portal/t-test.html\n",
    "\n",
    "\n",
    "31. Wikipedia. Independent and identically distributed random variables. 2023. </br> https://en.wikipedia.org/wiki/Independent_and_identically_distributed_random_variables\n",
    "\n",
    "\n",
    "32. Bevans. R. An Introduction to t Tests | Definitions, Formula and Examples. Scribbr. 22 June 2023. </br> https://www.scribbr.com/statistics/t-test/#:~:text=A%20t%2Dtest%20is%20a,means%20is%20different%20from%20zero.\n",
    "\n",
    "\n",
    "33. McLoughlin. I, t03v07_ttest_ind. 2023 </br> https://atlantictu-my.sharepoint.com/personal/ian_mcloughlin_atu_ie/_layouts/15/stream.aspx?id=%2Fpersonal%2Fian%5Fmcloughlin%5Fatu%5Fie%2FDocuments%2Fstudent%5Fshares%2Fmachine%5Flearnning%5Fand%5Fstatistics%2F3%5Ft%5Ftests%2Ft03v07%5Fttest%5Find%2Emkv&referrer=StreamWebApp%2EWeb&referrerScenario=AddressBarCopied%2Eview\n",
    "\n",
    "\n",
    "34. Wesser.L, Palomino. J. Lesson 2. Customize Your Plots Using Matplotlib. Earth Data Analytics Online Certificate. 2023. </br> https://www.earthdatascience.org/courses/scientists-guide-to-plotting-data-in-python/plot-with-matplotlib/introduction-to-matplotlib-plots/customize-plot-colors-labels-matplotlib/\n",
    "\n",
    "\n",
    "35. w3schools. Pandas Read CSV. 2023. </br> https://www.w3schools.com/python/pandas/pandas_csv.asp\n",
    "\n",
    "\n",
    "36. skytower. Getting rows with missing values(NaNs) in Pandas DataFrame. 12 August 2023. </br> https://www.skytowner.com/explore/getting_rows_with_missing_values_in_pandas_dataframe\n",
    "\n",
    "\n",
    "37. w3schools. Pandas DataFrame dropna() Method. 2023. </br> https://www.w3schools.com/python/pandas/ref_df_dropna.asp\n",
    "\n",
    "\n",
    "38. geeksforgeeks. Pandas – How to reset index in a given DataFrame. 2023. </br> https://www.geeksforgeeks.org/pandas-how-to-reset-index-in-a-given-dataframe/\n",
    "\n",
    "\n",
    "39. McLoughlin. Ian. </br> https://atlantictu-my.sharepoint.com/personal/ian_mcloughlin_atu_ie/_layouts/15/stream.aspx?id=%2Fpersonal%2Fian%5Fmcloughlin%5Fatu%5Fie%2FDocuments%2Fstudent%5Fshares%2Fmachine%5Flearnning%5Fand%5Fstatistics%2F3%5Ft%5Ftests%2Ft03v07%5Fttest%5Find%2Emkv&referrer=StreamWebApp%2EWeb&referrerScenario=AddressBarCopied%2Eview\n",
    "\n",
    "\n",
    "40. geeksforgeeks. Pandas Dataframe.to_numpy() – Convert dataframe to Numpy array. 2023. https://www.geeksforgeeks.org/pandas-dataframe-to_numpy-convert-dataframe-to-numpy-array/\n",
    "\n",
    "\n",
    "41. scipy. scipy.stats.ttest_ind. 2023. https://docs.scipy.org/doc/scipy/reference/generated/scipy.stats.ttest_ind.html\n",
    "\n",
    "\n",
    "42. Wikipedia. Student's t-distribution. 2023. https://en.wikipedia.org/wiki/Student%27s_t-distribution\n",
    "\n",
    "\n",
    "##### Markdown references\n",
    "\n",
    "- Cone.M. Markdown Guide. Hacks. 2023. https://www.markdownguide.org/hacks/#image-captions\n",
    "\n",
    "***\n",
    "\n",
    "#### <ins><span style=\"color:blue\">Task 4</span></ins>\n",
    "\n",
    "43. Wiley Online Library. 2023. https://onlinelibrary.wiley.com/doi/10.1111/j.1469-1809.1936.tb02137.x\n",
    "\n",
    "\n",
    "44. Wikipedia. Iris Flower data set. 2023. https://en.wikipedia.org/wiki/Iris_flower_data_set\n",
    "\n",
    "\n",
    "45. Kaggle. Iris Species. </br> https://www.kaggle.com/datasets/uciml/iris/\n",
    "\n",
    "\n",
    "46. Pandas. Working with missing data. 2023 </br> https://pandas.pydata.org/pandas-docs/stable/user_guide/missing_data.html#working-with-missing-data\n",
    "\n",
    "\n",
    "47. Data to Fish. Check for NaN in Pandas DataFrame (examples included) 10 September 2021. </br> https://datatofish.com/check-nan-pandas-dataframe/\n",
    "\n",
    "\n",
    "48. geeksforgeeks. Create a Scatter Plot using Sepal length and Petal_width to Separate the Species Classes Using scikit-learn. 2023. </br> https://www.geeksforgeeks.org/create-a-scatter-plot-using-sepal-length-and-petal_width-to-separate-the-species-classes-using-scikit-learn/\n",
    "\n",
    "\n",
    "49. freecodecamp. Lemonaki. Dionysia. What is an Outlier? Definition and How to Find Outliers in Statistics. 24 August 2021. </br> https://www.freecodecamp.org/news/what-is-an-outlier-definition-and-how-to-find-outliers-in-statistics/\n",
    "\n",
    "\n",
    "50. seaborn.pairplot. 2023. </br> https://seaborn.pydata.org/generated/seaborn.pairplot.html\n",
    "\n",
    "\n",
    "51. Pandas. pandas.DataFrame.iloc 2023. </br> https://pandas.pydata.org/docs/reference/api/pandas.DataFrame.iloc.html\n",
    "\n",
    "\n",
    "52. Zach. Statology. How to Select Multiple Columns in Pandas(With Examples). 15 November 2023. </br> https://www.statology.org/pandas-select-multiple-columns/\n",
    "\n",
    "\n",
    "53. Dionysia Lemonaki FreeCodeCamp. </br> https://www.freecodecamp.org/news/what-is-an-outlier-definition-and-how-to-find-outliers-in-statistics/\n",
    "\n",
    "\n",
    "54. Wikipedia. Euclidean Distance. 2023. </br> https://en.wikipedia.org/wiki/Euclidean_distance\n",
    "\n",
    "\n",
    "55. Statology. Zach. How to Drop First Column in Pandas DataFrame (3 Methods) 27 October 2021. </br> https://www.statology.org/pandas-drop-first-column/\n",
    "\n",
    "\n",
    "56. thisPointer Programming Tutorials. Varun. 09 April 2021. </br> https://thispointer.com/pandas-delete-last-column-of-dataframe-in-python/\n",
    "\n",
    "\n",
    "##### Markdown references\n",
    "\n",
    "- Ramalingam. A. Medium. 7 Advanced Markdown Tips! 2021. https://medium.com/analytics-vidhya/7-advanced-markdown-tips-5a031620bf52\n",
    "\n",
    "***\n",
    "\n",
    "#### <ins><span style=\"color:blue\">Task 5</span></ins>\n",
    "\n",
    "57. datacamp.The Curse of Dimensionality in Machine Learning: Challenges, Impacts, and Solutions. September 2023. </br>\n",
    "https://www.datacamp.com/blog/curse-of-dimensionality-machine-learning\n",
    "\n",
    "\n",
    "58. Sharma. Pulkit. Understanding Distance Metrics Used in Machine Learning 08 August, 2023. </br>\n",
    "https://www.analyticsvidhya.com/blog/2020/02/4-types-of-distance-metrics-in-machine-learning/#:~:text=Conclusion-,Distance%20metrics%20are%20a%20key%20part%20of%20several%20machine%20learning,important%20than%20you%20might%20realize.\n",
    "\n",
    "\n",
    "59. Wikipedia. Principal component analysis (n.d) </br>\n",
    "https://en.wikipedia.org/wiki/Principal_component_analysis\n",
    "\n",
    "\n",
    "60. Kaggle (UCI Machine Learning). </br> https://www.kaggle.com/datasets/uciml/iris/\n",
    "\n",
    "\n",
    "61. pandas. (n.d) pandas.read_csv. </br> https://pandas.pydata.org/docs/reference/api/pandas.read_csv.html\n",
    "\n",
    "\n",
    "62. Olumide, Shittu. Dataframe Drop Column in Pandas – How to Remove Columns from Dataframes 27 March, 2023 </br>https://www.freecodecamp.org/news/dataframe-drop-column-in-pandas-how-to-remove-columns-from-dataframes/\n",
    "\n",
    "\n",
    "63. sklearn (n.d.) sklearn.decomposition.PCA </br> https://scikit-learn.org/stable/modules/generated/sklearn.decomposition.PCA.html\n",
    "\n",
    "\n",
    "64. Ebner. Joshua A Quick Introduction to the Sklearn Fit Method. 24 April, 2022. </br> https://www.sharpsightlabs.com/blog/sklearn-fit/\n",
    "\n",
    "\n",
    "65. scikit-learn. sklearn.preprocessing.StandardScaler (2023). </br> https://scikit-learn.org/stable/modules/generated/sklearn.preprocessing.StandardScaler.html\n",
    "\n",
    "\n",
    "66. Kharwal. Aman. StandardScaler in Machine Learning. 22 September 2020. </br> https://thecleverprogrammer.com/2020/09/22/standardscaler-in-machine-learning/"
   ]
  },
  {
   "cell_type": "markdown",
   "metadata": {},
   "source": [
    "# **<span style=\"color:blue\"> End </span>**\n",
    "***"
   ]
  }
 ],
 "metadata": {
  "kernelspec": {
   "display_name": "base",
   "language": "python",
   "name": "python3"
  },
  "language_info": {
   "codemirror_mode": {
    "name": "ipython",
    "version": 3
   },
   "file_extension": ".py",
   "mimetype": "text/x-python",
   "name": "python",
   "nbconvert_exporter": "python",
   "pygments_lexer": "ipython3",
   "version": "3.11.5"
  }
 },
 "nbformat": 4,
 "nbformat_minor": 2
}
