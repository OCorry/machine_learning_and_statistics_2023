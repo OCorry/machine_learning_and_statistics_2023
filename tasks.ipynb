{
 "cells": [
  {
   "cell_type": "markdown",
   "metadata": {},
   "source": [
    "# **<span style=\"color:blue\"> Weekly Tasks </span>**\n",
    "\n",
    "\n",
    "#### This notebook contains the required weekly tasks for the completion of module Machine Learning and Statistics 23/24. \n",
    "\n",
    "***"
   ]
  },
  {
   "cell_type": "markdown",
   "metadata": {},
   "source": [
    "## <ins><span style=\"color:blue\"> Task 1 </span></ins>\n",
    "> *Square roots are difficult to calculate. In Python, you typically use the power operator (a double asterisk) or a package such as `math`. In this task, you should write a function `sqrt(x)` to approximate the square root of a floating point number x without using the power operator or a package.*\n",
    "\n",
    ">*Rather, you should use the Newton’s method. Start with an initial guess for the square root called $z_{0}$. You then repeatedly improve it using the following formula, until the difference between some previous guess $z_{i}$ and the next $z_{i+1}$ is less than some threshold, say 0.01.*"
   ]
  },
  {
   "cell_type": "markdown",
   "metadata": {},
   "source": [
    "$$ z_{i+1} = z{_i} - \\frac {z_i × z_i - x} {2z_i} $$"
   ]
  },
  {
   "cell_type": "code",
   "execution_count": 1,
   "metadata": {},
   "outputs": [],
   "source": [
    "# The number that we want to get the square root of\n",
    "\n",
    "x = 16"
   ]
  },
  {
   "cell_type": "code",
   "execution_count": 2,
   "metadata": {},
   "outputs": [],
   "source": [
    "# Our initial guess for the square root\n",
    "# Setting as floating point number as square root will be floating point unless x has a perfect square root \n",
    "z = 5 "
   ]
  },
  {
   "cell_type": "markdown",
   "metadata": {},
   "source": [
    "Now, we use Newton's method. Below, using ``z=5`` as the inital guess, the next approximation of the square root of 16 to be 4.1. This is a much more accureate approximation, as 4.1 is closer much to the true square root of 16 than the initial guess of 5. "
   ]
  },
  {
   "cell_type": "code",
   "execution_count": 3,
   "metadata": {},
   "outputs": [
    {
     "data": {
      "text/plain": [
       "4.1"
      ]
     },
     "execution_count": 3,
     "metadata": {},
     "output_type": "execute_result"
    }
   ],
   "source": [
    "# Calculate the first approximation for the square root of 16\n",
    "\n",
    "zfirst = z - (((z*z)-x) /(2*z))\n",
    "zfirst"
   ]
  },
  {
   "cell_type": "markdown",
   "metadata": {},
   "source": [
    "The next six cells of code show how using the previous approximate value of the square root of 16 ($z_0$), brings the next approximate value ($z_0$) closer and closer to the correct value each time the code is run (using the most recent approximate value for $z_0$)"
   ]
  },
  {
   "cell_type": "code",
   "execution_count": 4,
   "metadata": {},
   "outputs": [
    {
     "data": {
      "text/plain": [
       "4.001219512195122"
      ]
     },
     "execution_count": 4,
     "metadata": {},
     "output_type": "execute_result"
    }
   ],
   "source": [
    "zsecond = zfirst - (((zfirst*zfirst)-x)/(2*zfirst))\n",
    "zsecond"
   ]
  },
  {
   "cell_type": "code",
   "execution_count": 5,
   "metadata": {},
   "outputs": [
    {
     "data": {
      "text/plain": [
       "4.0000001858445895"
      ]
     },
     "execution_count": 5,
     "metadata": {},
     "output_type": "execute_result"
    }
   ],
   "source": [
    "zthird = zsecond - (((zsecond*zsecond) -x)/(2*zsecond))\n",
    "zthird"
   ]
  },
  {
   "cell_type": "code",
   "execution_count": 6,
   "metadata": {},
   "outputs": [
    {
     "data": {
      "text/plain": [
       "4.000000000000004"
      ]
     },
     "execution_count": 6,
     "metadata": {},
     "output_type": "execute_result"
    }
   ],
   "source": [
    "zfourth = zthird - (((zthird*zthird) - x)/(2*zthird))\n",
    "zfourth"
   ]
  },
  {
   "cell_type": "code",
   "execution_count": 7,
   "metadata": {},
   "outputs": [
    {
     "data": {
      "text/plain": [
       "4.0"
      ]
     },
     "execution_count": 7,
     "metadata": {},
     "output_type": "execute_result"
    }
   ],
   "source": [
    "zfifth = zfourth - (((zfourth*zfourth) - x)/(2*zfourth))\n",
    "zfifth"
   ]
  },
  {
   "cell_type": "code",
   "execution_count": 8,
   "metadata": {},
   "outputs": [
    {
     "data": {
      "text/plain": [
       "4.0"
      ]
     },
     "execution_count": 8,
     "metadata": {},
     "output_type": "execute_result"
    }
   ],
   "source": [
    "zsixth = zfifth - (((zfifth*zfifth) - x)/(2*zfifth))\n",
    "zsixth"
   ]
  },
  {
   "cell_type": "code",
   "execution_count": 9,
   "metadata": {},
   "outputs": [
    {
     "data": {
      "text/plain": [
       "4.0"
      ]
     },
     "execution_count": 9,
     "metadata": {},
     "output_type": "execute_result"
    }
   ],
   "source": [
    "zseventh = zsixth - (((zsixth*zsixth) - x)/(2*zsixth))\n",
    "zseventh"
   ]
  },
  {
   "cell_type": "markdown",
   "metadata": {},
   "source": [
    "To carry the above out using less lines of code, the following code could be used so that the value of $z_0$ is overwritten every time the code  is run:\n",
    "\n",
    "$$z = z - (((z*z)-x)/(2*z)) $$"
   ]
  },
  {
   "cell_type": "markdown",
   "metadata": {},
   "source": [
    "#### <span style=\"color:blue\"> Creating a function to define the square root of ``n`` Using a ``For Loop`` </span>"
   ]
  },
  {
   "cell_type": "code",
   "execution_count": 10,
   "metadata": {},
   "outputs": [],
   "source": [
    "def sqrt(n): # Defining the Function\n",
    "    z = n/4.0 # Setting a value for the approx value and storing it as a variable z   \n",
    "\n",
    "# Loop until we are accurate enough\n",
    "    for i in range(100):\n",
    "        # Newton's method for a better approximation.\n",
    "        z = z - (((z*z)-x) /(2*z))\n",
    "\n",
    "    return z"
   ]
  },
  {
   "cell_type": "code",
   "execution_count": 11,
   "metadata": {},
   "outputs": [
    {
     "data": {
      "text/plain": [
       "4.0"
      ]
     },
     "execution_count": 11,
     "metadata": {},
     "output_type": "execute_result"
    }
   ],
   "source": [
    "sqrt(16)"
   ]
  },
  {
   "cell_type": "markdown",
   "metadata": {},
   "source": [
    "### <span style=\"color:blue\"> Creating a function to define the square roof of ``n`` using a ``While Loop`` </span>"
   ]
  },
  {
   "cell_type": "markdown",
   "metadata": {},
   "source": [
    "The following code creates a function to define the square root of of a number. For this the number we will be looking to get the square root of will be given the value of <span style=\"color:red\"> \"n\" </span>. Firstly, we  use the ``def`` keyword followed by the name of the function we want to create ``sqrt``. In the brackets we pass the parameter <span style=\"color:red\">  \"n\" </span> into the function.\n",
    "\n",
    "I have sourced code from [How to Think Like a Computer Scientist: Learning with Python 3](https://openbookproject.net/thinkcs/python/english3e/iteration.html) and lecture videos from  [McLoughlin. I, 2023](https://atlantictu-my.sharepoint.com/personal/ian_mcloughlin_atu_ie/_layouts/15/stream.aspx?id=%2Fpersonal%2Fian%5Fmcloughlin%5Fatu%5Fie%2FDocuments%2Fstudent%5Fshares%2Fmachine%5Flearnning%5Fand%5Fstatistics%2F1%5Fgeneral%2Ft01v11%5Ftask%5Fone%5Fand%5Frepo%2Emkv&referrer=OneDriveForBusiness&referrerScenario=OpenFile) for the purpose of this task.\n",
    "\n",
    "The first guess <span style=\"color:red\"> n/2.0</span> is stored as variable <span style=\"color:red\"> \"approx\" </span>. \n",
    "\n",
    "Using a ``while True loop`` the function will continue to loop until the square root is found, using the code inside of it. \n",
    "\n",
    "In the loop the code works as follows: Firstly, Newton's method is used. The formula is saying that if the current approx figure $z{_i}$ MINUS the approx figure squared $(z_i)$ x $(z_i)$ - $n$, all divided by the approx figure multiplied by two (${2z_i} $) is all equal to the new approx figure $z_{i+1}$, then the square root is found.\n",
    "\n",
    "$$ z_{i+1} = z{_i} - \\frac {z_i × z_i - n} {2z_i} $$\n",
    "\n",
    " Take for example, approx <span style=\"color:red\"> \"z\"</span> to be equal to 2 and <span style=\"color:red\"> \"n\"</span> to be 4 to demonstrate Newton's Method:\n",
    "\n",
    "$$ 2_{i+1} = 2{_i} - \\frac {2_i × 2_i - 4} {2(2)_i}$$\n",
    "\n",
    "$$ 2= 2- \\frac {2 × 2 - 4} {4} $$ \n",
    "\n",
    "$$2 = 2- \\frac {4 - 4} {4}$$\n",
    "\n",
    "$$2 = 2- \\frac {0} {4}$$\n",
    "\n",
    "$$2 = 2-0$$\n",
    "\n",
    "$$2 = 2$$\n",
    "\n",
    "\n",
    "The next line of code is stating that if the value of the first approx figure is equal to the new approx figure, then return the new approx figure.\n",
    "\n",
    "Finally to test the function, the ``print`` command is used and a figure (for example 27) is passed in to get the square root of it. \n",
    "\n",
    "The whole function is demonstrated below:"
   ]
  },
  {
   "cell_type": "code",
   "execution_count": 12,
   "metadata": {},
   "outputs": [
    {
     "name": "stdout",
     "output_type": "stream",
     "text": [
      "5.196152422706632\n"
     ]
    }
   ],
   "source": [
    "def sqrt(n): # Defining the Function\n",
    "    approx = n/2.0 # Setting a value for the approx value and storing it as a variable approx    \n",
    "    while True: # While the following is true:\n",
    "        newApprox = approx - (((approx*approx)-n)/(2*approx)) # Using Newton's method\n",
    "        if abs(approx - newApprox) ==0: # If the difference between approx and newApprox figure is equal to 0\n",
    "            return newApprox # Return the new newApprox \n",
    "        approx = newApprox # Approx figure = newApprox figure \n",
    "\n",
    "# Testing the function        \n",
    "print(sqrt(27.0))"
   ]
  },
  {
   "cell_type": "markdown",
   "metadata": {},
   "source": [
    "Lastly, just to check the output from the function above is correct, use python to check the square root of 27. This gives the same figure as generated by the function above:"
   ]
  },
  {
   "cell_type": "code",
   "execution_count": 13,
   "metadata": {},
   "outputs": [
    {
     "data": {
      "text/plain": [
       "5.196152422706632"
      ]
     },
     "execution_count": 13,
     "metadata": {},
     "output_type": "execute_result"
    }
   ],
   "source": [
    "# Check pythons value for the square root of 27:\n",
    "27**0.5"
   ]
  },
  {
   "cell_type": "markdown",
   "metadata": {},
   "source": [
    "## <ins><span style=\"color:blue\"> Task 2 </span></ins>\n",
    "\n",
    "> *Consider the below contingency table based on a survey asking respondents whether they prefer coffee or tea and whether they prefer plain or chocolate biscuits. Use scipy.stats to perform a chi-squared test to see whether there is any evidence of an association between drink preference and biscuit preference in this instance.*\n",
    "\n",
    "</br>\n",
    "<div align=\"center\">\n",
    "\n",
    "|        |               |*Biscuit*                                                                               |\n",
    "|--------|---------------|--------------------------------------------------------------------------------------  |\n",
    "|        |               |**Chocolate**  &nbsp; &nbsp; &nbsp;  **Plain**                                          |\n",
    "|***Drink*** |**Coffee**     |    43     &nbsp; &nbsp; &nbsp; &nbsp; &nbsp; &nbsp; &nbsp; &nbsp; &nbsp; &nbsp;  57|\n",
    "|        |**Tea**        |    56     &nbsp; &nbsp; &nbsp; &nbsp; &nbsp; &nbsp; &nbsp; &nbsp; &nbsp; &nbsp;      45|\n",
    "\n",
    "</div>"
   ]
  },
  {
   "cell_type": "code",
   "execution_count": 14,
   "metadata": {},
   "outputs": [],
   "source": [
    "# Importing Libraries\n",
    "\n",
    "# For Working With Dataframes\n",
    "import pandas as pd\n",
    "\n",
    "# For doing Statistics \n",
    "import scipy.stats as ss\n",
    "\n",
    "# Shuffle the simulated data\n",
    "import random as rd"
   ]
  },
  {
   "cell_type": "markdown",
   "metadata": {},
   "source": [
    "#### <span style=\"color:blue\"> Synthasise a datset </span>"
   ]
  },
  {
   "cell_type": "markdown",
   "metadata": {},
   "source": [
    "Using the data from the contingency table above, first we synthasise a dataset using Python. First, four lists are created. Each list contains two strings, which are the names of the two categories."
   ]
  },
  {
   "cell_type": "code",
   "execution_count": 15,
   "metadata": {},
   "outputs": [],
   "source": [
    "# Create a list of coffee drinkers who prefer chocolate biscuits. There are 43 of them so muliply the list by 43\n",
    "# Put this list into another list so it generates 43 lists of coffee drinkers who prefer chocolate biscuits \n",
    "# Store this in a variable called coffee_choc\n",
    "\n",
    "coffee_choc = [['Coffee','Chocolate']]*43\n",
    "\n",
    "# Show\n",
    "#coffee_choc"
   ]
  },
  {
   "cell_type": "code",
   "execution_count": 16,
   "metadata": {},
   "outputs": [],
   "source": [
    "# Create a list of tea drinkers who prefer chocolate biscuits There are 56 of them so muliply the list by 56\n",
    "# Put this list into another list so it generates 56 lists of tea drinkers who prefer chocolate biscuits\n",
    "# Store this in a variable called tea_choc\n",
    "\n",
    "tea_choc = [['Tea','Chocolate']]*56\n",
    "\n",
    "# Show\n",
    "#tea_choc"
   ]
  },
  {
   "cell_type": "code",
   "execution_count": 17,
   "metadata": {},
   "outputs": [],
   "source": [
    "# Create a list of coffee drinkers who prefer plain biscuits There are 57 of them so muliply the list by 57\n",
    "# Put this list into another list so it generates 57 lists of coffee drinkers who prefer plain biscuits\n",
    "# Store this in a variable called coffee_plain\n",
    "\n",
    "coffee_plain = [['Coffee','Plain']]*57\n",
    "\n",
    "# Show\n",
    "#coffee_plain"
   ]
  },
  {
   "cell_type": "code",
   "execution_count": 18,
   "metadata": {},
   "outputs": [],
   "source": [
    "# Create a list of tea drinkers who prefer plain biscuits There are 45 of them so muliply the list by 45\n",
    "# Put this list into another list so it generates 56 lists of tea drinkers who prefer plain biscuits\n",
    "# Store this in a variable called tea_plain\n",
    "\n",
    "tea_plain = [['Tea','Plain']]*45\n",
    "\n",
    "# Show\n",
    "#tea_plain"
   ]
  },
  {
   "cell_type": "markdown",
   "metadata": {},
   "source": [
    "#### <span style=\"color:blue\">Concatinating the four lists</span>"
   ]
  },
  {
   "cell_type": "markdown",
   "metadata": {},
   "source": [
    "Next using the ``+`` operator, the four lists are [concatenated](https://www.freecodecamp.org/news/joining-lists-in-python-how-to-concat-lists/) (or merged) and the merged dataset is stored as a valriable called raw_data. This creates a 2D list of all the raw data - in the form of an outer list which contains inner lists which in turn contians two strings. "
   ]
  },
  {
   "cell_type": "code",
   "execution_count": 19,
   "metadata": {},
   "outputs": [],
   "source": [
    "# Merge the four lists - creates a 2D list of all the raw data\n",
    "raw_data = coffee_choc + tea_choc + coffee_plain + tea_plain\n",
    "\n",
    "# Show\n",
    "# raw_data"
   ]
  },
  {
   "cell_type": "markdown",
   "metadata": {},
   "source": [
    "#### <span style=\"color:blue\">Shuffle the data</span>"
   ]
  },
  {
   "cell_type": "markdown",
   "metadata": {},
   "source": [
    "At this point, it is very apparent that this data is simultated data due to the ordered structure it has in the ``raw data`` 2D list. To make this more realistic looking, the [random.shuffle](https://www.w3schools.com/python/ref_random_shuffle.asp) function from the [random](https://www.w3schools.com/python/module_random.asp) library can be used to shuffle the data. It is outer list rather than the inner list that is shuffled so the data itself within the inner list is not altered. This would not be done in the real world when collecting the raw data as it would be collected at random by nature."
   ]
  },
  {
   "cell_type": "code",
   "execution_count": 20,
   "metadata": {},
   "outputs": [],
   "source": [
    "# Shuffle the data\n",
    "rd.shuffle(raw_data) \n",
    "\n",
    "#Show \n",
    "#raw_data"
   ]
  },
  {
   "cell_type": "markdown",
   "metadata": {},
   "source": [
    "#### <span style=\"color:blue\">Zipping the data</span>"
   ]
  },
  {
   "cell_type": "markdown",
   "metadata": {},
   "source": [
    "Next, using the [zip() function ](https://www.programiz.com/python-programming/methods/built-in/zip) using the ``*`` operator to zip the data. The ``*`` [operator ](https://initialcommit.com/blog/python-zip-two-lists#:~:text=With%20the%20use%20of%20the,is%20assigned%20to%20the%20variable.&text=This%20operator%20is%20often%20used%20with%20the%20zip()%20function%20in%20Python.) which retruns the agrument (raw_data) as a [tuple ](https://www.w3schools.com/python/python_tuples.asp).\n",
    "\n",
    "This ``zip()`` function flips the data so that the outer and inner lists are flipped. Essentially, it makes the rows into columns and columns into rows so that the [Pandas Library](https://www.w3schools.com/python/pandas/pandas_dataframes.asp) can read the data and turn it into a dataframe. The data is now in the form of a list which contains two lists where each of the values from <span style=\"color:blue\">drink</span> and each of the values from <span style=\"color:blue\">biscuit</span> are now in their own respective two lists.\n",
    "\n",
    "\n",
    "\n",
    "\n"
   ]
  },
  {
   "cell_type": "code",
   "execution_count": 21,
   "metadata": {},
   "outputs": [],
   "source": [
    "# Zip the list to flip the data so the outer and inner lists are flipped\n",
    "# This creates a list that contains 2 more inner lists - drink and biscuit \n",
    "\n",
    "drink, biscuit =  list(zip(*raw_data))\n",
    "\n",
    "# Show\n",
    "# drink, biscuit"
   ]
  },
  {
   "cell_type": "markdown",
   "metadata": {},
   "source": [
    "#### <span style=\"color:blue\"> Using Pandas to create a dataframe from the simulated data </span>"
   ]
  },
  {
   "cell_type": "markdown",
   "metadata": {},
   "source": [
    "Next, using [Pandas Library](https://www.w3schools.com/python/pandas/pandas_intro.asp#:~:text=Pandas%20is%20a%20Python%20library,by%20Wes%20McKinney%20in%202008.), a [dataframe](https://www.w3schools.com/python/pandas/pandas_dataframes.asp) which is a table containing columns and rows can be created using the above simulated data. The data is produced in the dataframe in two categories, with variable names 'Drink' and 'Biscuit'. The data is in a [dictionary](https://www.geeksforgeeks.org/python-dictionary/). The data is held in key:value pairs. Where the keys are the column names and the values are the data in the rows below them. The dataframe below is generated containing the 201 rows and 2 columns of data, where the rows are indexed starting from index 0 through to index 200 and the columns are indexed by the keys 'Drink' and 'Biscuit'."
   ]
  },
  {
   "cell_type": "code",
   "execution_count": 22,
   "metadata": {},
   "outputs": [
    {
     "data": {
      "text/html": [
       "<div>\n",
       "<style scoped>\n",
       "    .dataframe tbody tr th:only-of-type {\n",
       "        vertical-align: middle;\n",
       "    }\n",
       "\n",
       "    .dataframe tbody tr th {\n",
       "        vertical-align: top;\n",
       "    }\n",
       "\n",
       "    .dataframe thead th {\n",
       "        text-align: right;\n",
       "    }\n",
       "</style>\n",
       "<table border=\"1\" class=\"dataframe\">\n",
       "  <thead>\n",
       "    <tr style=\"text-align: right;\">\n",
       "      <th></th>\n",
       "      <th>Drink</th>\n",
       "      <th>Biscuit</th>\n",
       "    </tr>\n",
       "  </thead>\n",
       "  <tbody>\n",
       "    <tr>\n",
       "      <th>0</th>\n",
       "      <td>Tea</td>\n",
       "      <td>Plain</td>\n",
       "    </tr>\n",
       "    <tr>\n",
       "      <th>1</th>\n",
       "      <td>Tea</td>\n",
       "      <td>Chocolate</td>\n",
       "    </tr>\n",
       "    <tr>\n",
       "      <th>2</th>\n",
       "      <td>Tea</td>\n",
       "      <td>Chocolate</td>\n",
       "    </tr>\n",
       "    <tr>\n",
       "      <th>3</th>\n",
       "      <td>Coffee</td>\n",
       "      <td>Chocolate</td>\n",
       "    </tr>\n",
       "    <tr>\n",
       "      <th>4</th>\n",
       "      <td>Coffee</td>\n",
       "      <td>Plain</td>\n",
       "    </tr>\n",
       "    <tr>\n",
       "      <th>...</th>\n",
       "      <td>...</td>\n",
       "      <td>...</td>\n",
       "    </tr>\n",
       "    <tr>\n",
       "      <th>196</th>\n",
       "      <td>Coffee</td>\n",
       "      <td>Plain</td>\n",
       "    </tr>\n",
       "    <tr>\n",
       "      <th>197</th>\n",
       "      <td>Coffee</td>\n",
       "      <td>Chocolate</td>\n",
       "    </tr>\n",
       "    <tr>\n",
       "      <th>198</th>\n",
       "      <td>Coffee</td>\n",
       "      <td>Plain</td>\n",
       "    </tr>\n",
       "    <tr>\n",
       "      <th>199</th>\n",
       "      <td>Coffee</td>\n",
       "      <td>Chocolate</td>\n",
       "    </tr>\n",
       "    <tr>\n",
       "      <th>200</th>\n",
       "      <td>Coffee</td>\n",
       "      <td>Plain</td>\n",
       "    </tr>\n",
       "  </tbody>\n",
       "</table>\n",
       "<p>201 rows × 2 columns</p>\n",
       "</div>"
      ],
      "text/plain": [
       "      Drink    Biscuit\n",
       "0       Tea      Plain\n",
       "1       Tea  Chocolate\n",
       "2       Tea  Chocolate\n",
       "3    Coffee  Chocolate\n",
       "4    Coffee      Plain\n",
       "..      ...        ...\n",
       "196  Coffee      Plain\n",
       "197  Coffee  Chocolate\n",
       "198  Coffee      Plain\n",
       "199  Coffee  Chocolate\n",
       "200  Coffee      Plain\n",
       "\n",
       "[201 rows x 2 columns]"
      ]
     },
     "execution_count": 22,
     "metadata": {},
     "output_type": "execute_result"
    }
   ],
   "source": [
    "# Create a Dataframe\n",
    "\n",
    "df = pd.DataFrame({\"Drink\":drink, \"Biscuit\": biscuit})\n",
    "\n",
    "# Show\n",
    "df"
   ]
  },
  {
   "cell_type": "markdown",
   "metadata": {},
   "source": [
    "#### <span style=\"color:blue\"> Contingency Table</span>\n"
   ]
  },
  {
   "cell_type": "markdown",
   "metadata": {},
   "source": [
    "From the dataframe, using the [crosstab contingency function](https://docs.scipy.org/doc/scipy/reference/generated/scipy.stats.contingency.crosstab.html), we can establish the number of coffee drinkers who prefer chocolate biscuits, coffee drinkers who prefer plain biscuits, tea drinkers who prefer chocolate biscuits and lastly, tea drinkers who prefer plain biscuits. The function creates [contingency table](https://www.statology.org/contingency-table-python/) to illustrate the preferences. The table clearly shows the preferences, along with the total number of tea drinkers, total number of coffee drinkers, total number of chocolate biscuit eaters and total number of plain biscuit eaters under the **All** headings. The total number of observations is 201 which matches the dataframe."
   ]
  },
  {
   "cell_type": "code",
   "execution_count": 46,
   "metadata": {},
   "outputs": [
    {
     "data": {
      "text/html": [
       "<div>\n",
       "<style scoped>\n",
       "    .dataframe tbody tr th:only-of-type {\n",
       "        vertical-align: middle;\n",
       "    }\n",
       "\n",
       "    .dataframe tbody tr th {\n",
       "        vertical-align: top;\n",
       "    }\n",
       "\n",
       "    .dataframe thead th {\n",
       "        text-align: right;\n",
       "    }\n",
       "</style>\n",
       "<table border=\"1\" class=\"dataframe\">\n",
       "  <thead>\n",
       "    <tr style=\"text-align: right;\">\n",
       "      <th>Biscuit</th>\n",
       "      <th>Chocolate</th>\n",
       "      <th>Plain</th>\n",
       "      <th>All</th>\n",
       "    </tr>\n",
       "    <tr>\n",
       "      <th>Drink</th>\n",
       "      <th></th>\n",
       "      <th></th>\n",
       "      <th></th>\n",
       "    </tr>\n",
       "  </thead>\n",
       "  <tbody>\n",
       "    <tr>\n",
       "      <th>Coffee</th>\n",
       "      <td>43</td>\n",
       "      <td>57</td>\n",
       "      <td>100</td>\n",
       "    </tr>\n",
       "    <tr>\n",
       "      <th>Tea</th>\n",
       "      <td>56</td>\n",
       "      <td>45</td>\n",
       "      <td>101</td>\n",
       "    </tr>\n",
       "    <tr>\n",
       "      <th>All</th>\n",
       "      <td>99</td>\n",
       "      <td>102</td>\n",
       "      <td>201</td>\n",
       "    </tr>\n",
       "  </tbody>\n",
       "</table>\n",
       "</div>"
      ],
      "text/plain": [
       "Biscuit  Chocolate  Plain  All\n",
       "Drink                         \n",
       "Coffee          43     57  100\n",
       "Tea             56     45  101\n",
       "All             99    102  201"
      ]
     },
     "execution_count": 46,
     "metadata": {},
     "output_type": "execute_result"
    }
   ],
   "source": [
    "# Perform Crosstabs Contingency\n",
    "# store as variable contingencyTable\n",
    "contingencyTable = pd.crosstab(index=df['Drink'], columns=df['Biscuit'], margins=True)\n",
    "\n",
    "# Show \n",
    "contingencyTable\n"
   ]
  },
  {
   "cell_type": "markdown",
   "metadata": {},
   "source": [
    "#### <span style=\"color:blue\"> The statistical Test</span>"
   ]
  },
  {
   "cell_type": "markdown",
   "metadata": {},
   "source": [
    "With the contingency table created above, the [scipy.stats.chi2_contingency function](https://docs.scipy.org/doc/scipy/reference/generated/scipy.stats.chi2_contingency.html), is used to calculate the chi square to test for independence between the two variables drink and biscuit."
   ]
  },
  {
   "cell_type": "code",
   "execution_count": 47,
   "metadata": {},
   "outputs": [
    {
     "data": {
      "text/plain": [
       "Chi2ContingencyResult(statistic=3.113937364324669, pvalue=0.5389425856850661, dof=4, expected_freq=array([[ 49.25373134,  50.74626866, 100.        ],\n",
       "       [ 49.74626866,  51.25373134, 101.        ],\n",
       "       [ 99.        , 102.        , 201.        ]]))"
      ]
     },
     "execution_count": 47,
     "metadata": {},
     "output_type": "execute_result"
    }
   ],
   "source": [
    "chisquare = ss.chi2_contingency(contingencyTable, correction=False)\n",
    "\n",
    "chisquare"
   ]
  },
  {
   "cell_type": "markdown",
   "metadata": {},
   "source": [
    "# **<span style=\"color:blue\"> References </span>**\n",
    "***"
   ]
  },
  {
   "cell_type": "markdown",
   "metadata": {},
   "source": [
    "Document 360. How to change the color of the text in Markdown? 30 March 2023. <https://docs.document360.com/docs/how-to-change-the-color-of-the-text-in-markdown>.\n",
    "\n",
    "\n",
    "Markdown Basics. 04 October 2023. <https://docs.document360.com/docs/how-to-change-the-color-of-the-text-in-markdown>\n",
    "\n",
    "\n",
    "Overleaf. How do I use Subscripts? 2023. <https://www.overleaf.com/learn/latex/Questions/How_do_I_use_subscripts%3F>\n",
    "\n",
    "\n",
    "Soualem, Nadir. Math-Linux.com. 02 April 2023. <https://www.math-linux.com/latex-26/faq/latex-faq/article/latex-derivatives-limits-sums-products-and-integrals>\n",
    "\n",
    "\n",
    "Peter Wentworth, Jeffrey Elkner, Allen B. Downey, and Chris Meyers. How to Think Like a Computer Scientist: Learning with Python 3. October 2012. https://openbookproject.net/thinkcs/python/english3e/iteration.html\n",
    "\n",
    "Dionysia Lemonaki While Loops in Python - While True Loop Statement Example. 19 July 2022. https://www.freecodecamp.org/news/while-loops-in-python-while-true-loop-statement-example/#while-true\n",
    "\n",
    "Ian McLoughlin. t01v11_task_one_and_repo. 13 September 2023. \n",
    "https://atlantictu-my.sharepoint.com/personal/ian_mcloughlin_atu_ie/_layouts/15/stream.aspx?id=%2Fpersonal%2Fian%5Fmcloughlin%5Fatu%5Fie%2FDocuments%2Fstudent%5Fshares%2Fmachine%5Flearnning%5Fand%5Fstatistics%2F1%5Fgeneral%2Ft01v11%5Ftask%5Fone%5Fand%5Frepo%2Emkv&referrer=OneDriveForBusiness&referrerScenario=OpenFile\n",
    "\n",
    "\n",
    "Matt Cone. Markdown Guide. Extended Sytax. 2023. https://www.markdownguide.org/extended-syntax/\n",
    "\n",
    "\n",
    "How To Center Things In Markdown. Markdown Land 02 November 2021. https://markdown.land/markdown-center\n",
    "\n",
    "\n",
    "Matt Ball. Stackoverflow How do I ensure that whitespace is preserved in Markdown?. 30 March 2013. https://stackoverflow.com/questions/15721373/how-do-i-ensure-that-whitespace-is-preserved-in-markdown#:~:text=To%20preserve%20spaces%20in%20a,line%20break%20at%20its%20position%22.\n",
    "\n",
    "#### Task 2\n",
    "W3Schools Python Join Two Lists. 2023. https://www.w3schools.com/python/gloss_python_join_lists.asp\n",
    "\n",
    "Programiz Python zip(). 2023. https://www.programiz.com/python-programming/methods/built-in/zip\n",
    "\n",
    "Initial commit. Python Zip Two Lists. 14 November 2021. https://initialcommit.com/blog/python-zip-two-lists#:~:text=With%20the%20use%20of%20the,is%20assigned%20to%20the%20variable.&text=This%20operator%20is%20often%20used%20with%20the%20zip()%20function%20in%20Python.\n",
    "\n",
    "\n",
    "W3Schools. Python Tuples. 2023. https://www.w3schools.com/python/python_tuples.asp\n",
    "\n",
    "\n",
    "codexcademy. Docs/Markdown/Links. 22 August 2023. https://www.codecademy.com/resources/docs/markdown/links\n",
    "\n",
    "W3Schools. Pandas Dataframes. 2023. https://www.w3schools.com/python/pandas/pandas_dataframes.asp\n",
    "\n",
    "\n",
    "W3Schools. Pandas Introduction. 2023. https://www.w3schools.com/python/pandas/pandas_intro.asp#:~:text=Pandas%20is%20a%20Python%20library,by%20Wes%20McKinney%20in%202008.\n",
    "\n",
    "\n",
    "Shittu Olumide. freeCodeCamp. Joining Lists in Python - How to Concat Lists. 14 March 2023. https://www.freecodecamp.org/news/joining-lists-in-python-how-to-concat-lists/\n",
    "\n",
    "\n",
    "w3schools. Python Random shuffle() method. 2023. https://www.w3schools.com/python/ref_random_shuffle.asp\n",
    "\n",
    "\n",
    "w3schools. Python Random Module. 2023. https://www.w3schools.com/python/module_random.asp\n",
    "\n",
    "\n",
    "geeksforgeeks. Python Dictionary. 2023. https://www.geeksforgeeks.org/python-dictionary/\n",
    "\n",
    "\n",
    "scipy.org. scipy.stats.contingency.crosstab. 2023. https://docs.scipy.org/doc/scipy/reference/generated/scipy.stats.contingency.crosstab.html\n",
    "\n",
    "Zach. statology. How to create a Contingency Table in Python. 12 March 2023. https://www.statology.org/contingency-table-python/\n",
    "\n",
    "\n",
    "scypy.org. scipy.stats.chi2_contingency. 2023. https://docs.scipy.org/doc/scipy/reference/generated/scipy.stats.chi2_contingency.html\n"
   ]
  },
  {
   "cell_type": "markdown",
   "metadata": {},
   "source": [
    "# **<span style=\"color:blue\"> End </span>**\n",
    "***"
   ]
  }
 ],
 "metadata": {
  "kernelspec": {
   "display_name": "base",
   "language": "python",
   "name": "python3"
  },
  "language_info": {
   "codemirror_mode": {
    "name": "ipython",
    "version": 3
   },
   "file_extension": ".py",
   "mimetype": "text/x-python",
   "name": "python",
   "nbconvert_exporter": "python",
   "pygments_lexer": "ipython3",
   "version": "3.11.5"
  }
 },
 "nbformat": 4,
 "nbformat_minor": 2
}
