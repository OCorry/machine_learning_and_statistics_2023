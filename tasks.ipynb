{
 "cells": [
  {
   "cell_type": "markdown",
   "metadata": {},
   "source": [
    "# **<span style=\"color:blue\"> Weekly Tasks </span>**\n",
    "\n",
    "\n",
    "##### This notebook contains the required weekly tasks for the completion of module Machine Learning and Statistics 23/24. \n",
    "\n",
    "***"
   ]
  },
  {
   "cell_type": "markdown",
   "metadata": {},
   "source": [
    "## <span style=\"color:blue\"> Task 1 </span>\n",
    "> *Square roots are difficult to calculate. In Python, you typically use the power operator (a double asterisk) or a package such as `math`. In this task, you should write a function `sqrt(x)` to approximate the square root of a floating point number x without using the power operator or a package.*\n",
    "\n",
    ">*Rather, you should use the Newton’s method. Start with an initial guess for the square root called $z_{0}$. You then repeatedly improve it using the following formula, until the difference between some previous guess $z_{i}$ and the next $z_{i+1}$ is less than somen threshold, say 0.01.*"
   ]
  },
  {
   "cell_type": "markdown",
   "metadata": {},
   "source": [
    "$$ z_{i+1} = z{_i} - \\frac {z_i × z_i - x} {2z_i} $$"
   ]
  },
  {
   "cell_type": "code",
   "execution_count": 62,
   "metadata": {},
   "outputs": [],
   "source": [
    "# The number that we want to get the square root of\n",
    "\n",
    "x = 16"
   ]
  },
  {
   "cell_type": "code",
   "execution_count": 63,
   "metadata": {},
   "outputs": [],
   "source": [
    "# Our initial guess for the square root\n",
    "# Setting as floating point number as square root will be floating point unless x has a perfect square root \n",
    "z = 5 "
   ]
  },
  {
   "cell_type": "markdown",
   "metadata": {},
   "source": [
    "Now, we create a function using Newton's method. Below, using ``z=5`` as the initial guess (zfirst), the function generates the next approximation of the square root of 16 to be 4.1. This is a much more accureate approximation, as 4.1 is closer much to the true square root of 16 than the initial guess of 5. "
   ]
  },
  {
   "cell_type": "code",
   "execution_count": 71,
   "metadata": {},
   "outputs": [
    {
     "data": {
      "text/plain": [
       "4.1"
      ]
     },
     "execution_count": 71,
     "metadata": {},
     "output_type": "execute_result"
    }
   ],
   "source": [
    "# Calculate the first approximation for the square root of 16\n",
    "\n",
    "zfirst = z - (((z*z)-x) /(2*z))\n",
    "zfirst"
   ]
  },
  {
   "cell_type": "markdown",
   "metadata": {},
   "source": [
    "The next six cells of code show how using the previous approximate value of the square root of 16 ($z_0$), brings the next approximate value ($z_0$) closer and closer to the correct value each time the code is run (using the most recent approximate value for $z_0$)"
   ]
  },
  {
   "cell_type": "code",
   "execution_count": 72,
   "metadata": {},
   "outputs": [
    {
     "data": {
      "text/plain": [
       "4.001219512195122"
      ]
     },
     "execution_count": 72,
     "metadata": {},
     "output_type": "execute_result"
    }
   ],
   "source": [
    "zsecond = zfirst - (((zfirst*zfirst)-x)/(2*zfirst))\n",
    "zsecond"
   ]
  },
  {
   "cell_type": "code",
   "execution_count": 73,
   "metadata": {},
   "outputs": [
    {
     "data": {
      "text/plain": [
       "4.0000001858445895"
      ]
     },
     "execution_count": 73,
     "metadata": {},
     "output_type": "execute_result"
    }
   ],
   "source": [
    "zthird = zsecond - (((zsecond*zsecond) -x)/(2*zsecond))\n",
    "zthird"
   ]
  },
  {
   "cell_type": "code",
   "execution_count": 74,
   "metadata": {},
   "outputs": [
    {
     "data": {
      "text/plain": [
       "4.000000000000004"
      ]
     },
     "execution_count": 74,
     "metadata": {},
     "output_type": "execute_result"
    }
   ],
   "source": [
    "zfourth = zthird - (((zthird*zthird) - x)/(2*zthird))\n",
    "zfourth"
   ]
  },
  {
   "cell_type": "code",
   "execution_count": 75,
   "metadata": {},
   "outputs": [
    {
     "data": {
      "text/plain": [
       "4.0"
      ]
     },
     "execution_count": 75,
     "metadata": {},
     "output_type": "execute_result"
    }
   ],
   "source": [
    "zfifth = zfourth - (((zfourth*zfourth) - x)/(2*zfourth))\n",
    "zfifth"
   ]
  },
  {
   "cell_type": "code",
   "execution_count": 76,
   "metadata": {},
   "outputs": [
    {
     "data": {
      "text/plain": [
       "4.0"
      ]
     },
     "execution_count": 76,
     "metadata": {},
     "output_type": "execute_result"
    }
   ],
   "source": [
    "zsixth = zfifth - (((zfifth*zfifth) - x)/(2*zfifth))\n",
    "zsixth"
   ]
  },
  {
   "cell_type": "code",
   "execution_count": 77,
   "metadata": {},
   "outputs": [
    {
     "data": {
      "text/plain": [
       "4.0"
      ]
     },
     "execution_count": 77,
     "metadata": {},
     "output_type": "execute_result"
    }
   ],
   "source": [
    "zseventh = zsixth - (((zsixth*zsixth) - x)/(2*zsixth))\n",
    "zseventh"
   ]
  },
  {
   "cell_type": "markdown",
   "metadata": {},
   "source": [
    "To carry the above out using less lines of code, the following code could be used so that the value of $z_0$ is overwritten every time the code  is run:\n",
    "\n",
    "$$z = z - (((z*z)-x)/(2*z)) $$"
   ]
  },
  {
   "cell_type": "code",
   "execution_count": null,
   "metadata": {},
   "outputs": [],
   "source": []
  },
  {
   "cell_type": "markdown",
   "metadata": {},
   "source": [
    "# **<span style=\"color:blue\"> References </span>**\n",
    "***"
   ]
  },
  {
   "cell_type": "markdown",
   "metadata": {},
   "source": [
    "Document 360. How to change the color of the text in Markdown? 30 03 2023. <https://docs.document360.com/docs/how-to-change-the-color-of-the-text-in-markdown>.\n",
    "\n",
    "\n",
    "Markdown Basics. 04 10 2023. <https://docs.document360.com/docs/how-to-change-the-color-of-the-text-in-markdown>.\n",
    "\n",
    "\n",
    "Overleaf. How do I use Subscripts? 2023. <https://www.overleaf.com/learn/latex/Questions/How_do_I_use_subscripts%3F>.\n",
    "\n",
    "\n",
    "Soualem, Nadir. Math-Linux.com. 02 04 2023. <https://www.math-linux.com/latex-26/faq/latex-faq/article/latex-derivatives-limits-sums-products-and-integrals>.\n",
    "\n"
   ]
  }
 ],
 "metadata": {
  "kernelspec": {
   "display_name": "base",
   "language": "python",
   "name": "python3"
  },
  "language_info": {
   "codemirror_mode": {
    "name": "ipython",
    "version": 3
   },
   "file_extension": ".py",
   "mimetype": "text/x-python",
   "name": "python",
   "nbconvert_exporter": "python",
   "pygments_lexer": "ipython3",
   "version": "3.11.5"
  }
 },
 "nbformat": 4,
 "nbformat_minor": 2
}
