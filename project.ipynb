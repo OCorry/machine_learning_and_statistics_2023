{
 "cells": [
  {
   "cell_type": "markdown",
   "metadata": {},
   "source": [
    "# <span style=\"color:darkred\"> Explore Classification algorithms applied on the Iris Flower data set associated with Ronald Fisher</span>\n",
    "***"
   ]
  },
  {
   "cell_type": "markdown",
   "metadata": {},
   "source": [
    "## <span style=\"color:darkred\"> Introduction</span>\n",
    "***\n",
    "\n",
    "The aim of this notebook is to explore classification algorithms by applying them on the well known *Iris data set*.\n",
    "- I will begin by explaining what supervised learning is and explain what classification algortihms are in machine learning.\n",
    "- Next, I will describe some of the classification algorithms and demonstrate them on the *Iris data set* using the ``scikit-learn`` Python Library. \n",
    "- Throughout my notebook, I will be using appropriate plots, mathematical notation and diagrams to explain relevant concepts."
   ]
  },
  {
   "cell_type": "markdown",
   "metadata": {},
   "source": [
    "## <span style=\"color:darkred\">The Iris data set</span>\n",
    "***\n",
    "\n",
    "The data set contains 150 rows or samples in total, allowing for 50 observations of each of the three Species of Iris Flowers: *Iris setosa, Iris Versicolor and Iris Verginica*. Each of the three sepcies then have four characteristics or atributes: *Sepal length & width and Petal length & width*.\n",
    "\n",
    "</br>\n",
    "\n",
    "|Setosa|Virginica|Versicolor|\n",
    "|:-:|:-:|:-:|\n",
    "|![Setosa](https://upload.wikimedia.org/wikipedia/commons/thumb/a/a7/Irissetosa1.jpg/640px-Irissetosa1.jpg)|![Second Image](https://upload.wikimedia.org/wikipedia/commons/thumb/f/f8/Iris_virginica_2.jpg/480px-Iris_virginica_2.jpg)|![Second Image](https://upload.wikimedia.org/wikipedia/commons/thumb/2/27/Blue_Flag%2C_Ottawa.jpg/480px-Blue_Flag%2C_Ottawa.jpg)|\n",
    "\n",
    "Image Sources:</br>\n",
    "https://en.wikipedia.org/wiki/Iris_setosa <br/>\n",
    "https://en.wikipedia.org/wiki/Iris_versicolor <br/>\n",
    "https://en.wikipedia.org/wiki/Iris_virginica </br>\n",
    "</br>\n",
    "\n",
    "This data set was first introduced in [Ronald Fisher's](https://en.wikipedia.org/wiki/Ronald_Fisher)<sup>1</sup> 1936 paper [*The use of multiple measurements in taxonomic problems*](https://onlinelibrary.wiley.com/doi/epdf/10.1111/j.1469-1809.1936.tb02137.x) <sup>2</sup> and is commonly known as *Fisher's Iris data set* for this reason.\n",
    "\n",
    "</br>\n",
    "\n",
    "<figure>\n",
    "    <img src=\"https://upload.wikimedia.org/wikipedia/commons/a/aa/Youngronaldfisher2.JPG\"\n",
    "         height=\"250\"\n",
    "         alt=\"Ronald Fisher\">\n",
    "    <figcaption>Sir Ronald Fisher</figcaption>\n",
    "    <figcaption>Image source: https://en.wikipedia.org/wiki/Ronald_Fisher</figcaption>\n",
    "</figure>\n",
    "\n",
    "</br>\n",
    "\n",
    "However, it is also sometimes known as *Anderson's Iris data set* as it was [Edgar Anderson](https://en.wikipedia.org/wiki/Edgar_Anderson)<sup>3</sup> who collected the data for the compilation of the data set [Wikipedia, (2023)](https://en.wikipedia.org/wiki/Iris_flower_data_set)<sup>4</sup>.\n",
    "\n",
    "</br>\n",
    "\n",
    "<figure>\n",
    "    <img src=\"http://thedailygardener.org/wp-content/uploads/2019/12/Edgar-Shannon-Anderson-1.jpg\"\n",
    "         height=\"250\"\n",
    "         alt=\"Edgar Shannon Anderson\">\n",
    "    <figcaption>Edgar Shannon Anderson</figcaption>\n",
    "    <figcaption>Image source: https://thedailygardener.org/otb20190618/ </figcaption>\n",
    "</figure>\n",
    "\n"
   ]
  },
  {
   "cell_type": "markdown",
   "metadata": {},
   "source": [
    "## <span style=\"color:darkred\">Importing Libraries for this notebook</span>\n",
    "***"
   ]
  },
  {
   "cell_type": "markdown",
   "metadata": {},
   "source": [
    "## <span style=\"color:darkred\">References</span>\n",
    "***"
   ]
  },
  {
   "cell_type": "markdown",
   "metadata": {},
   "source": [
    "1. Wikipedia, (2023). Ronald Fisher. </br> https://en.wikipedia.org/wiki/Ronald_Fisher\n",
    "\n",
    "2. Wiley Online Library, (2023). THE USE OF MULTIPLE MEASUREMENTS IN TAXONOMIC PROBLEMS </br> https://onlinelibrary.wiley.com/doi/10.1111/j.1469-1809.1936.tb02137.x\n",
    "\n",
    "3. Wikipedia, (2023). Edgar Anderson. </br> https://en.wikipedia.org/wiki/Edgar_Anderson\n",
    "\n",
    "4. Wikipedia, (2023). *Iris* flower data set. </br> https://en.wikipedia.org/wiki/Iris_flower_data_set"
   ]
  },
  {
   "cell_type": "markdown",
   "metadata": {},
   "source": [
    "# <span style=\"color:darkred\">End</span>\n",
    "***"
   ]
  }
 ],
 "metadata": {
  "kernelspec": {
   "display_name": "base",
   "language": "python",
   "name": "python3"
  },
  "language_info": {
   "codemirror_mode": {
    "name": "ipython",
    "version": 3
   },
   "file_extension": ".py",
   "mimetype": "text/x-python",
   "name": "python",
   "nbconvert_exporter": "python",
   "pygments_lexer": "ipython3",
   "version": "3.11.5"
  }
 },
 "nbformat": 4,
 "nbformat_minor": 2
}
